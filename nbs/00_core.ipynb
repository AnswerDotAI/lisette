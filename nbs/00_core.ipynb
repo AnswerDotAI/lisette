{
 "cells": [
  {
   "cell_type": "markdown",
   "id": "798b1171",
   "metadata": {},
   "source": [
    "# core\n",
    "\n",
    "> lisette core"
   ]
  },
  {
   "cell_type": "code",
   "execution_count": null,
   "id": "4ebe320a",
   "metadata": {},
   "outputs": [],
   "source": [
    "#| default_exp core"
   ]
  },
  {
   "cell_type": "code",
   "execution_count": null,
   "id": "82380377",
   "metadata": {},
   "outputs": [],
   "source": [
    "#| export\n",
    "import litellm, json\n",
    "from litellm import completion, stream_chunk_builder\n",
    "from litellm.types.utils import ModelResponseStream,ModelResponse\n",
    "from litellm.utils import function_to_dict\n",
    "from toolslm.funccall import mk_ns, call_func\n",
    "from toolslm.funccall import get_schema\n",
    "from typing import Optional\n",
    "from fastcore.all import *"
   ]
  },
  {
   "cell_type": "markdown",
   "id": "69f20759",
   "metadata": {},
   "source": [
    "## LiteLLM"
   ]
  },
  {
   "cell_type": "markdown",
   "id": "c38c4ea2",
   "metadata": {},
   "source": [
    "Litellm provides an easy wrapper for most big LLM providers."
   ]
  },
  {
   "cell_type": "code",
   "execution_count": null,
   "id": "1a6a85dd",
   "metadata": {},
   "outputs": [],
   "source": [
    "ms = [\"gemini/gemini-2.5-flash\", \"claude-sonnet-4-20250514\", \"openai/gpt-4.1\"]"
   ]
  },
  {
   "cell_type": "markdown",
   "id": "5fa8988a",
   "metadata": {},
   "source": [
    "TODO: test mixed content/tool calls message (and mixed images too)."
   ]
  },
  {
   "cell_type": "code",
   "execution_count": null,
   "id": "d61cf441",
   "metadata": {},
   "outputs": [],
   "source": [
    "#| export\n",
    "@patch\n",
    "def _repr_markdown_(self: litellm.ModelResponse):\n",
    "    message = self.choices[0].message\n",
    "    content = ''\n",
    "    if message.content: content += message.content\n",
    "    if message.tool_calls:\n",
    "        tool_calls = [f\"\\n\\n🔧 {tc.function.name}({tc.function.arguments})\\n\" for tc in message.tool_calls]\n",
    "        content += \"\\n\".join(tool_calls)\n",
    "    if not content: content = str(message)\n",
    "    details = [\n",
    "        f\"id: `{self.id}`\",\n",
    "        f\"model: `{self.model}`\",\n",
    "        f\"finish_reason: `{self.choices[0].finish_reason}`\"\n",
    "    ]\n",
    "    if hasattr(self, 'usage') and self.usage: details.append(f\"usage: `{self.usage}`\")\n",
    "    det_str = '\\n- '.join(details)\n",
    "    \n",
    "    return f\"\"\"{content}\n",
    "\n",
    "<details>\n",
    "\n",
    "- {det_str}\n",
    "\n",
    "</details>\"\"\""
   ]
  },
  {
   "cell_type": "code",
   "execution_count": null,
   "id": "920d0288",
   "metadata": {},
   "outputs": [],
   "source": [
    "msg = [{'role':'user','content':'Hey there!', 'cache_control': {'type': 'ephemeral'}}]"
   ]
  },
  {
   "cell_type": "code",
   "execution_count": null,
   "id": "124c866d",
   "metadata": {},
   "outputs": [],
   "source": [
    "for m in ms:\n",
    "    display(f'=== {m} ===')\n",
    "    display(completion(m,msg))"
   ]
  },
  {
   "cell_type": "markdown",
   "id": "bad470e4",
   "metadata": {},
   "source": [
    "### Streaming"
   ]
  },
  {
   "cell_type": "code",
   "execution_count": null,
   "id": "9ad6fc2c",
   "metadata": {},
   "outputs": [],
   "source": [
    "#| export\n",
    "def stream_with_complete(gen, postproc=noop):\n",
    "    \"Extend streaming response chunks with the complete response\"\n",
    "    chunks = []\n",
    "    for chunk in gen:\n",
    "        chunks.append(chunk)\n",
    "        yield chunk\n",
    "    postproc(chunks)\n",
    "    return stream_chunk_builder(chunks)"
   ]
  },
  {
   "cell_type": "code",
   "execution_count": null,
   "id": "dedc4b5f",
   "metadata": {},
   "outputs": [],
   "source": [
    "from fastcore.xtras import SaveReturn"
   ]
  },
  {
   "cell_type": "code",
   "execution_count": null,
   "id": "a63ce765",
   "metadata": {},
   "outputs": [],
   "source": [
    "model = ms[1]"
   ]
  },
  {
   "cell_type": "code",
   "execution_count": null,
   "id": "46f16571",
   "metadata": {},
   "outputs": [],
   "source": [
    "r = completion(messages=msg, model=model, stream=True)\n",
    "r2 = SaveReturn(stream_with_complete(r))"
   ]
  },
  {
   "cell_type": "code",
   "execution_count": null,
   "id": "9797136b",
   "metadata": {},
   "outputs": [
    {
     "name": "stdout",
     "output_type": "stream",
     "text": [
      "Hello! Nice to meet you! How are you doing today?"
     ]
    }
   ],
   "source": [
    "for o in r2:\n",
    "    cts = o.choices[0].delta.content\n",
    "    if cts: print(cts, end='')"
   ]
  },
  {
   "cell_type": "code",
   "execution_count": null,
   "id": "897ec073",
   "metadata": {},
   "outputs": [
    {
     "data": {
      "text/markdown": [
       "Hello! Nice to meet you! How are you doing today?\n",
       "\n",
       "<details>\n",
       "\n",
       "- id: `chatcmpl-31c97548-50c6-443f-94ea-2b7cf94f54e1`\n",
       "- model: `claude-sonnet-4-20250514`\n",
       "- finish_reason: `stop`\n",
       "- usage: `Usage(completion_tokens=16, prompt_tokens=0, total_tokens=16, completion_tokens_details=CompletionTokensDetailsWrapper(accepted_prediction_tokens=None, audio_tokens=None, reasoning_tokens=0, rejected_prediction_tokens=None, text_tokens=None), prompt_tokens_details=None)`\n",
       "\n",
       "</details>"
      ],
      "text/plain": [
       "ModelResponse(id='chatcmpl-31c97548-50c6-443f-94ea-2b7cf94f54e1', created=1753162652, model='claude-sonnet-4-20250514', object='chat.completion', system_fingerprint=None, choices=[Choices(finish_reason='stop', index=0, message=Message(content='Hello! Nice to meet you! How are you doing today?', role='assistant', tool_calls=None, function_call=None, provider_specific_fields=None))], usage=Usage(completion_tokens=16, prompt_tokens=0, total_tokens=16, completion_tokens_details=CompletionTokensDetailsWrapper(accepted_prediction_tokens=None, audio_tokens=None, reasoning_tokens=0, rejected_prediction_tokens=None, text_tokens=None), prompt_tokens_details=None))"
      ]
     },
     "execution_count": null,
     "metadata": {},
     "output_type": "execute_result"
    }
   ],
   "source": [
    "r2.value"
   ]
  },
  {
   "cell_type": "markdown",
   "id": "bd8e11c0",
   "metadata": {},
   "source": [
    "### Tools"
   ]
  },
  {
   "cell_type": "code",
   "execution_count": null,
   "id": "4301402e",
   "metadata": {},
   "outputs": [],
   "source": [
    "#| export\n",
    "def _lite_mk_func(f):\n",
    "    if isinstance(f, dict): return f\n",
    "    return {'type':'function', 'function':get_schema(f, pname='parameters')}"
   ]
  },
  {
   "cell_type": "code",
   "execution_count": null,
   "id": "7b103600",
   "metadata": {},
   "outputs": [],
   "source": [
    "def simple_add(\n",
    "    a: int,   # first operand\n",
    "    b: int=0  # second operand\n",
    ") -> int:\n",
    "    \"Add two numbers together\"\n",
    "    print(f\"TOOL CALLED {a=} + {b=}\")\n",
    "    return a + b"
   ]
  },
  {
   "cell_type": "code",
   "execution_count": null,
   "id": "100fc27b",
   "metadata": {},
   "outputs": [
    {
     "data": {
      "text/plain": [
       "{'type': 'function',\n",
       " 'function': {'name': 'simple_add',\n",
       "  'description': 'Add two numbers together\\n\\nReturns:\\n- type: integer',\n",
       "  'parameters': {'type': 'object',\n",
       "   'properties': {'a': {'type': 'integer', 'description': 'first operand'},\n",
       "    'b': {'type': 'integer', 'description': 'second operand', 'default': 0}},\n",
       "   'required': ['a']}}}"
      ]
     },
     "execution_count": null,
     "metadata": {},
     "output_type": "execute_result"
    }
   ],
   "source": [
    "toolsc = _lite_mk_func(simple_add)\n",
    "toolsc"
   ]
  },
  {
   "cell_type": "code",
   "execution_count": null,
   "id": "a32754b2",
   "metadata": {},
   "outputs": [],
   "source": [
    "#| export\n",
    "def mk_user(s, cache=False):\n",
    "    res = {\"role\": \"user\", \"content\": s}\n",
    "    if cache: res['cache_control'] = {'type': 'ephemeral'}\n",
    "    return res"
   ]
  },
  {
   "cell_type": "code",
   "execution_count": null,
   "id": "8c2af29a",
   "metadata": {},
   "outputs": [],
   "source": [
    "tmsg = mk_user(\"What is 5478954793+547982745? How about 5479749754+9875438979? Always use tools for calculations, and describe what you'll do before using a tool. Where multiple tool calls are required, do them in a single response where possible.\")\n",
    "r = completion(model, [tmsg], tools=[toolsc])"
   ]
  },
  {
   "cell_type": "code",
   "execution_count": null,
   "id": "8bdb1817",
   "metadata": {},
   "outputs": [
    {
     "data": {
      "text/markdown": [
       "I'll help you calculate both of those addition problems using the simple_add tool. Let me perform both calculations for you:\n",
       "\n",
       "1. First, I'll calculate 5478954793 + 547982745\n",
       "2. Then, I'll calculate 5479749754 + 9875438979\n",
       "\n",
       "🔧 simple_add({\"a\": 5478954793, \"b\": 547982745})\n",
       "\n",
       "\n",
       "\n",
       "🔧 simple_add({\"a\": 5479749754, \"b\": 9875438979})\n",
       "\n",
       "\n",
       "<details>\n",
       "\n",
       "- id: `chatcmpl-7f609a10-8215-465d-9525-d0638f518978`\n",
       "- model: `claude-sonnet-4-20250514`\n",
       "- finish_reason: `tool_calls`\n",
       "- usage: `Usage(completion_tokens=199, prompt_tokens=475, total_tokens=674, completion_tokens_details=None, prompt_tokens_details=PromptTokensDetailsWrapper(audio_tokens=None, cached_tokens=0, text_tokens=None, image_tokens=None), cache_creation_input_tokens=0, cache_read_input_tokens=0)`\n",
       "\n",
       "</details>"
      ],
      "text/plain": [
       "ModelResponse(id='chatcmpl-7f609a10-8215-465d-9525-d0638f518978', created=1753162656, model='claude-sonnet-4-20250514', object='chat.completion', system_fingerprint=None, choices=[Choices(finish_reason='tool_calls', index=0, message=Message(content=\"I'll help you calculate both of those addition problems using the simple_add tool. Let me perform both calculations for you:\\n\\n1. First, I'll calculate 5478954793 + 547982745\\n2. Then, I'll calculate 5479749754 + 9875438979\", role='assistant', tool_calls=[ChatCompletionMessageToolCall(index=1, function=Function(arguments='{\"a\": 5478954793, \"b\": 547982745}', name='simple_add'), id='toolu_01TNC8CtoYUJrqipnG5zBYGd', type='function'), ChatCompletionMessageToolCall(index=2, function=Function(arguments='{\"a\": 5479749754, \"b\": 9875438979}', name='simple_add'), id='toolu_01STPhKH6PErNvvVM3cu5BCv', type='function')], function_call=None, provider_specific_fields={'citations': None, 'thinking_blocks': None}))], usage=Usage(completion_tokens=199, prompt_tokens=475, total_tokens=674, completion_tokens_details=None, prompt_tokens_details=PromptTokensDetailsWrapper(audio_tokens=None, cached_tokens=0, text_tokens=None, image_tokens=None), cache_creation_input_tokens=0, cache_read_input_tokens=0))"
      ]
     },
     "execution_count": null,
     "metadata": {},
     "output_type": "execute_result"
    }
   ],
   "source": [
    "r"
   ]
  },
  {
   "cell_type": "code",
   "execution_count": null,
   "id": "c4d81d05",
   "metadata": {},
   "outputs": [],
   "source": [
    "#| export\n",
    "def _lite_call_func(tc,ns,raise_on_err=True):\n",
    "    res = call_func(tc.function.name, json.loads(tc.function.arguments),ns=ns)\n",
    "    return {\"tool_call_id\": tc.id, \"role\": \"tool\", \"name\": tc.function.name, \"content\": str(res)}"
   ]
  },
  {
   "cell_type": "code",
   "execution_count": null,
   "id": "d5af607c",
   "metadata": {},
   "outputs": [
    {
     "name": "stdout",
     "output_type": "stream",
     "text": [
      "TOOL CALLED a=5478954793 + b=547982745\n",
      "TOOL CALLED a=5479749754 + b=9875438979\n"
     ]
    },
    {
     "data": {
      "text/plain": [
       "[{'tool_call_id': 'toolu_01TNC8CtoYUJrqipnG5zBYGd',\n",
       "  'role': 'tool',\n",
       "  'name': 'simple_add',\n",
       "  'content': '6026937538'},\n",
       " {'tool_call_id': 'toolu_01STPhKH6PErNvvVM3cu5BCv',\n",
       "  'role': 'tool',\n",
       "  'name': 'simple_add',\n",
       "  'content': '15355188733'}]"
      ]
     },
     "execution_count": null,
     "metadata": {},
     "output_type": "execute_result"
    }
   ],
   "source": [
    "tcs = [_lite_call_func(o, ns=globals()) for o in r.choices[0].message.tool_calls]\n",
    "tcs"
   ]
  },
  {
   "cell_type": "code",
   "execution_count": null,
   "id": "3dd9871b",
   "metadata": {},
   "outputs": [],
   "source": [
    "def delta_text(msg):\n",
    "    \"Extract printable content from streaming delta, return None if nothing to print\"\n",
    "    c = msg.choices[0]\n",
    "    if not c: return c\n",
    "    if not hasattr(c,'delta'): return None #f'{c}'\n",
    "    delta = c.delta\n",
    "    if delta.content: return delta.content\n",
    "    if delta.tool_calls:\n",
    "        res = ''.join(f\"🔧 {tc.function.name}\" for tc in delta.tool_calls if tc.id and tc.function.name)\n",
    "        if res: return f'\\n{res}'\n",
    "    if hasattr(delta,'reasoning_content'): return '🧠' if delta.reasoning_content else '\\n\\n'\n",
    "    return None"
   ]
  },
  {
   "cell_type": "code",
   "execution_count": null,
   "id": "e4790a51",
   "metadata": {},
   "outputs": [
    {
     "name": "stdout",
     "output_type": "stream",
     "text": [
      "I'll help you calculate both of those sums using"
     ]
    },
    {
     "name": "stdout",
     "output_type": "stream",
     "text": [
      " the addition tool. Let me perform both calculations for you:\n",
      "\n",
      "1"
     ]
    },
    {
     "name": "stdout",
     "output_type": "stream",
     "text": [
      ". First, I'll calculate 5478954793 + 547982745\n",
      "2. Then, I'll calculate 5479749754 + 9"
     ]
    },
    {
     "name": "stdout",
     "output_type": "stream",
     "text": [
      "875438979\n",
      "🔧 simple_add"
     ]
    },
    {
     "name": "stdout",
     "output_type": "stream",
     "text": [
      "\n",
      "🔧 simple_add"
     ]
    }
   ],
   "source": [
    "r = completion(messages=[tmsg], model=model, stream=True, tools=[toolsc])\n",
    "r2 = SaveReturn(stream_with_complete(r))\n",
    "for o in r2: print(delta_text(o) or '', end='')"
   ]
  },
  {
   "cell_type": "code",
   "execution_count": null,
   "id": "5b21118c",
   "metadata": {},
   "outputs": [
    {
     "data": {
      "text/markdown": [
       "I'll help you calculate both of those sums using the addition tool. Let me perform both calculations for you:\n",
       "\n",
       "1. First, I'll calculate 5478954793 + 547982745\n",
       "2. Then, I'll calculate 5479749754 + 9875438979\n",
       "\n",
       "🔧 simple_add({\"a\": 5478954793, \"b\": 547982745})\n",
       "\n",
       "\n",
       "\n",
       "🔧 simple_add({\"a\": 5479749754, \"b\": 9875438979})\n",
       "\n",
       "\n",
       "<details>\n",
       "\n",
       "- id: `chatcmpl-db44a956-6eed-4964-8c04-287b90977676`\n",
       "- model: `claude-sonnet-4-20250514`\n",
       "- finish_reason: `tool_calls`\n",
       "- usage: `Usage(completion_tokens=197, prompt_tokens=0, total_tokens=197, completion_tokens_details=CompletionTokensDetailsWrapper(accepted_prediction_tokens=None, audio_tokens=None, reasoning_tokens=0, rejected_prediction_tokens=None, text_tokens=None), prompt_tokens_details=None)`\n",
       "\n",
       "</details>"
      ],
      "text/plain": [
       "ModelResponse(id='chatcmpl-db44a956-6eed-4964-8c04-287b90977676', created=1753162657, model='claude-sonnet-4-20250514', object='chat.completion', system_fingerprint=None, choices=[Choices(finish_reason='tool_calls', index=0, message=Message(content=\"I'll help you calculate both of those sums using the addition tool. Let me perform both calculations for you:\\n\\n1. First, I'll calculate 5478954793 + 547982745\\n2. Then, I'll calculate 5479749754 + 9875438979\", role='assistant', tool_calls=[ChatCompletionMessageToolCall(function=Function(arguments='{\"a\": 5478954793, \"b\": 547982745}', name='simple_add'), id='toolu_01Hvgf6dMaUMM47tMPp7Qie2', type='function'), ChatCompletionMessageToolCall(function=Function(arguments='{\"a\": 5479749754, \"b\": 9875438979}', name='simple_add'), id='toolu_01N35DMkgJPnw4bd9i1fFYnq', type='function')], function_call=None, provider_specific_fields=None))], usage=Usage(completion_tokens=197, prompt_tokens=0, total_tokens=197, completion_tokens_details=CompletionTokensDetailsWrapper(accepted_prediction_tokens=None, audio_tokens=None, reasoning_tokens=0, rejected_prediction_tokens=None, text_tokens=None), prompt_tokens_details=None))"
      ]
     },
     "execution_count": null,
     "metadata": {},
     "output_type": "execute_result"
    }
   ],
   "source": [
    "r2.value"
   ]
  },
  {
   "cell_type": "code",
   "execution_count": null,
   "id": "f355ecbe",
   "metadata": {},
   "outputs": [
    {
     "name": "stdout",
     "output_type": "stream",
     "text": [
      "🧠🧠🧠"
     ]
    },
    {
     "name": "stdout",
     "output_type": "stream",
     "text": [
      "🧠🧠🧠"
     ]
    },
    {
     "name": "stdout",
     "output_type": "stream",
     "text": [
      "🧠🧠🧠🧠🧠"
     ]
    },
    {
     "name": "stdout",
     "output_type": "stream",
     "text": [
      "🧠🧠"
     ]
    },
    {
     "name": "stdout",
     "output_type": "stream",
     "text": [
      "🧠🧠"
     ]
    },
    {
     "name": "stdout",
     "output_type": "stream",
     "text": [
      "🧠🧠🧠"
     ]
    },
    {
     "name": "stdout",
     "output_type": "stream",
     "text": [
      "🧠🧠🧠"
     ]
    },
    {
     "name": "stdout",
     "output_type": "stream",
     "text": [
      "🧠🧠🧠"
     ]
    },
    {
     "name": "stdout",
     "output_type": "stream",
     "text": [
      "🧠🧠\n",
      "\n",
      "I'll find the derivative of f(x) = x³ + 2"
     ]
    },
    {
     "name": "stdout",
     "output_type": "stream",
     "text": [
      "x² - 5x + 1 using the power rule.\n",
      "\n",
      "**Step-by-step solution"
     ]
    },
    {
     "name": "stdout",
     "output_type": "stream",
     "text": [
      ":**\n",
      "\n",
      "Using the power rule: if f(x) = xⁿ, then f'(x) = nx"
     ]
    },
    {
     "name": "stdout",
     "output_type": "stream",
     "text": [
      "ⁿ⁻¹\n",
      "\n",
      "For each term:\n",
      "- d/dx(x³) = "
     ]
    },
    {
     "name": "stdout",
     "output_type": "stream",
     "text": [
      "3x²\n",
      "- d/dx(2x²) = 2 × 2x¹ = 4x  \n",
      "- d/dx(-5x"
     ]
    },
    {
     "name": "stdout",
     "output_type": "stream",
     "text": [
      ") = -5 × 1x⁰ = -5\n",
      "- d/dx(1) = 0 "
     ]
    },
    {
     "name": "stdout",
     "output_type": "stream",
     "text": [
      "(derivative of a constant)"
     ]
    },
    {
     "name": "stdout",
     "output_type": "stream",
     "text": [
      "\n",
      "\n",
      "**Therefore:**\n",
      "f'(x) = 3x² + 4x - 5\n",
      "\n",
      "The derivative is **3x² + 4x - "
     ]
    },
    {
     "name": "stdout",
     "output_type": "stream",
     "text": [
      "5**."
     ]
    }
   ],
   "source": [
    "msg = mk_user(\"Solve this complex math problem: What is the derivative of x^3 + 2x^2 - 5x + 1?\")\n",
    "r = completion(messages=[msg], model=model, stream=True, reasoning_effort=\"low\")\n",
    "r2 = SaveReturn(stream_with_complete(r))\n",
    "for o in r2: print(delta_text(o) or '', end='')\n"
   ]
  },
  {
   "cell_type": "code",
   "execution_count": null,
   "id": "30ff5f1a",
   "metadata": {},
   "outputs": [
    {
     "data": {
      "text/markdown": [
       "I'll find the derivative of f(x) = x³ + 2x² - 5x + 1 using the power rule.\n",
       "\n",
       "**Step-by-step solution:**\n",
       "\n",
       "Using the power rule: if f(x) = xⁿ, then f'(x) = nxⁿ⁻¹\n",
       "\n",
       "For each term:\n",
       "- d/dx(x³) = 3x²\n",
       "- d/dx(2x²) = 2 × 2x¹ = 4x  \n",
       "- d/dx(-5x) = -5 × 1x⁰ = -5\n",
       "- d/dx(1) = 0 (derivative of a constant)\n",
       "\n",
       "**Therefore:**\n",
       "f'(x) = 3x² + 4x - 5\n",
       "\n",
       "The derivative is **3x² + 4x - 5**.\n",
       "\n",
       "<details>\n",
       "\n",
       "- id: `chatcmpl-641f930d-b5c9-449c-9539-ac86fb68d649`\n",
       "- model: `claude-sonnet-4-20250514`\n",
       "- finish_reason: `stop`\n",
       "- usage: `Usage(completion_tokens=407, prompt_tokens=0, total_tokens=407, completion_tokens_details=CompletionTokensDetailsWrapper(accepted_prediction_tokens=None, audio_tokens=None, reasoning_tokens=176, rejected_prediction_tokens=None, text_tokens=None), prompt_tokens_details=None)`\n",
       "\n",
       "</details>"
      ],
      "text/plain": [
       "ModelResponse(id='chatcmpl-641f930d-b5c9-449c-9539-ac86fb68d649', created=1753162660, model='claude-sonnet-4-20250514', object='chat.completion', system_fingerprint=None, choices=[Choices(finish_reason='stop', index=0, message=Message(content=\"I'll find the derivative of f(x) = x³ + 2x² - 5x + 1 using the power rule.\\n\\n**Step-by-step solution:**\\n\\nUsing the power rule: if f(x) = xⁿ, then f'(x) = nxⁿ⁻¹\\n\\nFor each term:\\n- d/dx(x³) = 3x²\\n- d/dx(2x²) = 2 × 2x¹ = 4x  \\n- d/dx(-5x) = -5 × 1x⁰ = -5\\n- d/dx(1) = 0 (derivative of a constant)\\n\\n**Therefore:**\\nf'(x) = 3x² + 4x - 5\\n\\nThe derivative is **3x² + 4x - 5**.\", role='assistant', tool_calls=None, function_call=None, provider_specific_fields=None, thinking_blocks=[{'type': 'thinking', 'thinking': \"I need to find the derivative of the function f(x) = x³ + 2x² - 5x + 1.\\n\\nI'll use the power rule for derivatives, which states that if f(x) = x^n, then f'(x) = nx^(n-1).\\n\\nLet me differentiate each term:\\n\\n1) For x³: Using the power rule, the derivative is 3x²\\n2) For 2x²: Using the power rule, the derivative is 2 × 2x¹ = 4x\\n3) For -5x: This is -5x¹, so the derivative is -5 × 1x⁰ = -5\\n4) For the constant 1: The derivative of any constant is 0\\n\\nSo the derivative is: 3x² + 4x - 5\", 'signature': 'EpUFCkYIBRgCKkCivFJDl7O2QRX53XdRTCH/AH3k3nKrpf9CQd/p1dGGIv2WSzrsQkfjQRxF94Gz/SXqXdo6qaUHXcQqT/oPFec+EgyKGK/pgmoncsrOq6waDEeR3BN/90qUAziAGSIwLU7BZTj0WoIBdvAmuHgKUXEESzJGd5jaQDQkK1shHssCKdKmira1znMSMtHimE9MKvwDqvz5Vfqz5Dov6HLW+vknwmGi4qjp0/UHi+869Upd0016WAbHP0kHzxTJEez0A9b3Buz8ZJsF1az69m3/piMIbKkhpznNcIG+NIp1X5A7S9jtmoVLaWs+AICMiGmDKcjnuHHg9a3lZu5teq5eV4TaewCyKzWG/gh0zfFsWR0W3LUa0hqmdkleBjE36YxHDgFnwGmTNmI98LVmd6zt9lqJvdDfDxBlxsY269xaq1vylzxZXFp7RfiOsIxJBRDlIbHnrDoeL6OizGAvZCBdbsgQEOR+eoBp5KP0nl3qqpVqFUr6sm2FST83ewYymni25kJm6ueFqctduCAsoCf2cOCkm/oC1gduKGzjjkKfTNi/HRXa+NV0T+G9ypXjitegabS7KA2S5LXwzwnwEfFbgG0HcmugWcvCCc6kqBurVNaxzK0Dzjocjbbp6GMQM/wxbLAzu3fF7m3ExgJX9GGgyvOafb1vENNaSRxAxCOiuRugGYOcfzsOvl5eDS4FkXrxNJmBhWqtdDVQoaPK0ketWZyu9ZBZ/OD3M4bHKb3EQsZ8JbtWyUDM5Knxz5RK2jAgarc6+Mf/6WdaDEjRatIrqyDBHx+QLTcJ6ObG7aWymT3RPP0TI9sAjLOuaDk28UHZC1+spw+CLCBwWsdeSesATDROOngS/bn1sJWO8XGqTBgB'}], reasoning_content=\"I need to find the derivative of the function f(x) = x³ + 2x² - 5x + 1.\\n\\nI'll use the power rule for derivatives, which states that if f(x) = x^n, then f'(x) = nx^(n-1).\\n\\nLet me differentiate each term:\\n\\n1) For x³: Using the power rule, the derivative is 3x²\\n2) For 2x²: Using the power rule, the derivative is 2 × 2x¹ = 4x\\n3) For -5x: This is -5x¹, so the derivative is -5 × 1x⁰ = -5\\n4) For the constant 1: The derivative of any constant is 0\\n\\nSo the derivative is: 3x² + 4x - 5\"))], usage=Usage(completion_tokens=407, prompt_tokens=0, total_tokens=407, completion_tokens_details=CompletionTokensDetailsWrapper(accepted_prediction_tokens=None, audio_tokens=None, reasoning_tokens=176, rejected_prediction_tokens=None, text_tokens=None), prompt_tokens_details=None))"
      ]
     },
     "execution_count": null,
     "metadata": {},
     "output_type": "execute_result"
    }
   ],
   "source": [
    "r2.value"
   ]
  },
  {
   "cell_type": "code",
   "execution_count": null,
   "id": "acd33761",
   "metadata": {},
   "outputs": [
    {
     "data": {
      "text/markdown": [
       "There are 13 different otter species worldwide, with the U.S. home to two species: the sea otter and the North American river otter.\n",
       "\n",
       "Otters are distinguished by their long, slim bodies, powerful webbed feet for swimming, and their dense fur, which keeps them warm and buoyant in water. They are playful animals, engaging in activities like sliding into water on natural slides and playing with stones.\n",
       "\n",
       "Otters are carnivorous mammals in the subfamily Lutrinae, which is a branch of the Mustelidae family that includes weasels, badgers, and wolverines. The 13 species range in adult size from 0.6 to 1.8 m (2.0 to 5.9 ft) in length and 1 to 45 kg (2.2 to 99.2 lb) in weight.\n",
       "\n",
       "Sea otters have the densest fur of any animal on earth with an estimated 1 million hairs per square inch, while river otters are much smaller — averaging 10-30 pounds — with sea otters weighing around 45-90 pounds. Otters can stay underwater for eight minutes and swim up to seven miles per hour.\n",
       "\n",
       "Sea otters are one of the only marine mammals that uses tools, using rocks to crack open their favorite foods. Sea otters are considered a keystone species, helping keep sea urchin populations in control, which ensures kelp forests are not overgrazed.\n",
       "\n",
       "<details>\n",
       "\n",
       "- id: `chatcmpl-07ba79fc-ca89-4a5d-8348-26d743ff7e95`\n",
       "- model: `claude-sonnet-4-20250514`\n",
       "- finish_reason: `stop`\n",
       "- usage: `Usage(completion_tokens=583, prompt_tokens=13879, total_tokens=14462, completion_tokens_details=None, prompt_tokens_details=PromptTokensDetailsWrapper(audio_tokens=None, cached_tokens=0, text_tokens=None, image_tokens=None), server_tool_use=ServerToolUse(web_search_requests=1), cache_creation_input_tokens=0, cache_read_input_tokens=0)`\n",
       "\n",
       "</details>"
      ],
      "text/plain": [
       "ModelResponse(id='chatcmpl-07ba79fc-ca89-4a5d-8348-26d743ff7e95', created=1753162678, model='claude-sonnet-4-20250514', object='chat.completion', system_fingerprint=None, choices=[Choices(finish_reason='stop', index=0, message=Message(content='There are 13 different otter species worldwide, with the U.S. home to two species: the sea otter and the North American river otter.\\n\\nOtters are distinguished by their long, slim bodies, powerful webbed feet for swimming, and their dense fur, which keeps them warm and buoyant in water. They are playful animals, engaging in activities like sliding into water on natural slides and playing with stones.\\n\\nOtters are carnivorous mammals in the subfamily Lutrinae, which is a branch of the Mustelidae family that includes weasels, badgers, and wolverines. The 13 species range in adult size from 0.6 to 1.8 m (2.0 to 5.9 ft) in length and 1 to 45 kg (2.2 to 99.2 lb) in weight.\\n\\nSea otters have the densest fur of any animal on earth with an estimated 1 million hairs per square inch, while river otters are much smaller — averaging 10-30 pounds — with sea otters weighing around 45-90 pounds. Otters can stay underwater for eight minutes and swim up to seven miles per hour.\\n\\nSea otters are one of the only marine mammals that uses tools, using rocks to crack open their favorite foods. Sea otters are considered a keystone species, helping keep sea urchin populations in control, which ensures kelp forests are not overgrazed.', role='assistant', tool_calls=None, function_call=None, provider_specific_fields={'citations': [[{'type': 'web_search_result_location', 'cited_text': 'Thirteen different species exist around the globe. ', 'url': 'https://www.doi.gov/blog/12-facts-about-otters-sea-otter-awareness-week', 'title': '12 Facts About Otters for Sea Otter Awareness Week | U.S. Department of the Interior', 'encrypted_index': 'Eo8BCioIBRgCIiQ4ODk4YTFkYy0yMTNkLTRhNmYtOTljYi03ZTBlNTUzZDc0NWISDLxB6qhtyIaC79Y7PBoMwfl4casuryrnkhSPIjD4eRCWK8r0BYWkByat3HD0TC5+dhXbz8tIHVg0P0odTiiph8xxJi5J8gdRUYal2y8qExH74qCzXg+0ZXjN+Kl/asDrf4kYBA=='}], [{'type': 'web_search_result_location', 'cited_text': 'The U.S. is home to two species: the sea otter and the North American river otter. ', 'url': 'https://www.doi.gov/blog/12-facts-about-otters-sea-otter-awareness-week', 'title': '12 Facts About Otters for Sea Otter Awareness Week | U.S. Department of the Interior', 'encrypted_index': 'Eo8BCioIBRgCIiQ4ODk4YTFkYy0yMTNkLTRhNmYtOTljYi03ZTBlNTUzZDc0NWISDNjXMYHLulT3Wzn0NBoMCqSZGfszaIvSCkg9IjDQUo51yrd0Xchou07O3FkAOf7L8OiBYv4Ku5XVOj2CgbptspdF8z6ODIi/ij/EeVUqE/Kkm9zPSXo2Bq8gjJv6sDfefLEYBA=='}], [{'type': 'web_search_result_location', 'cited_text': 'Otters are distinguished by their long, slim bodies, powerful webbed feet for swimming, and their dense fur, which keeps them warm and buoyant in wate...', 'url': 'https://en.wikipedia.org/wiki/Otter', 'title': 'Otter - Wikipedia', 'encrypted_index': 'Eo8BCioIBRgCIiQ4ODk4YTFkYy0yMTNkLTRhNmYtOTljYi03ZTBlNTUzZDc0NWISDInT8UkGZqJ2cbPOYBoMXuu5oTGUCMIVyOpUIjBUX/IVif01t4keLfX2xrPb+XuEa5mjxnGtJF0YG/lwPjaTLgvRepJmcDJGqJJ2UW8qEwmQfbaLBcgz1kNeXqkCygYE2EoYBA=='}], [{'type': 'web_search_result_location', 'cited_text': 'They are playful animals, engaging in activities like sliding into water on natural slides and playing with stones.', 'url': 'https://en.wikipedia.org/wiki/Otter', 'title': 'Otter - Wikipedia', 'encrypted_index': 'Eo8BCioIBRgCIiQ4ODk4YTFkYy0yMTNkLTRhNmYtOTljYi03ZTBlNTUzZDc0NWISDKn5IBnKTJIGtvWxWhoMzzhI+qK3lIYfff6CIjDt0sPgaj9ZsOpeceC/VTKYJViSiqaTE5bnJlYlrrgyv2zMlSQlLM691fTIJWF8R9gqE7JZCSBkRqHRrkwnv8XpciaXSkcYBA=='}], [{'type': 'web_search_result_location', 'cited_text': 'Otters are carnivorous mammals in the subfamily Lutrinae. ', 'url': 'https://en.wikipedia.org/wiki/Otter', 'title': 'Otter - Wikipedia', 'encrypted_index': 'Eo8BCioIBRgCIiQ4ODk4YTFkYy0yMTNkLTRhNmYtOTljYi03ZTBlNTUzZDc0NWISDE7Jp+THQehQ3Ko2phoMz5fDb/CzuBS67MVXIjDeNuVxjhkF2lqk/zXDGpwqi97m/wmcF0Q6uBHQ09vmkuQjgCDnZHodF5w9CmSYhGcqE2RQsD/sNs3EZ+9y9hu24YSeRB4YBA=='}, {'type': 'web_search_result_location', 'cited_text': 'Lutrinae is a branch of the Mustelidae family, which includes weasels, badgers, mink, and wolverines, among other animals. ', 'url': 'https://en.wikipedia.org/wiki/Otter', 'title': 'Otter - Wikipedia', 'encrypted_index': 'Eo8BCioIBRgCIiQ4ODk4YTFkYy0yMTNkLTRhNmYtOTljYi03ZTBlNTUzZDc0NWISDBoACICCdfPvDBgD0BoMdk3DjUNnidAYrjXpIjChEeAILgf/7z9odNgk1/htBTRkOgRtD/AOe5jo/QITkHA6+z0bB3IthsPQP/Ax6p8qEzX++ut0XXYlpGN2cy1WUvxbQgEYBA=='}], [{'type': 'web_search_result_location', 'cited_text': 'The 13 species range in adult size from 0.6 to 1.8 m (2.0 to 5.9 ft) in length and 1 to 45 kg (2.2 to 99.2 lb) in weight. ', 'url': 'https://en.wikipedia.org/wiki/Otter', 'title': 'Otter - Wikipedia', 'encrypted_index': 'EpABCioIBRgCIiQ4ODk4YTFkYy0yMTNkLTRhNmYtOTljYi03ZTBlNTUzZDc0NWISDBZeO7PYx4EaDVE9axoMvUc3Hc93AElqzOmwIjAfhkjlFjUo39wwwcp07T23vE7XfxW4/Xiky91kLBuf0Rwe8wiAEh/tlSgZGK8M58IqFHifEJfRcLIibVEFifIEBYQHu8I+GAQ='}], [{'type': 'web_search_result_location', 'cited_text': 'Sea otters have the densest fur of any animal on earth with an estimated 1 million hairs per square inch. ', 'url': 'https://oceana.ca/en/blog/10-amazing-facts-about-sea-otters/', 'title': '10 Amazing Facts about Sea otters! Learn more - Oceana Canada', 'encrypted_index': 'Eo8BCioIBRgCIiQ4ODk4YTFkYy0yMTNkLTRhNmYtOTljYi03ZTBlNTUzZDc0NWISDGZM/1jQQCJTz9ILZRoMFT9Jok6xWAGQxYR7IjDcjFMYb9KMEABKkH0xc6IzbYg1h184ds/2gunvXdktupW9LkyMHHqrEu2i12qNaDkqE+t358OF5xai0wNBKld+o/xMaQoYBA=='}], [{'type': 'web_search_result_location', 'cited_text': 'River otters are much smaller — averaging 10-30 pounds — with a cylindrical body and small head. Sea otters weigh more — around 45-90 pounds — with la...', 'url': 'https://www.doi.gov/blog/12-facts-about-otters-sea-otter-awareness-week', 'title': '12 Facts About Otters for Sea Otter Awareness Week | U.S. Department of the Interior', 'encrypted_index': 'EpIBCioIBRgCIiQ4ODk4YTFkYy0yMTNkLTRhNmYtOTljYi03ZTBlNTUzZDc0NWISDNzk4F1I5wJpNcZ54RoMP6j0YFBfMDzP8NMHIjDrtKZ6l+BeKK/g1zaCaPaaQVpUZwsR3eNMffut2iiAgSXMiR0zdwcUuGmdbp4RlPQqFmiazVHE/DhEjVBA5m19qSu8cKDoV2gYBA=='}], [{'type': 'web_search_result_location', 'cited_text': '... Otters can stay under water for eight minutes. ... As a sometimes aquatic creature, it shouldn’t be a surprise that otters can swim up to seven mi...', 'url': 'https://www.nationalforests.org/blog/seven-quick-facts-about-river-otters', 'title': 'Seven Quick Facts About River Otters - National Forest Foundation', 'encrypted_index': 'EpEBCioIBRgCIiQ4ODk4YTFkYy0yMTNkLTRhNmYtOTljYi03ZTBlNTUzZDc0NWISDPvkJbYE5xGx3A1bvhoMS5QF92aJr5P+SuFJIjCzZOb6l/Ml0mE+VRTzXC1fKLpCARoQCtB67ijfwrXpJDaXkU58dUmcNOi7I/Tf1OIqFVlsBNyiCnU5YxyQu9XXTfhF2kqXVRgE'}], [{'type': 'web_search_result_location', 'cited_text': 'Sea otters are one of the only marine mammals that uses tools. All of their favorite foods need to be cracked open to eat, so these intelligent animal...', 'url': 'https://oceana.ca/en/blog/10-amazing-facts-about-sea-otters/', 'title': '10 Amazing Facts about Sea otters! Learn more - Oceana Canada', 'encrypted_index': 'EpMBCioIBRgCIiQ4ODk4YTFkYy0yMTNkLTRhNmYtOTljYi03ZTBlNTUzZDc0NWISDLJIOOKL2tWoehxO6RoMpnD92m14YgHHzdqoIjAfrJqszgYrCzHy9nM7xBSub3xXYaso3Nff8wtRndkjfT/e16vHYoR3zHyQBuseBecqF6lgiit8vzzPc3nsabzk31thfZga2pqPGAQ='}], [{'type': 'web_search_result_location', 'cited_text': 'Sea otters are considered a keystone species.', 'url': 'https://oceana.ca/en/blog/10-amazing-facts-about-sea-otters/', 'title': '10 Amazing Facts about Sea otters! Learn more - Oceana Canada', 'encrypted_index': 'EpABCioIBRgCIiQ4ODk4YTFkYy0yMTNkLTRhNmYtOTljYi03ZTBlNTUzZDc0NWISDB4pCd8ZEcHZRjfgyhoMIJN14DEsW8nHq83VIjD+RidN7T0CEyzhY+8HgSeBW7CsEYDT1JjGFF28x3KElfX8C3l9yAYv+1KqJpnllZEqFJJNpXOoLo7ZyBh3j/fNXXIxRVu6GAQ='}, {'type': 'web_search_result_location', 'cited_text': 'Sea otters help keep sea urchin populations in control by eating them, which in turn ensures kelp forests are not being overgrazed and damaged by larg...', 'url': 'https://oceana.ca/en/blog/10-amazing-facts-about-sea-otters/', 'title': '10 Amazing Facts about Sea otters! Learn more - Oceana Canada', 'encrypted_index': 'EpABCioIBRgCIiQ4ODk4YTFkYy0yMTNkLTRhNmYtOTljYi03ZTBlNTUzZDc0NWISDIT9rQi3BewGCrUlkxoMy2s1Vmhs+rY1l/jYIjBArlDtBPkUt7GVfnyyZvsAv0iqDipS7XRhQxEcy3p/pLFfr3DkV4gpvy67AO57ATsqFLiiFis6jSy/HfiebH2pXHMwWGERGAQ='}]], 'thinking_blocks': None}))], usage=Usage(completion_tokens=583, prompt_tokens=13879, total_tokens=14462, completion_tokens_details=None, prompt_tokens_details=PromptTokensDetailsWrapper(audio_tokens=None, cached_tokens=0, text_tokens=None, image_tokens=None), server_tool_use=ServerToolUse(web_search_requests=1), cache_creation_input_tokens=0, cache_read_input_tokens=0))"
      ]
     },
     "execution_count": null,
     "metadata": {},
     "output_type": "execute_result"
    }
   ],
   "source": [
    "search_tool = { \"type\": \"web_search_20250305\", \"name\": \"web_search\", \"max_uses\": 3}\n",
    "smsg = mk_user(\"Search the web and tell me very briefly about otters\")\n",
    "r = completion(ms[1], [smsg], tools=[search_tool])\n",
    "r"
   ]
  },
  {
   "cell_type": "markdown",
   "id": "abaeeee1",
   "metadata": {},
   "source": [
    "When not using streaming, all citations are placed in a separate key in the response:"
   ]
  },
  {
   "cell_type": "code",
   "execution_count": null,
   "id": "cf84f8c8",
   "metadata": {},
   "outputs": [
    {
     "data": {
      "text/plain": [
       "[{'type': 'web_search_result_location',\n",
       "  'cited_text': 'Thirteen different species exist around the globe. ',\n",
       "  'url': 'https://www.doi.gov/blog/12-facts-about-otters-sea-otter-awareness-week',\n",
       "  'title': '12 Facts About Otters for Sea Otter Awareness Week | U.S. Department of the Interior',\n",
       "  'encrypted_index': 'Eo8BCioIBRgCIiQ4ODk4YTFkYy0yMTNkLTRhNmYtOTljYi03ZTBlNTUzZDc0NWISDLxB6qhtyIaC79Y7PBoMwfl4casuryrnkhSPIjD4eRCWK8r0BYWkByat3HD0TC5+dhXbz8tIHVg0P0odTiiph8xxJi5J8gdRUYal2y8qExH74qCzXg+0ZXjN+Kl/asDrf4kYBA=='}]"
      ]
     },
     "execution_count": null,
     "metadata": {},
     "output_type": "execute_result"
    }
   ],
   "source": [
    "r.choices[0].message.provider_specific_fields['citations'][0]"
   ]
  },
  {
   "cell_type": "code",
   "execution_count": null,
   "id": "fc3ce342",
   "metadata": {},
   "outputs": [],
   "source": [
    "r = list(completion(ms[1], [smsg], tools=[search_tool], stream=True))"
   ]
  },
  {
   "cell_type": "code",
   "execution_count": null,
   "id": "fc341e7e",
   "metadata": {},
   "outputs": [],
   "source": [
    "#| export\n",
    "def cite_footnotes(stream_list):\n",
    "    \"Add markdown footnote citations to stream deltas\"\n",
    "    for msg in stream_list:\n",
    "        delta = nested_idx(msg, 'choices', 0, 'delta')\n",
    "        if not delta: continue\n",
    "        citation = nested_idx(delta, 'provider_specific_fields', 'citation')\n",
    "        if citation:\n",
    "            title = citation['title'].replace('\"', '\\\\\"')\n",
    "            delta.content = f'[*]({citation[\"url\"]} \"{title}\") '"
   ]
  },
  {
   "cell_type": "code",
   "execution_count": null,
   "id": "c2150365",
   "metadata": {},
   "outputs": [
    {
     "data": {
      "text/markdown": [
       "Otters are fascinating aquatic mammals! Here are the key facts:\n",
       "\n",
       "[*](https://en.wikipedia.org/wiki/Otter \"Otter - Wikipedia\") Otters are carnivorous mammals in the subfamily Lutrinae, with 13 extant species that are all semiaquatic, aquatic, or marine. [*](https://en.wikipedia.org/wiki/Otter \"Otter - Wikipedia\") They belong to the Mustelidae family, which includes weasels, badgers, mink, and wolverines.\n",
       "\n",
       "**Physical Features:** [*](https://en.wikipedia.org/wiki/Otter \"Otter - Wikipedia\") Otters are distinguished by their long, slim bodies, powerful webbed feet for swimming, and their dense fur, which keeps them warm and buoyant in water. [*](https://oceana.ca/en/blog/10-amazing-facts-about-sea-otters/ \"10 Amazing Facts about Sea otters! Learn more - Oceana Canada\") Sea otters have the densest fur of any animal on earth with an estimated 1 million hairs per square inch.\n",
       "\n",
       "**Behavior:** [*](https://en.wikipedia.org/wiki/Otter \"Otter - Wikipedia\") They are playful animals, engaging in activities like sliding into water on natural slides and playing with stones. [*](https://www.nationalforests.org/blog/seven-quick-facts-about-river-otters \"Seven Quick Facts About River Otters - National Forest Foundation\") In the winter, otters have found the easiest and perhaps most fun way to get around is by sliding, and after a few bumps, they can slide up to 22 feet on the ice.\n",
       "\n",
       "**Abilities:** [*](https://www.doi.gov/blog/12-facts-about-otters-sea-otter-awareness-week \"12 Facts About Otters for Sea Otter Awareness Week | U.S. Department of the Interior\") River otters can hold their breath for up to 8 minutes. [*](https://www.nationalforests.org/blog/seven-quick-facts-about-river-otters \"Seven Quick Facts About River Otters - National Forest Foundation\") Otters can swim up to seven miles per hour and dive down 60 feet. [*](https://oceana.ca/en/blog/10-amazing-facts-about-sea-otters/ \"10 Amazing Facts about Sea otters! Learn more - Oceana Canada\") Sea otters are one of the only marine mammals that uses tools, using rocks to crack open shellfish.\n",
       "\n",
       "**Diet and Habitat:** [*](https://en.wikipedia.org/wiki/Otter \"Otter - Wikipedia\") Their usual source of food is fish, and further downriver, eels, but they may sample frogs and birds. [*](https://en.wikipedia.org/wiki/Otter \"Otter - Wikipedia\") The 13 species range in adult size from 0.6 to 1.8 m in length and 1 to 45 kg in weight, with the Asian small-clawed otter being the smallest and the giant otter and sea otter being the largest.\n",
       "\n",
       "<details>\n",
       "\n",
       "- id: `chatcmpl-73252916-33ac-49fb-9994-96c2170b27fa`\n",
       "- model: `claude-sonnet-4-20250514`\n",
       "- finish_reason: `stop`\n",
       "- usage: `Usage(completion_tokens=619, prompt_tokens=13695, total_tokens=14314, completion_tokens_details=CompletionTokensDetailsWrapper(accepted_prediction_tokens=None, audio_tokens=None, reasoning_tokens=0, rejected_prediction_tokens=None, text_tokens=None), prompt_tokens_details=None)`\n",
       "\n",
       "</details>"
      ],
      "text/plain": [
       "ModelResponse(id='chatcmpl-73252916-33ac-49fb-9994-96c2170b27fa', created=1753162680, model='claude-sonnet-4-20250514', object='chat.completion', system_fingerprint=None, choices=[Choices(finish_reason='stop', index=0, message=Message(content='Otters are fascinating aquatic mammals! Here are the key facts:\\n\\n[*](https://en.wikipedia.org/wiki/Otter \"Otter - Wikipedia\") Otters are carnivorous mammals in the subfamily Lutrinae, with 13 extant species that are all semiaquatic, aquatic, or marine. [*](https://en.wikipedia.org/wiki/Otter \"Otter - Wikipedia\") They belong to the Mustelidae family, which includes weasels, badgers, mink, and wolverines.\\n\\n**Physical Features:** [*](https://en.wikipedia.org/wiki/Otter \"Otter - Wikipedia\") Otters are distinguished by their long, slim bodies, powerful webbed feet for swimming, and their dense fur, which keeps them warm and buoyant in water. [*](https://oceana.ca/en/blog/10-amazing-facts-about-sea-otters/ \"10 Amazing Facts about Sea otters! Learn more - Oceana Canada\") Sea otters have the densest fur of any animal on earth with an estimated 1 million hairs per square inch.\\n\\n**Behavior:** [*](https://en.wikipedia.org/wiki/Otter \"Otter - Wikipedia\") They are playful animals, engaging in activities like sliding into water on natural slides and playing with stones. [*](https://www.nationalforests.org/blog/seven-quick-facts-about-river-otters \"Seven Quick Facts About River Otters - National Forest Foundation\") In the winter, otters have found the easiest and perhaps most fun way to get around is by sliding, and after a few bumps, they can slide up to 22 feet on the ice.\\n\\n**Abilities:** [*](https://www.doi.gov/blog/12-facts-about-otters-sea-otter-awareness-week \"12 Facts About Otters for Sea Otter Awareness Week | U.S. Department of the Interior\") River otters can hold their breath for up to 8 minutes. [*](https://www.nationalforests.org/blog/seven-quick-facts-about-river-otters \"Seven Quick Facts About River Otters - National Forest Foundation\") Otters can swim up to seven miles per hour and dive down 60 feet. [*](https://oceana.ca/en/blog/10-amazing-facts-about-sea-otters/ \"10 Amazing Facts about Sea otters! Learn more - Oceana Canada\") Sea otters are one of the only marine mammals that uses tools, using rocks to crack open shellfish.\\n\\n**Diet and Habitat:** [*](https://en.wikipedia.org/wiki/Otter \"Otter - Wikipedia\") Their usual source of food is fish, and further downriver, eels, but they may sample frogs and birds. [*](https://en.wikipedia.org/wiki/Otter \"Otter - Wikipedia\") The 13 species range in adult size from 0.6 to 1.8 m in length and 1 to 45 kg in weight, with the Asian small-clawed otter being the smallest and the giant otter and sea otter being the largest.', role='assistant', tool_calls=[], function_call=None, provider_specific_fields=None))], usage=Usage(completion_tokens=619, prompt_tokens=13695, total_tokens=14314, completion_tokens_details=CompletionTokensDetailsWrapper(accepted_prediction_tokens=None, audio_tokens=None, reasoning_tokens=0, rejected_prediction_tokens=None, text_tokens=None), prompt_tokens_details=None))"
      ]
     },
     "execution_count": null,
     "metadata": {},
     "output_type": "execute_result"
    }
   ],
   "source": [
    "cite_footnotes(r)\n",
    "stream_chunk_builder(r)"
   ]
  },
  {
   "cell_type": "markdown",
   "id": "29018310",
   "metadata": {},
   "source": [
    "## Chat"
   ]
  },
  {
   "cell_type": "markdown",
   "id": "da9223dc",
   "metadata": {},
   "source": [
    "Litellm is pretty bare bones. It doesnt keep track of conversation history or anything.\n",
    "\n",
    "So lets make a claudette style wrapper so we can do streaming, toolcalling, and toolloops without problems."
   ]
  },
  {
   "cell_type": "code",
   "execution_count": null,
   "id": "266f3d5d",
   "metadata": {},
   "outputs": [],
   "source": [
    "#| export\n",
    "class Chat:\n",
    "    def __init__(self, model:str, sp='', temp=0, tools:list=None, hist:list=None, ns:Optional[dict]=None, cache=False):\n",
    "        \"LiteLLM chat client.\"\n",
    "        self.model = model\n",
    "        hist,tools = listify(hist),listify(tools)\n",
    "        if ns is None and tools: ns = mk_ns(tools)\n",
    "        elif ns is None: ns = globals()\n",
    "        self.tool_schemas = [_lite_mk_func(t) for t in tools] if tools else None\n",
    "        store_attr()\n",
    "    \n",
    "    def _prepare_msgs(self, msg=None):\n",
    "        \"Prepare the messages list for the API call\"\n",
    "        msgs = [{\"role\": \"system\", \"content\": self.sp}] if self.sp else []\n",
    "        self.hist += [mk_user(msg, cache=self.cache)] if isinstance(msg, str) \\\n",
    "            else [msg] if isinstance(msg, dict) \\\n",
    "            else [] if msg is None \\\n",
    "            else msg\n",
    "        return msgs + [m if isinstance(m, dict) else m.model_dump() for m in self.hist]\n",
    "\n",
    "    def _call(self, msg=None, stream=False, max_tool_rounds=1, tool_round=0, final_prompt=None, tool_choice=None, **kwargs):\n",
    "        \"Internal method that always yields responses\"\n",
    "        msgs = self._prepare_msgs(msg)\n",
    "        res = completion(model=self.model, messages=msgs, stream=stream, \n",
    "                         tools=self.tool_schemas, temperature=self.temp, **kwargs)\n",
    "        if stream: res = yield from stream_with_complete(res, postproc=cite_footnotes)\n",
    "        m = res.choices[0].message\n",
    "        self.hist.append(m)\n",
    "        yield res\n",
    "\n",
    "        if tcs := m.tool_calls:\n",
    "            tool_results = [_lite_call_func(tc, ns=self.ns) for tc in tcs]\n",
    "            if tool_round>=max_tool_rounds-1:\n",
    "                tool_results += ([{\"role\": \"user\", \"content\": final_prompt}] if final_prompt else [])\n",
    "                tool_choice='none'\n",
    "            yield from self._call(\n",
    "                tool_results, stream, max_tool_rounds, tool_round+1,\n",
    "                final_prompt, tool_choice=tool_choice, **kwargs)\n",
    "    \n",
    "    def __call__(self, msg=None, stream=False, max_tool_rounds=1,\n",
    "                 final_prompt=None, return_all=False, **kwargs):\n",
    "        \"Main call method - handles streaming vs non-streaming\"\n",
    "        result_gen = self._call(msg, stream, max_tool_rounds, 0, final_prompt, **kwargs)     \n",
    "        if stream: return result_gen              # streaming\n",
    "        elif return_all: return list(result_gen)  # toolloop behavior\n",
    "        else: return last(result_gen)             # normal chat behavior"
   ]
  },
  {
   "cell_type": "markdown",
   "id": "1dbf319a",
   "metadata": {},
   "source": [
    "### Test history tracking"
   ]
  },
  {
   "cell_type": "code",
   "execution_count": null,
   "id": "957ccd1e",
   "metadata": {},
   "outputs": [
    {
     "data": {
      "text/markdown": [
       "Hi Rens! Nice to meet you. How can I help you today? 😊\n",
       "\n",
       "<details>\n",
       "\n",
       "- id: `chatcmpl-Bw0PFeoINzP5ECTVEkHrTViHkZIuO`\n",
       "- model: `gpt-4.1-2025-04-14`\n",
       "- finish_reason: `stop`\n",
       "- usage: `Usage(completion_tokens=17, prompt_tokens=13, total_tokens=30, completion_tokens_details=CompletionTokensDetailsWrapper(accepted_prediction_tokens=0, audio_tokens=0, reasoning_tokens=0, rejected_prediction_tokens=0, text_tokens=None), prompt_tokens_details=PromptTokensDetailsWrapper(audio_tokens=0, cached_tokens=0, text_tokens=None, image_tokens=None))`\n",
       "\n",
       "</details>"
      ],
      "text/plain": [
       "ModelResponse(id='chatcmpl-Bw0PFeoINzP5ECTVEkHrTViHkZIuO', created=1753164285, model='gpt-4.1-2025-04-14', object='chat.completion', system_fingerprint=None, choices=[Choices(finish_reason='stop', index=0, message=Message(content='Hi Rens! Nice to meet you. How can I help you today? 😊', role='assistant', tool_calls=None, function_call=None, provider_specific_fields={'refusal': None}, annotations=[]), provider_specific_fields={})], usage=Usage(completion_tokens=17, prompt_tokens=13, total_tokens=30, completion_tokens_details=CompletionTokensDetailsWrapper(accepted_prediction_tokens=0, audio_tokens=0, reasoning_tokens=0, rejected_prediction_tokens=0, text_tokens=None), prompt_tokens_details=PromptTokensDetailsWrapper(audio_tokens=0, cached_tokens=0, text_tokens=None, image_tokens=None)), service_tier='default')"
      ]
     },
     "execution_count": null,
     "metadata": {},
     "output_type": "execute_result"
    }
   ],
   "source": [
    "chat = Chat(m)\n",
    "res = chat(\"Hey my name is Rens\")\n",
    "res"
   ]
  },
  {
   "cell_type": "code",
   "execution_count": null,
   "id": "5978da56",
   "metadata": {},
   "outputs": [
    {
     "data": {
      "text/markdown": [
       "Your name is Rens!\n",
       "\n",
       "<details>\n",
       "\n",
       "- id: `chatcmpl-Bw02hC1bb1juO1O0JCmJRIVyRt8sW`\n",
       "- model: `gpt-4.1-2025-04-14`\n",
       "- finish_reason: `stop`\n",
       "- usage: `Usage(completion_tokens=6, prompt_tokens=41, total_tokens=47, completion_tokens_details=CompletionTokensDetailsWrapper(accepted_prediction_tokens=0, audio_tokens=0, reasoning_tokens=0, rejected_prediction_tokens=0, text_tokens=None), prompt_tokens_details=PromptTokensDetailsWrapper(audio_tokens=0, cached_tokens=0, text_tokens=None, image_tokens=None))`\n",
       "\n",
       "</details>"
      ],
      "text/plain": [
       "ModelResponse(id='chatcmpl-Bw02hC1bb1juO1O0JCmJRIVyRt8sW', created=1753162887, model='gpt-4.1-2025-04-14', object='chat.completion', system_fingerprint='fp_799e4ca3f1', choices=[Choices(finish_reason='stop', index=0, message=Message(content='Your name is Rens!', role='assistant', tool_calls=None, function_call=None, provider_specific_fields={'refusal': None}, annotations=[]), provider_specific_fields={})], usage=Usage(completion_tokens=6, prompt_tokens=41, total_tokens=47, completion_tokens_details=CompletionTokensDetailsWrapper(accepted_prediction_tokens=0, audio_tokens=0, reasoning_tokens=0, rejected_prediction_tokens=0, text_tokens=None), prompt_tokens_details=PromptTokensDetailsWrapper(audio_tokens=0, cached_tokens=0, text_tokens=None, image_tokens=None)), service_tier='default')"
      ]
     },
     "execution_count": null,
     "metadata": {},
     "output_type": "execute_result"
    }
   ],
   "source": [
    "chat(\"Whats my name\")"
   ]
  },
  {
   "cell_type": "markdown",
   "id": "8dbb77c7",
   "metadata": {},
   "source": [
    "See now we keep track of history!"
   ]
  },
  {
   "cell_type": "markdown",
   "id": "46716033",
   "metadata": {},
   "source": [
    "### Testing streaming"
   ]
  },
  {
   "cell_type": "code",
   "execution_count": null,
   "id": "3fe74496",
   "metadata": {},
   "outputs": [],
   "source": [
    "from time import sleep\n",
    "chat2 = Chat(m)\n",
    "stream_gen = chat2(\"Count to 5\", stream=True)\n",
    "for chunk in stream_gen:\n",
    "    sleep(0.1)  # for effect\n",
    "    if isinstance(chunk, ModelResponse): display(chunk)\n",
    "    else: print(delta_text(chunk) or '',end='')"
   ]
  },
  {
   "cell_type": "markdown",
   "id": "3b8c3666",
   "metadata": {},
   "source": [
    "## Test tool use"
   ]
  },
  {
   "cell_type": "markdown",
   "id": "bf17377a",
   "metadata": {},
   "source": [
    "Ok now lets test tool use"
   ]
  },
  {
   "cell_type": "code",
   "execution_count": null,
   "id": "1c4cf429",
   "metadata": {},
   "outputs": [],
   "source": [
    "for m in ms:\n",
    "    display(f'=== {m} ===')\n",
    "    chat = Chat(m, tools=[simple_add])\n",
    "    res = chat(\"What's 5 + 3?\")\n",
    "    display(res)"
   ]
  },
  {
   "cell_type": "code",
   "execution_count": null,
   "id": "afd9a499",
   "metadata": {},
   "outputs": [],
   "source": [
    "chat = Chat(ms[1], tools=[search_tool])\n",
    "res = chat(\"Search the web and tell me very briefly about otters\", stream=True)\n",
    "for o in res:\n",
    "    if isinstance(o, ModelResponse): sleep(0.01); display(o)\n",
    "    else: print(delta_text(o) or '',end='')"
   ]
  },
  {
   "cell_type": "markdown",
   "id": "d8cce2d9",
   "metadata": {},
   "source": [
    "## Test multi tool calling"
   ]
  },
  {
   "cell_type": "code",
   "execution_count": null,
   "id": "662f7aa3",
   "metadata": {},
   "outputs": [
    {
     "name": "stdout",
     "output_type": "stream",
     "text": [
      "TOOL CALLED a=5 + b=3\n",
      "TOOL CALLED a=8 + b=7\n",
      "TOOL CALLED a=15 + b=11\n"
     ]
    },
    {
     "data": {
      "text/markdown": [
       "I'll solve this step by step using the addition function.\n",
       "\n",
       "First, let me calculate 5 + 3:\n",
       "\n",
       "🔧 simple_add({\"a\": 5, \"b\": 3})\n",
       "\n",
       "\n",
       "<details>\n",
       "\n",
       "- id: `chatcmpl-226fd536-b757-4990-8ac4-45333928e431`\n",
       "- model: `claude-sonnet-4-20250514`\n",
       "- finish_reason: `tool_calls`\n",
       "- usage: `Usage(completion_tokens=96, prompt_tokens=434, total_tokens=530, completion_tokens_details=None, prompt_tokens_details=PromptTokensDetailsWrapper(audio_tokens=None, cached_tokens=0, text_tokens=None, image_tokens=None), cache_creation_input_tokens=0, cache_read_input_tokens=0)`\n",
       "\n",
       "</details>"
      ],
      "text/plain": [
       "ModelResponse(id='chatcmpl-226fd536-b757-4990-8ac4-45333928e431', created=1753077754, model='claude-sonnet-4-20250514', object='chat.completion', system_fingerprint=None, choices=[Choices(finish_reason='tool_calls', index=0, message=Message(content=\"I'll solve this step by step using the addition function.\\n\\nFirst, let me calculate 5 + 3:\", role='assistant', tool_calls=[ChatCompletionMessageToolCall(index=1, function=Function(arguments='{\"a\": 5, \"b\": 3}', name='simple_add'), id='toolu_0163YPp9zhZqdK6jVd5tSeC9', type='function')], function_call=None, provider_specific_fields={'citations': None, 'thinking_blocks': None}))], usage=Usage(completion_tokens=96, prompt_tokens=434, total_tokens=530, completion_tokens_details=None, prompt_tokens_details=PromptTokensDetailsWrapper(audio_tokens=None, cached_tokens=0, text_tokens=None, image_tokens=None), cache_creation_input_tokens=0, cache_read_input_tokens=0))"
      ]
     },
     "metadata": {},
     "output_type": "display_data"
    },
    {
     "data": {
      "text/markdown": [
       "Now I'll add 7 to that result (8 + 7):\n",
       "\n",
       "🔧 simple_add({\"a\": 8, \"b\": 7})\n",
       "\n",
       "\n",
       "<details>\n",
       "\n",
       "- id: `chatcmpl-db2a71fc-f6d2-47e0-b73a-9eb2b5f26d6f`\n",
       "- model: `claude-sonnet-4-20250514`\n",
       "- finish_reason: `tool_calls`\n",
       "- usage: `Usage(completion_tokens=88, prompt_tokens=543, total_tokens=631, completion_tokens_details=None, prompt_tokens_details=PromptTokensDetailsWrapper(audio_tokens=None, cached_tokens=0, text_tokens=None, image_tokens=None), cache_creation_input_tokens=0, cache_read_input_tokens=0)`\n",
       "\n",
       "</details>"
      ],
      "text/plain": [
       "ModelResponse(id='chatcmpl-db2a71fc-f6d2-47e0-b73a-9eb2b5f26d6f', created=1753077757, model='claude-sonnet-4-20250514', object='chat.completion', system_fingerprint=None, choices=[Choices(finish_reason='tool_calls', index=0, message=Message(content=\"Now I'll add 7 to that result (8 + 7):\", role='assistant', tool_calls=[ChatCompletionMessageToolCall(index=1, function=Function(arguments='{\"a\": 8, \"b\": 7}', name='simple_add'), id='toolu_01FeJrSkH9q3BxqHyatgKiZc', type='function')], function_call=None, provider_specific_fields={'citations': None, 'thinking_blocks': None}))], usage=Usage(completion_tokens=88, prompt_tokens=543, total_tokens=631, completion_tokens_details=None, prompt_tokens_details=PromptTokensDetailsWrapper(audio_tokens=None, cached_tokens=0, text_tokens=None, image_tokens=None), cache_creation_input_tokens=0, cache_read_input_tokens=0))"
      ]
     },
     "metadata": {},
     "output_type": "display_data"
    },
    {
     "data": {
      "text/markdown": [
       "Finally, I'll add 11 to that result (15 + 11):\n",
       "\n",
       "🔧 simple_add({\"a\": 15, \"b\": 11})\n",
       "\n",
       "\n",
       "<details>\n",
       "\n",
       "- id: `chatcmpl-a2b0069e-1aa5-4558-a88c-c737f3b5b025`\n",
       "- model: `claude-sonnet-4-20250514`\n",
       "- finish_reason: `tool_calls`\n",
       "- usage: `Usage(completion_tokens=89, prompt_tokens=644, total_tokens=733, completion_tokens_details=None, prompt_tokens_details=PromptTokensDetailsWrapper(audio_tokens=None, cached_tokens=0, text_tokens=None, image_tokens=None), cache_creation_input_tokens=0, cache_read_input_tokens=0)`\n",
       "\n",
       "</details>"
      ],
      "text/plain": [
       "ModelResponse(id='chatcmpl-a2b0069e-1aa5-4558-a88c-c737f3b5b025', created=1753077759, model='claude-sonnet-4-20250514', object='chat.completion', system_fingerprint=None, choices=[Choices(finish_reason='tool_calls', index=0, message=Message(content=\"Finally, I'll add 11 to that result (15 + 11):\", role='assistant', tool_calls=[ChatCompletionMessageToolCall(index=1, function=Function(arguments='{\"a\": 15, \"b\": 11}', name='simple_add'), id='toolu_01BePXmENDDQDeKsABuo4o91', type='function')], function_call=None, provider_specific_fields={'citations': None, 'thinking_blocks': None}))], usage=Usage(completion_tokens=89, prompt_tokens=644, total_tokens=733, completion_tokens_details=None, prompt_tokens_details=PromptTokensDetailsWrapper(audio_tokens=None, cached_tokens=0, text_tokens=None, image_tokens=None), cache_creation_input_tokens=0, cache_read_input_tokens=0))"
      ]
     },
     "metadata": {},
     "output_type": "display_data"
    },
    {
     "data": {
      "text/markdown": [
       "So working step by step:\n",
       "- 5 + 3 = 8\n",
       "- 8 + 7 = 15  \n",
       "- 15 + 11 = 26\n",
       "\n",
       "Therefore, ((5 + 3) + 7) + 11 = **26**\n",
       "\n",
       "<details>\n",
       "\n",
       "- id: `chatcmpl-5bc6e20b-0f4a-49dd-b161-e4e54db6f31d`\n",
       "- model: `claude-sonnet-4-20250514`\n",
       "- finish_reason: `stop`\n",
       "- usage: `Usage(completion_tokens=68, prompt_tokens=746, total_tokens=814, completion_tokens_details=None, prompt_tokens_details=PromptTokensDetailsWrapper(audio_tokens=None, cached_tokens=0, text_tokens=None, image_tokens=None), cache_creation_input_tokens=0, cache_read_input_tokens=0)`\n",
       "\n",
       "</details>"
      ],
      "text/plain": [
       "ModelResponse(id='chatcmpl-5bc6e20b-0f4a-49dd-b161-e4e54db6f31d', created=1753077761, model='claude-sonnet-4-20250514', object='chat.completion', system_fingerprint=None, choices=[Choices(finish_reason='stop', index=0, message=Message(content='So working step by step:\\n- 5 + 3 = 8\\n- 8 + 7 = 15  \\n- 15 + 11 = 26\\n\\nTherefore, ((5 + 3) + 7) + 11 = **26**', role='assistant', tool_calls=None, function_call=None, provider_specific_fields={'citations': None, 'thinking_blocks': None}))], usage=Usage(completion_tokens=68, prompt_tokens=746, total_tokens=814, completion_tokens_details=None, prompt_tokens_details=PromptTokensDetailsWrapper(audio_tokens=None, cached_tokens=0, text_tokens=None, image_tokens=None), cache_creation_input_tokens=0, cache_read_input_tokens=0))"
      ]
     },
     "metadata": {},
     "output_type": "display_data"
    }
   ],
   "source": [
    "chat = Chat(model, tools=[simple_add])\n",
    "res = chat(\"What's ((5 + 3)+7)+11? Work step by step\", return_all=True, max_tool_rounds=5)\n",
    "for r in res: display(r)"
   ]
  },
  {
   "cell_type": "code",
   "execution_count": null,
   "id": "3f9de676",
   "metadata": {},
   "outputs": [],
   "source": [
    "@patch(as_prop=True)\n",
    "def cost(self: Chat):\n",
    "    \"Total cost of all responses in conversation history\"\n",
    "    return sum(getattr(r, '_hidden_params', {}).get('response_cost')  or 0\n",
    "               for r in self.h if hasattr(r, 'choices'))"
   ]
  },
  {
   "cell_type": "markdown",
   "id": "a9f66101",
   "metadata": {},
   "source": [
    "Some models support parallel tool calling. I.e. sending multiple tool call requests in one conversation step."
   ]
  },
  {
   "cell_type": "code",
   "execution_count": null,
   "id": "3ec77539",
   "metadata": {},
   "outputs": [
    {
     "name": "stdout",
     "output_type": "stream",
     "text": [
      "TOOL CALLED a=5 + b=3\n",
      "TOOL CALLED a=7 + b=2\n",
      "MULTIPLY: 8 * 9\n"
     ]
    },
    {
     "data": {
      "text/markdown": [
       "\n",
       "\n",
       "🔧 simple_add({\"a\": 5, \"b\": 3})\n",
       "\n",
       "\n",
       "\n",
       "🔧 simple_add({\"a\": 7, \"b\": 2})\n",
       "\n",
       "\n",
       "<details>\n",
       "\n",
       "- id: `chatcmpl-Bvdtiy7zTv7EH5MWjV2Zf584QF8Ns`\n",
       "- model: `gpt-4.1-2025-04-14`\n",
       "- finish_reason: `tool_calls`\n",
       "- usage: `Usage(completion_tokens=52, prompt_tokens=110, total_tokens=162, completion_tokens_details=CompletionTokensDetailsWrapper(accepted_prediction_tokens=0, audio_tokens=0, reasoning_tokens=0, rejected_prediction_tokens=0, text_tokens=None), prompt_tokens_details=PromptTokensDetailsWrapper(audio_tokens=0, cached_tokens=0, text_tokens=None, image_tokens=None))`\n",
       "\n",
       "</details>"
      ],
      "text/plain": [
       "ModelResponse(id='chatcmpl-Bvdtiy7zTv7EH5MWjV2Zf584QF8Ns', created=1753077762, model='gpt-4.1-2025-04-14', object='chat.completion', system_fingerprint=None, choices=[Choices(finish_reason='tool_calls', index=0, message=Message(content=None, role='assistant', tool_calls=[ChatCompletionMessageToolCall(function=Function(arguments='{\"a\": 5, \"b\": 3}', name='simple_add'), id='call_t5ELrVwAH05QAPcIS022fZIF', type='function'), ChatCompletionMessageToolCall(function=Function(arguments='{\"a\": 7, \"b\": 2}', name='simple_add'), id='call_SMsvISRs5lLAo9nxfmVoHggp', type='function')], function_call=None, provider_specific_fields={'refusal': None}, annotations=[]), provider_specific_fields={})], usage=Usage(completion_tokens=52, prompt_tokens=110, total_tokens=162, completion_tokens_details=CompletionTokensDetailsWrapper(accepted_prediction_tokens=0, audio_tokens=0, reasoning_tokens=0, rejected_prediction_tokens=0, text_tokens=None), prompt_tokens_details=PromptTokensDetailsWrapper(audio_tokens=0, cached_tokens=0, text_tokens=None, image_tokens=None)), service_tier='default')"
      ]
     },
     "metadata": {},
     "output_type": "display_data"
    },
    {
     "data": {
      "text/markdown": [
       "\n",
       "\n",
       "🔧 multiply({\"a\":8,\"b\":9})\n",
       "\n",
       "\n",
       "<details>\n",
       "\n",
       "- id: `chatcmpl-Bvdtjs2e1szA0uQVyW1zHxXdPnzlf`\n",
       "- model: `gpt-4.1-2025-04-14`\n",
       "- finish_reason: `tool_calls`\n",
       "- usage: `Usage(completion_tokens=17, prompt_tokens=178, total_tokens=195, completion_tokens_details=CompletionTokensDetailsWrapper(accepted_prediction_tokens=0, audio_tokens=0, reasoning_tokens=0, rejected_prediction_tokens=0, text_tokens=None), prompt_tokens_details=PromptTokensDetailsWrapper(audio_tokens=0, cached_tokens=0, text_tokens=None, image_tokens=None))`\n",
       "\n",
       "</details>"
      ],
      "text/plain": [
       "ModelResponse(id='chatcmpl-Bvdtjs2e1szA0uQVyW1zHxXdPnzlf', created=1753077763, model='gpt-4.1-2025-04-14', object='chat.completion', system_fingerprint=None, choices=[Choices(finish_reason='tool_calls', index=0, message=Message(content=None, role='assistant', tool_calls=[ChatCompletionMessageToolCall(function=Function(arguments='{\"a\":8,\"b\":9}', name='multiply'), id='call_NW3lLNJ5JB6Z4JNqwa62HV50', type='function')], function_call=None, provider_specific_fields={'refusal': None}, annotations=[]), provider_specific_fields={})], usage=Usage(completion_tokens=17, prompt_tokens=178, total_tokens=195, completion_tokens_details=CompletionTokensDetailsWrapper(accepted_prediction_tokens=0, audio_tokens=0, reasoning_tokens=0, rejected_prediction_tokens=0, text_tokens=None), prompt_tokens_details=PromptTokensDetailsWrapper(audio_tokens=0, cached_tokens=0, text_tokens=None, image_tokens=None)), service_tier='default')"
      ]
     },
     "metadata": {},
     "output_type": "display_data"
    },
    {
     "data": {
      "text/markdown": [
       "(5 + 3) = 8 and (7 + 2) = 9. Multiplying them together: 8 × 9 = 72.\n",
       "\n",
       "So, (5 + 3) × (7 + 2) = 72.\n",
       "\n",
       "<details>\n",
       "\n",
       "- id: `chatcmpl-BvdtjudM6i6WJwHywkDYvLfGNyVeu`\n",
       "- model: `gpt-4.1-2025-04-14`\n",
       "- finish_reason: `stop`\n",
       "- usage: `Usage(completion_tokens=54, prompt_tokens=203, total_tokens=257, completion_tokens_details=CompletionTokensDetailsWrapper(accepted_prediction_tokens=0, audio_tokens=0, reasoning_tokens=0, rejected_prediction_tokens=0, text_tokens=None), prompt_tokens_details=PromptTokensDetailsWrapper(audio_tokens=0, cached_tokens=0, text_tokens=None, image_tokens=None))`\n",
       "\n",
       "</details>"
      ],
      "text/plain": [
       "ModelResponse(id='chatcmpl-BvdtjudM6i6WJwHywkDYvLfGNyVeu', created=1753077763, model='gpt-4.1-2025-04-14', object='chat.completion', system_fingerprint=None, choices=[Choices(finish_reason='stop', index=0, message=Message(content='(5 + 3) = 8 and (7 + 2) = 9. Multiplying them together: 8 × 9 = 72.\\n\\nSo, (5 + 3) × (7 + 2) = 72.', role='assistant', tool_calls=None, function_call=None, provider_specific_fields={'refusal': None}, annotations=[]), provider_specific_fields={})], usage=Usage(completion_tokens=54, prompt_tokens=203, total_tokens=257, completion_tokens_details=CompletionTokensDetailsWrapper(accepted_prediction_tokens=0, audio_tokens=0, reasoning_tokens=0, rejected_prediction_tokens=0, text_tokens=None), prompt_tokens_details=PromptTokensDetailsWrapper(audio_tokens=0, cached_tokens=0, text_tokens=None, image_tokens=None)), service_tier='default')"
      ]
     },
     "metadata": {},
     "output_type": "display_data"
    }
   ],
   "source": [
    "def multiply(a: int, b: int) -> int:\n",
    "    \"Multiply two numbers\"\n",
    "    print(f\"MULTIPLY: {a} * {b}\")\n",
    "    return a * b\n",
    "\n",
    "chat = Chat(ms[-1], tools=[simple_add, multiply])\n",
    "res = chat(\"Calculate (5 + 3) * (7 + 2)\", max_tool_rounds=5, return_all=True)\n",
    "for r in res: display(r)"
   ]
  },
  {
   "cell_type": "markdown",
   "id": "dba4958f",
   "metadata": {},
   "source": [
    "See it did the additions in one go!"
   ]
  },
  {
   "cell_type": "markdown",
   "id": "33b17e71",
   "metadata": {},
   "source": [
    "Hit max_tool_rounds limit with final_prompt"
   ]
  },
  {
   "cell_type": "code",
   "execution_count": null,
   "id": "aa7298c0",
   "metadata": {},
   "outputs": [
    {
     "name": "stdout",
     "output_type": "stream",
     "text": [
      "TOOL CALLED a=10 + b=5\n",
      "MULTIPLY: 15 * 3\n",
      "Got 3 responses\n"
     ]
    },
    {
     "data": {
      "text/markdown": [
       "\n",
       "\n",
       "🔧 simple_add({\"a\":10,\"b\":5})\n",
       "\n",
       "\n",
       "<details>\n",
       "\n",
       "- id: `chatcmpl-BvdtkErTK2l94Cf5C7o47aj5RHWyL`\n",
       "- model: `gpt-4.1-2025-04-14`\n",
       "- finish_reason: `tool_calls`\n",
       "- usage: `Usage(completion_tokens=18, prompt_tokens=146, total_tokens=164, completion_tokens_details=CompletionTokensDetailsWrapper(accepted_prediction_tokens=0, audio_tokens=0, reasoning_tokens=0, rejected_prediction_tokens=0, text_tokens=None), prompt_tokens_details=PromptTokensDetailsWrapper(audio_tokens=0, cached_tokens=0, text_tokens=None, image_tokens=None))`\n",
       "\n",
       "</details>"
      ],
      "text/plain": [
       "ModelResponse(id='chatcmpl-BvdtkErTK2l94Cf5C7o47aj5RHWyL', created=1753077764, model='gpt-4.1-2025-04-14', object='chat.completion', system_fingerprint=None, choices=[Choices(finish_reason='tool_calls', index=0, message=Message(content=None, role='assistant', tool_calls=[ChatCompletionMessageToolCall(function=Function(arguments='{\"a\":10,\"b\":5}', name='simple_add'), id='call_T7a6CDqyQTslAlpfQmaTVBpR', type='function')], function_call=None, provider_specific_fields={'refusal': None}, annotations=[]), provider_specific_fields={})], usage=Usage(completion_tokens=18, prompt_tokens=146, total_tokens=164, completion_tokens_details=CompletionTokensDetailsWrapper(accepted_prediction_tokens=0, audio_tokens=0, reasoning_tokens=0, rejected_prediction_tokens=0, text_tokens=None), prompt_tokens_details=PromptTokensDetailsWrapper(audio_tokens=0, cached_tokens=0, text_tokens=None, image_tokens=None)), service_tier='default')"
      ]
     },
     "metadata": {},
     "output_type": "display_data"
    },
    {
     "data": {
      "text/markdown": [
       "\n",
       "\n",
       "🔧 multiply({\"a\":15,\"b\":3})\n",
       "\n",
       "\n",
       "<details>\n",
       "\n",
       "- id: `chatcmpl-BvdtlxEeR26kOp6xlSiwMKyru0nHM`\n",
       "- model: `gpt-4.1-2025-04-14`\n",
       "- finish_reason: `tool_calls`\n",
       "- usage: `Usage(completion_tokens=17, prompt_tokens=173, total_tokens=190, completion_tokens_details=CompletionTokensDetailsWrapper(accepted_prediction_tokens=0, audio_tokens=0, reasoning_tokens=0, rejected_prediction_tokens=0, text_tokens=None), prompt_tokens_details=PromptTokensDetailsWrapper(audio_tokens=0, cached_tokens=0, text_tokens=None, image_tokens=None))`\n",
       "\n",
       "</details>"
      ],
      "text/plain": [
       "ModelResponse(id='chatcmpl-BvdtlxEeR26kOp6xlSiwMKyru0nHM', created=1753077765, model='gpt-4.1-2025-04-14', object='chat.completion', system_fingerprint=None, choices=[Choices(finish_reason='tool_calls', index=0, message=Message(content=None, role='assistant', tool_calls=[ChatCompletionMessageToolCall(function=Function(arguments='{\"a\":15,\"b\":3}', name='multiply'), id='call_k7K7ZCVsY6hdugMCj2uzCFQD', type='function')], function_call=None, provider_specific_fields={'refusal': None}, annotations=[]), provider_specific_fields={})], usage=Usage(completion_tokens=17, prompt_tokens=173, total_tokens=190, completion_tokens_details=CompletionTokensDetailsWrapper(accepted_prediction_tokens=0, audio_tokens=0, reasoning_tokens=0, rejected_prediction_tokens=0, text_tokens=None), prompt_tokens_details=PromptTokensDetailsWrapper(audio_tokens=0, cached_tokens=0, text_tokens=None, image_tokens=None)), service_tier='default')"
      ]
     },
     "metadata": {},
     "output_type": "display_data"
    },
    {
     "data": {
      "text/markdown": [
       "Here’s what I’ve calculated so far, step by step:\n",
       "\n",
       "1. First, I added 10 + 5 to get 15.\n",
       "2. Next, I multiplied the result (15) by 3 to get 45.\n",
       "\n",
       "So, ((10 + 5) * 3) = 45.\n",
       "\n",
       "The next step is to calculate the denominator (2 + 1) and then divide 45 by that result. Would you like me to continue?\n",
       "\n",
       "<details>\n",
       "\n",
       "- id: `chatcmpl-BvdtmXBxPxvUYlkOvx3CQgO7lPtb5`\n",
       "- model: `gpt-4.1-2025-04-14`\n",
       "- finish_reason: `stop`\n",
       "- usage: `Usage(completion_tokens=95, prompt_tokens=209, total_tokens=304, completion_tokens_details=CompletionTokensDetailsWrapper(accepted_prediction_tokens=0, audio_tokens=0, reasoning_tokens=0, rejected_prediction_tokens=0, text_tokens=None), prompt_tokens_details=PromptTokensDetailsWrapper(audio_tokens=0, cached_tokens=0, text_tokens=None, image_tokens=None))`\n",
       "\n",
       "</details>"
      ],
      "text/plain": [
       "ModelResponse(id='chatcmpl-BvdtmXBxPxvUYlkOvx3CQgO7lPtb5', created=1753077766, model='gpt-4.1-2025-04-14', object='chat.completion', system_fingerprint=None, choices=[Choices(finish_reason='stop', index=0, message=Message(content='Here’s what I’ve calculated so far, step by step:\\n\\n1. First, I added 10 + 5 to get 15.\\n2. Next, I multiplied the result (15) by 3 to get 45.\\n\\nSo, ((10 + 5) * 3) = 45.\\n\\nThe next step is to calculate the denominator (2 + 1) and then divide 45 by that result. Would you like me to continue?', role='assistant', tool_calls=None, function_call=None, provider_specific_fields={'refusal': None}, annotations=[]), provider_specific_fields={})], usage=Usage(completion_tokens=95, prompt_tokens=209, total_tokens=304, completion_tokens_details=CompletionTokensDetailsWrapper(accepted_prediction_tokens=0, audio_tokens=0, reasoning_tokens=0, rejected_prediction_tokens=0, text_tokens=None), prompt_tokens_details=PromptTokensDetailsWrapper(audio_tokens=0, cached_tokens=0, text_tokens=None, image_tokens=None)), service_tier='default')"
      ]
     },
     "metadata": {},
     "output_type": "display_data"
    }
   ],
   "source": [
    "def divide(a: int, b: int) -> float:\n",
    "    \"Divide two numbers\"\n",
    "    display(f\"DIVIDE: {a} / {b}\")\n",
    "    return a / b\n",
    "\n",
    "chat = Chat(m, tools=[simple_add, multiply, divide])\n",
    "res = chat(\"Calculate ((10 + 5) * 3) / (2 + 1) step by step\", \n",
    "           max_tool_rounds=2, return_all=True,\n",
    "           final_prompt=\"Please summarize what you've calculated so far\")\n",
    "print(f\"Got {len(res)} responses\")\n",
    "for r in res: display(r)"
   ]
  },
  {
   "cell_type": "markdown",
   "id": "6f9764dc",
   "metadata": {},
   "source": [
    "## Export"
   ]
  },
  {
   "cell_type": "code",
   "execution_count": null,
   "id": "6e677e0c",
   "metadata": {},
   "outputs": [],
   "source": [
    "#| hide\n",
    "import nbdev; nbdev.nbdev_export()"
   ]
  },
  {
   "cell_type": "code",
   "execution_count": null,
   "id": "c78ee53b",
   "metadata": {},
   "outputs": [],
   "source": [
    "from IPython.display import Image"
   ]
  },
  {
   "cell_type": "code",
   "execution_count": null,
   "id": "6d383f1d",
   "metadata": {},
   "outputs": [
    {
     "data": {
      "image/jpeg": "[encoded data removed]",
      "text/plain": [
       "<IPython.core.display.Image object>"
      ]
     },
     "execution_count": null,
     "metadata": {
      "image/jpeg": {
       "width": 200
      }
     },
     "output_type": "execute_result"
    }
   ],
   "source": [
    "fn = Path('samples/puppy.jpg')\n",
    "Image(filename=fn, width=200)"
   ]
  },
  {
   "cell_type": "code",
   "execution_count": null,
   "id": "78d71207",
   "metadata": {},
   "outputs": [],
   "source": [
    "def _mk_img(data:bytes)->tuple:\n",
    "    \"Convert image bytes to a base64 encoded image\"\n",
    "    img = base64.b64encode(data).decode(\"utf-8\")\n",
    "    mtype = mimetypes.types_map[\".\"+imghdr.what(None, h=data)]\n",
    "    return img, mtype"
   ]
  },
  {
   "cell_type": "code",
   "execution_count": null,
   "id": "979360f0",
   "metadata": {},
   "outputs": [],
   "source": [
    "import base64\n",
    "import mimetypes\n",
    "from fastcore import imghdr"
   ]
  },
  {
   "cell_type": "code",
   "execution_count": null,
   "id": "cac27e13",
   "metadata": {},
   "outputs": [],
   "source": [
    "imgbytes = fn.read_bytes()\n",
    "img,mtype = _mk_img(imgbytes)\n",
    "imgd = { \"image_url\": {\"url\": f'data:{mtype};base64,{img}', \"format\":mtype} }"
   ]
  },
  {
   "cell_type": "code",
   "execution_count": null,
   "id": "108e17ca",
   "metadata": {},
   "outputs": [],
   "source": [
    "response = completion( model=model, \n",
    "    messages=[\n",
    "        { \"role\": \"user\",\n",
    "        \"content\": [{ \"type\": \"text\", \"text\": \"What’s in this image?\" },\n",
    "        { \"type\": \"image_url\", **imgd }] }\n",
    "    ])"
   ]
  },
  {
   "cell_type": "code",
   "execution_count": null,
   "id": "ae33d10f",
   "metadata": {},
   "outputs": [
    {
     "data": {
      "text/markdown": [
       "This image shows an adorable puppy, likely a Cavalier King Charles Spaniel or similar breed, with distinctive brown and white fur markings. The puppy has beautiful brown patches around its ears and eyes, with a white face and chest. It's lying on green grass next to some purple flowers (which appear to be small daisies or asters). The puppy has a sweet, gentle expression with dark eyes and appears to be very young. The setting looks like a garden or yard area with natural lighting that highlights the puppy's soft, fluffy coat.\n",
       "\n",
       "<details>\n",
       "\n",
       "- id: `chatcmpl-834cbca3-7ed9-4506-a467-0f93f555d987`\n",
       "- model: `claude-sonnet-4-20250514`\n",
       "- finish_reason: `stop`\n",
       "- usage: `Usage(completion_tokens=122, prompt_tokens=104, total_tokens=226, completion_tokens_details=None, prompt_tokens_details=PromptTokensDetailsWrapper(audio_tokens=None, cached_tokens=0, text_tokens=None, image_tokens=None), cache_creation_input_tokens=0, cache_read_input_tokens=0)`\n",
       "\n",
       "</details>"
      ],
      "text/plain": [
       "ModelResponse(id='chatcmpl-834cbca3-7ed9-4506-a467-0f93f555d987', created=1753165519, model='claude-sonnet-4-20250514', object='chat.completion', system_fingerprint=None, choices=[Choices(finish_reason='stop', index=0, message=Message(content=\"This image shows an adorable puppy, likely a Cavalier King Charles Spaniel or similar breed, with distinctive brown and white fur markings. The puppy has beautiful brown patches around its ears and eyes, with a white face and chest. It's lying on green grass next to some purple flowers (which appear to be small daisies or asters). The puppy has a sweet, gentle expression with dark eyes and appears to be very young. The setting looks like a garden or yard area with natural lighting that highlights the puppy's soft, fluffy coat.\", role='assistant', tool_calls=None, function_call=None, provider_specific_fields={'citations': None, 'thinking_blocks': None}))], usage=Usage(completion_tokens=122, prompt_tokens=104, total_tokens=226, completion_tokens_details=None, prompt_tokens_details=PromptTokensDetailsWrapper(audio_tokens=None, cached_tokens=0, text_tokens=None, image_tokens=None), cache_creation_input_tokens=0, cache_read_input_tokens=0))"
      ]
     },
     "execution_count": null,
     "metadata": {},
     "output_type": "execute_result"
    }
   ],
   "source": [
    "response"
   ]
  }
 ],
 "metadata": {},
 "nbformat": 4,
 "nbformat_minor": 5
}
