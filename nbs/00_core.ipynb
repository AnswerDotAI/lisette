{
 "cells": [
  {
   "cell_type": "markdown",
   "id": "798b1171",
   "metadata": {},
   "source": [
    "# core\n",
    "\n",
    "> lisette core"
   ]
  },
  {
   "cell_type": "code",
   "execution_count": null,
   "id": "4ebe320a",
   "metadata": {},
   "outputs": [],
   "source": [
    "#| default_exp core"
   ]
  },
  {
   "cell_type": "code",
   "execution_count": null,
   "id": "82380377",
   "metadata": {},
   "outputs": [],
   "source": [
    "#| export\n",
    "import litellm, json\n",
    "from litellm import completion, stream_chunk_builder, get_model_info\n",
    "from litellm.types.utils import ModelResponseStream,ModelResponse\n",
    "from litellm.utils import function_to_dict\n",
    "from toolslm.funccall import mk_ns, call_func\n",
    "from toolslm.funccall import get_schema\n",
    "from typing import Optional\n",
    "from fastcore.all import *"
   ]
  },
  {
   "cell_type": "markdown",
   "id": "69f20759",
   "metadata": {},
   "source": [
    "## LiteLLM"
   ]
  },
  {
   "cell_type": "markdown",
   "id": "c38c4ea2",
   "metadata": {},
   "source": [
    "Litellm provides an easy wrapper for most big LLM providers."
   ]
  },
  {
   "cell_type": "code",
   "execution_count": null,
   "id": "1a6a85dd",
   "metadata": {},
   "outputs": [],
   "source": [
    "ms = [\"gemini/gemini-2.5-flash\", \"claude-sonnet-4-20250514\", \"openai/gpt-4.1\"]"
   ]
  },
  {
   "cell_type": "markdown",
   "id": "5fa8988a",
   "metadata": {},
   "source": [
    "TODO: test mixed content/tool calls message (and mixed images too)."
   ]
  },
  {
   "cell_type": "code",
   "execution_count": null,
   "id": "d61cf441",
   "metadata": {},
   "outputs": [],
   "source": [
    "#| export\n",
    "@patch\n",
    "def _repr_markdown_(self: litellm.ModelResponse):\n",
    "    message = self.choices[0].message\n",
    "    content = ''\n",
    "    if message.content: content += message.content\n",
    "    if message.tool_calls:\n",
    "        tool_calls = [f\"\\n\\n🔧 {tc.function.name}({tc.function.arguments})\\n\" for tc in message.tool_calls]\n",
    "        content += \"\\n\".join(tool_calls)\n",
    "    if not content: content = str(message)\n",
    "    details = [\n",
    "        f\"id: `{self.id}`\",\n",
    "        f\"model: `{self.model}`\",\n",
    "        f\"finish_reason: `{self.choices[0].finish_reason}`\"\n",
    "    ]\n",
    "    if hasattr(self, 'usage') and self.usage: details.append(f\"usage: `{self.usage}`\")\n",
    "    det_str = '\\n- '.join(details)\n",
    "    \n",
    "    return f\"\"\"{content}\n",
    "\n",
    "<details>\n",
    "\n",
    "- {det_str}\n",
    "\n",
    "</details>\"\"\""
   ]
  },
  {
   "cell_type": "code",
   "execution_count": null,
   "id": "920d0288",
   "metadata": {},
   "outputs": [],
   "source": [
    "msg = [{'role':'user','content':'Hey there!', 'cache_control': {'type': 'ephemeral'}}]"
   ]
  },
  {
   "cell_type": "code",
   "execution_count": null,
   "id": "124c866d",
   "metadata": {},
   "outputs": [],
   "source": [
    "for m in ms:\n",
    "    display(f'=== {m} ===')\n",
    "    display(completion(m,msg))"
   ]
  },
  {
   "cell_type": "markdown",
   "id": "bad470e4",
   "metadata": {},
   "source": [
    "### Streaming"
   ]
  },
  {
   "cell_type": "code",
   "execution_count": null,
   "id": "9ad6fc2c",
   "metadata": {},
   "outputs": [],
   "source": [
    "#| export\n",
    "def stream_with_complete(gen, postproc=noop):\n",
    "    \"Extend streaming response chunks with the complete response\"\n",
    "    chunks = []\n",
    "    for chunk in gen:\n",
    "        chunks.append(chunk)\n",
    "        yield chunk\n",
    "    postproc(chunks)\n",
    "    return stream_chunk_builder(chunks)"
   ]
  },
  {
   "cell_type": "code",
   "execution_count": null,
   "id": "dedc4b5f",
   "metadata": {},
   "outputs": [],
   "source": [
    "from fastcore.xtras import SaveReturn"
   ]
  },
  {
   "cell_type": "code",
   "execution_count": null,
   "id": "a63ce765",
   "metadata": {},
   "outputs": [],
   "source": [
    "model = ms[1]"
   ]
  },
  {
   "cell_type": "code",
   "execution_count": null,
   "id": "46f16571",
   "metadata": {},
   "outputs": [],
   "source": [
    "r = completion(messages=msg, model=model, stream=True)\n",
    "r2 = SaveReturn(stream_with_complete(r))"
   ]
  },
  {
   "cell_type": "code",
   "execution_count": null,
   "id": "9797136b",
   "metadata": {},
   "outputs": [
    {
     "name": "stdout",
     "output_type": "stream",
     "text": [
      "Hello! Nice to meet you. How"
     ]
    },
    {
     "name": "stdout",
     "output_type": "stream",
     "text": [
      " are you doing today? Is there anything I can help you with?"
     ]
    }
   ],
   "source": [
    "for o in r2:\n",
    "    cts = o.choices[0].delta.content\n",
    "    if cts: print(cts, end='')"
   ]
  },
  {
   "cell_type": "code",
   "execution_count": null,
   "id": "897ec073",
   "metadata": {},
   "outputs": [
    {
     "data": {
      "text/markdown": [
       "Hello! Nice to meet you. How are you doing today? Is there anything I can help you with?\n",
       "\n",
       "<details>\n",
       "\n",
       "- id: `chatcmpl-0865838b-7ae7-4d4b-9a2f-8c7692d2676b`\n",
       "- model: `claude-sonnet-4-20250514`\n",
       "- finish_reason: `stop`\n",
       "- usage: `Usage(completion_tokens=25, prompt_tokens=10, total_tokens=35, completion_tokens_details=CompletionTokensDetailsWrapper(accepted_prediction_tokens=None, audio_tokens=None, reasoning_tokens=0, rejected_prediction_tokens=None, text_tokens=None), prompt_tokens_details=None)`\n",
       "\n",
       "</details>"
      ],
      "text/plain": [
       "ModelResponse(id='chatcmpl-0865838b-7ae7-4d4b-9a2f-8c7692d2676b', created=1757512887, model='claude-sonnet-4-20250514', object='chat.completion', system_fingerprint=None, choices=[Choices(finish_reason='stop', index=0, message=Message(content='Hello! Nice to meet you. How are you doing today? Is there anything I can help you with?', role='assistant', tool_calls=None, function_call=None, provider_specific_fields=None))], usage=Usage(completion_tokens=25, prompt_tokens=10, total_tokens=35, completion_tokens_details=CompletionTokensDetailsWrapper(accepted_prediction_tokens=None, audio_tokens=None, reasoning_tokens=0, rejected_prediction_tokens=None, text_tokens=None), prompt_tokens_details=None))"
      ]
     },
     "execution_count": null,
     "metadata": {},
     "output_type": "execute_result"
    }
   ],
   "source": [
    "r2.value"
   ]
  },
  {
   "cell_type": "markdown",
   "id": "bd8e11c0",
   "metadata": {},
   "source": [
    "### Tools"
   ]
  },
  {
   "cell_type": "code",
   "execution_count": null,
   "id": "4301402e",
   "metadata": {},
   "outputs": [],
   "source": [
    "#| export\n",
    "def _lite_mk_func(f):\n",
    "    if isinstance(f, dict): return f\n",
    "    return {'type':'function', 'function':get_schema(f, pname='parameters')}"
   ]
  },
  {
   "cell_type": "code",
   "execution_count": null,
   "id": "7b103600",
   "metadata": {},
   "outputs": [],
   "source": [
    "def simple_add(\n",
    "    a: int,   # first operand\n",
    "    b: int=0  # second operand\n",
    ") -> int:\n",
    "    \"Add two numbers together\"\n",
    "    print(f\"TOOL CALLED {a=} + {b=}\")\n",
    "    return a + b"
   ]
  },
  {
   "cell_type": "code",
   "execution_count": null,
   "id": "100fc27b",
   "metadata": {},
   "outputs": [
    {
     "data": {
      "text/plain": [
       "{'type': 'function',\n",
       " 'function': {'name': 'simple_add',\n",
       "  'description': 'Add two numbers together\\n\\nReturns:\\n- type: integer',\n",
       "  'parameters': {'type': 'object',\n",
       "   'properties': {'a': {'type': 'integer', 'description': 'first operand'},\n",
       "    'b': {'type': 'integer', 'description': 'second operand', 'default': 0}},\n",
       "   'required': ['a']}}}"
      ]
     },
     "execution_count": null,
     "metadata": {},
     "output_type": "execute_result"
    }
   ],
   "source": [
    "toolsc = _lite_mk_func(simple_add)\n",
    "toolsc"
   ]
  },
  {
   "cell_type": "code",
   "execution_count": null,
   "id": "a32754b2",
   "metadata": {},
   "outputs": [],
   "source": [
    "#| export\n",
    "def mk_user(s, cache=False):\n",
    "    res = {\"role\": \"user\", \"content\": s}\n",
    "    if cache: res['cache_control'] = {'type': 'ephemeral'}\n",
    "    return res"
   ]
  },
  {
   "cell_type": "code",
   "execution_count": null,
   "id": "8c2af29a",
   "metadata": {},
   "outputs": [],
   "source": [
    "tmsg = mk_user(\"What is 5478954793+547982745? How about 5479749754+9875438979? Always use tools for calculations, and describe what you'll do before using a tool. Where multiple tool calls are required, do them in a single response where possible.\")\n",
    "r = completion(model, [tmsg], tools=[toolsc])"
   ]
  },
  {
   "cell_type": "code",
   "execution_count": null,
   "id": "8bdb1817",
   "metadata": {},
   "outputs": [
    {
     "data": {
      "text/markdown": [
       "I need to perform two addition calculations for you. I'll use the simple_add function to calculate both sums.\n",
       "\n",
       "First calculation: 5478954793 + 547982745\n",
       "Second calculation: 5479749754 + 9875438979\n",
       "\n",
       "Let me perform both calculations:\n",
       "\n",
       "🔧 simple_add({\"a\": 5478954793, \"b\": 547982745})\n",
       "\n",
       "\n",
       "\n",
       "🔧 simple_add({\"a\": 5479749754, \"b\": 9875438979})\n",
       "\n",
       "\n",
       "<details>\n",
       "\n",
       "- id: `chatcmpl-c97d5f95-0a77-4de8-aaeb-c3a6d2bb20b4`\n",
       "- model: `claude-sonnet-4-20250514`\n",
       "- finish_reason: `tool_calls`\n",
       "- usage: `Usage(completion_tokens=197, prompt_tokens=475, total_tokens=672, completion_tokens_details=None, prompt_tokens_details=PromptTokensDetailsWrapper(audio_tokens=None, cached_tokens=0, text_tokens=None, image_tokens=None), cache_creation_input_tokens=0, cache_read_input_tokens=0)`\n",
       "\n",
       "</details>"
      ],
      "text/plain": [
       "ModelResponse(id='chatcmpl-c97d5f95-0a77-4de8-aaeb-c3a6d2bb20b4', created=1757512892, model='claude-sonnet-4-20250514', object='chat.completion', system_fingerprint=None, choices=[Choices(finish_reason='tool_calls', index=0, message=Message(content=\"I need to perform two addition calculations for you. I'll use the simple_add function to calculate both sums.\\n\\nFirst calculation: 5478954793 + 547982745\\nSecond calculation: 5479749754 + 9875438979\\n\\nLet me perform both calculations:\", role='assistant', tool_calls=[ChatCompletionMessageToolCall(index=1, function=Function(arguments='{\"a\": 5478954793, \"b\": 547982745}', name='simple_add'), id='toolu_015ph6F22vTseByGNUhC9GGp', type='function'), ChatCompletionMessageToolCall(index=2, function=Function(arguments='{\"a\": 5479749754, \"b\": 9875438979}', name='simple_add'), id='toolu_01U3vQwZt4PrqPFReEfbfh4q', type='function')], function_call=None, provider_specific_fields={'citations': None, 'thinking_blocks': None}))], usage=Usage(completion_tokens=197, prompt_tokens=475, total_tokens=672, completion_tokens_details=None, prompt_tokens_details=PromptTokensDetailsWrapper(audio_tokens=None, cached_tokens=0, text_tokens=None, image_tokens=None), cache_creation_input_tokens=0, cache_read_input_tokens=0))"
      ]
     },
     "execution_count": null,
     "metadata": {},
     "output_type": "execute_result"
    }
   ],
   "source": [
    "r"
   ]
  },
  {
   "cell_type": "code",
   "execution_count": null,
   "id": "c4d81d05",
   "metadata": {},
   "outputs": [],
   "source": [
    "#| export\n",
    "def _lite_call_func(tc,ns,raise_on_err=True):\n",
    "    res = call_func(tc.function.name, json.loads(tc.function.arguments),ns=ns)\n",
    "    return {\"tool_call_id\": tc.id, \"role\": \"tool\", \"name\": tc.function.name, \"content\": str(res)}"
   ]
  },
  {
   "cell_type": "code",
   "execution_count": null,
   "id": "d5af607c",
   "metadata": {},
   "outputs": [
    {
     "name": "stdout",
     "output_type": "stream",
     "text": [
      "TOOL CALLED a=5478954793 + b=547982745\n",
      "TOOL CALLED a=5479749754 + b=9875438979\n"
     ]
    },
    {
     "data": {
      "text/plain": [
       "[{'tool_call_id': 'toolu_015ph6F22vTseByGNUhC9GGp',\n",
       "  'role': 'tool',\n",
       "  'name': 'simple_add',\n",
       "  'content': '6026937538'},\n",
       " {'tool_call_id': 'toolu_01U3vQwZt4PrqPFReEfbfh4q',\n",
       "  'role': 'tool',\n",
       "  'name': 'simple_add',\n",
       "  'content': '15355188733'}]"
      ]
     },
     "execution_count": null,
     "metadata": {},
     "output_type": "execute_result"
    }
   ],
   "source": [
    "tcs = [_lite_call_func(o, ns=globals()) for o in r.choices[0].message.tool_calls]\n",
    "tcs"
   ]
  },
  {
   "cell_type": "code",
   "execution_count": null,
   "id": "3dd9871b",
   "metadata": {},
   "outputs": [],
   "source": [
    "#| export\n",
    "def delta_text(msg):\n",
    "    \"Extract printable content from streaming delta, return None if nothing to print\"\n",
    "    c = msg.choices[0]\n",
    "    if not c: return c\n",
    "    if not hasattr(c,'delta'): return None #f'{c}'\n",
    "    delta = c.delta\n",
    "    if delta.content: return delta.content\n",
    "    if delta.tool_calls:\n",
    "        res = ''.join(f\"🔧 {tc.function.name}\" for tc in delta.tool_calls if tc.id and tc.function.name)\n",
    "        if res: return f'\\n{res}'\n",
    "    if hasattr(delta,'reasoning_content'): return '🧠' if delta.reasoning_content else '\\n\\n'\n",
    "    return None"
   ]
  },
  {
   "cell_type": "code",
   "execution_count": null,
   "id": "e4790a51",
   "metadata": {},
   "outputs": [
    {
     "name": "stdout",
     "output_type": "stream",
     "text": [
      "I'll help you calculate both of those additions using the available tool"
     ]
    },
    {
     "name": "stdout",
     "output_type": "stream",
     "text": [
      ". I need to use the simple_add function for both calculations.\n",
      "\n",
      "Let me perform"
     ]
    },
    {
     "name": "stdout",
     "output_type": "stream",
     "text": [
      " both calculations:"
     ]
    },
    {
     "name": "stdout",
     "output_type": "stream",
     "text": [
      "\n",
      "🔧 simple_add"
     ]
    },
    {
     "name": "stdout",
     "output_type": "stream",
     "text": [
      "\n",
      "🔧 simple_add"
     ]
    }
   ],
   "source": [
    "r = completion(messages=[tmsg], model=model, stream=True, tools=[toolsc])\n",
    "r2 = SaveReturn(stream_with_complete(r))\n",
    "for o in r2: print(delta_text(o) or '', end='')"
   ]
  },
  {
   "cell_type": "code",
   "execution_count": null,
   "id": "5b21118c",
   "metadata": {},
   "outputs": [
    {
     "data": {
      "text/markdown": [
       "I'll help you calculate both of those additions using the available tool. I need to use the simple_add function for both calculations.\n",
       "\n",
       "Let me perform both calculations:\n",
       "\n",
       "🔧 simple_add({\"a\": 5478954793, \"b\": 547982745})\n",
       "\n",
       "\n",
       "\n",
       "🔧 simple_add({\"a\": 5479749754, \"b\": 9875438979})\n",
       "\n",
       "\n",
       "<details>\n",
       "\n",
       "- id: `chatcmpl-9c871b51-9802-46f7-94ee-e64ae8b836e7`\n",
       "- model: `claude-sonnet-4-20250514`\n",
       "- finish_reason: `tool_calls`\n",
       "- usage: `Usage(completion_tokens=169, prompt_tokens=475, total_tokens=644, completion_tokens_details=CompletionTokensDetailsWrapper(accepted_prediction_tokens=None, audio_tokens=None, reasoning_tokens=0, rejected_prediction_tokens=None, text_tokens=None), prompt_tokens_details=None)`\n",
       "\n",
       "</details>"
      ],
      "text/plain": [
       "ModelResponse(id='chatcmpl-9c871b51-9802-46f7-94ee-e64ae8b836e7', created=1757512894, model='claude-sonnet-4-20250514', object='chat.completion', system_fingerprint=None, choices=[Choices(finish_reason='tool_calls', index=0, message=Message(content=\"I'll help you calculate both of those additions using the available tool. I need to use the simple_add function for both calculations.\\n\\nLet me perform both calculations:\", role='assistant', tool_calls=[ChatCompletionMessageToolCall(function=Function(arguments='{\"a\": 5478954793, \"b\": 547982745}', name='simple_add'), id='toolu_018T58joArSuAMN7oT7tyrBE', type='function'), ChatCompletionMessageToolCall(function=Function(arguments='{\"a\": 5479749754, \"b\": 9875438979}', name='simple_add'), id='toolu_016bGTLWffc6mw9Ec7mH9rrx', type='function')], function_call=None, provider_specific_fields=None))], usage=Usage(completion_tokens=169, prompt_tokens=475, total_tokens=644, completion_tokens_details=CompletionTokensDetailsWrapper(accepted_prediction_tokens=None, audio_tokens=None, reasoning_tokens=0, rejected_prediction_tokens=None, text_tokens=None), prompt_tokens_details=None))"
      ]
     },
     "execution_count": null,
     "metadata": {},
     "output_type": "execute_result"
    }
   ],
   "source": [
    "r2.value"
   ]
  },
  {
   "cell_type": "code",
   "execution_count": null,
   "id": "f355ecbe",
   "metadata": {},
   "outputs": [
    {
     "name": "stdout",
     "output_type": "stream",
     "text": [
      "🧠🧠🧠🧠"
     ]
    },
    {
     "name": "stdout",
     "output_type": "stream",
     "text": [
      "🧠🧠🧠🧠"
     ]
    },
    {
     "name": "stdout",
     "output_type": "stream",
     "text": [
      "🧠🧠🧠"
     ]
    },
    {
     "name": "stdout",
     "output_type": "stream",
     "text": [
      "🧠🧠🧠"
     ]
    },
    {
     "name": "stdout",
     "output_type": "stream",
     "text": [
      "🧠🧠🧠"
     ]
    },
    {
     "name": "stdout",
     "output_type": "stream",
     "text": [
      "🧠🧠🧠"
     ]
    },
    {
     "name": "stdout",
     "output_type": "stream",
     "text": [
      "🧠🧠🧠🧠"
     ]
    },
    {
     "name": "stdout",
     "output_type": "stream",
     "text": [
      "🧠🧠"
     ]
    },
    {
     "name": "stdout",
     "output_type": "stream",
     "text": [
      "🧠"
     ]
    },
    {
     "name": "stdout",
     "output_type": "stream",
     "text": [
      "🧠🧠"
     ]
    },
    {
     "name": "stdout",
     "output_type": "stream",
     "text": [
      "🧠🧠"
     ]
    },
    {
     "name": "stdout",
     "output_type": "stream",
     "text": [
      "🧠🧠🧠"
     ]
    },
    {
     "name": "stdout",
     "output_type": "stream",
     "text": [
      "\n",
      "\n",
      "I'll find the derivative of f(x) = x³ + 2x² - 5x"
     ]
    },
    {
     "name": "stdout",
     "output_type": "stream",
     "text": [
      " + 1 using the power rule.\n",
      "\n",
      "**Step-by-step solution:**\n",
      "\n",
      "Using the power rule:"
     ]
    },
    {
     "name": "stdout",
     "output_type": "stream",
     "text": [
      " d/dx(x"
     ]
    },
    {
     "name": "stdout",
     "output_type": "stream",
     "text": [
      "ⁿ) = n·x^(n-1)\n",
      "\n",
      "For each term:\n",
      "- d/dx(x³) = "
     ]
    },
    {
     "name": "stdout",
     "output_type": "stream",
     "text": [
      "3x²\n",
      "- d/dx(2x²) = 2"
     ]
    },
    {
     "name": "stdout",
     "output_type": "stream",
     "text": [
      " · 2x¹ = 4x  \n",
      "- d/dx(-5x) = -5 · "
     ]
    },
    {
     "name": "stdout",
     "output_type": "stream",
     "text": [
      "1x⁰ = -5\n",
      "- d/dx(1) = 0 "
     ]
    },
    {
     "name": "stdout",
     "output_type": "stream",
     "text": [
      "(derivative of a constant)\n",
      "\n",
      "**Answer:**\n",
      "f'(x) = **"
     ]
    },
    {
     "name": "stdout",
     "output_type": "stream",
     "text": [
      "3x² + 4x - 5**"
     ]
    }
   ],
   "source": [
    "msg = mk_user(\"Solve this complex math problem: What is the derivative of x^3 + 2x^2 - 5x + 1?\")\n",
    "r = completion(messages=[msg], model=model, stream=True, reasoning_effort=\"low\")\n",
    "r2 = SaveReturn(stream_with_complete(r))\n",
    "for o in r2: print(delta_text(o) or '', end='')\n"
   ]
  },
  {
   "cell_type": "code",
   "execution_count": null,
   "id": "30ff5f1a",
   "metadata": {},
   "outputs": [
    {
     "data": {
      "text/markdown": [
       "I'll find the derivative of f(x) = x³ + 2x² - 5x + 1 using the power rule.\n",
       "\n",
       "**Step-by-step solution:**\n",
       "\n",
       "Using the power rule: d/dx(xⁿ) = n·x^(n-1)\n",
       "\n",
       "For each term:\n",
       "- d/dx(x³) = 3x²\n",
       "- d/dx(2x²) = 2 · 2x¹ = 4x  \n",
       "- d/dx(-5x) = -5 · 1x⁰ = -5\n",
       "- d/dx(1) = 0 (derivative of a constant)\n",
       "\n",
       "**Answer:**\n",
       "f'(x) = **3x² + 4x - 5**\n",
       "\n",
       "<details>\n",
       "\n",
       "- id: `chatcmpl-04d631c0-0e76-4286-8455-70a66433c2d1`\n",
       "- model: `claude-sonnet-4-20250514`\n",
       "- finish_reason: `stop`\n",
       "- usage: `Usage(completion_tokens=407, prompt_tokens=66, total_tokens=473, completion_tokens_details=CompletionTokensDetailsWrapper(accepted_prediction_tokens=None, audio_tokens=None, reasoning_tokens=205, rejected_prediction_tokens=None, text_tokens=None), prompt_tokens_details=None)`\n",
       "\n",
       "</details>"
      ],
      "text/plain": [
       "ModelResponse(id='chatcmpl-04d631c0-0e76-4286-8455-70a66433c2d1', created=1757512896, model='claude-sonnet-4-20250514', object='chat.completion', system_fingerprint=None, choices=[Choices(finish_reason='stop', index=0, message=Message(content=\"I'll find the derivative of f(x) = x³ + 2x² - 5x + 1 using the power rule.\\n\\n**Step-by-step solution:**\\n\\nUsing the power rule: d/dx(xⁿ) = n·x^(n-1)\\n\\nFor each term:\\n- d/dx(x³) = 3x²\\n- d/dx(2x²) = 2 · 2x¹ = 4x  \\n- d/dx(-5x) = -5 · 1x⁰ = -5\\n- d/dx(1) = 0 (derivative of a constant)\\n\\n**Answer:**\\nf'(x) = **3x² + 4x - 5**\", role='assistant', tool_calls=None, function_call=None, provider_specific_fields=None, thinking_blocks=[{'type': 'thinking', 'thinking': \"I need to find the derivative of the function f(x) = x³ + 2x² - 5x + 1.\\n\\nI'll use the power rule for derivatives, which states that if f(x) = xⁿ, then f'(x) = n·x^(n-1).\\n\\nLet me take the derivative of each term:\\n\\n1) For x³: using the power rule, d/dx(x³) = 3x²\\n2) For 2x²: using the power rule and constant multiple rule, d/dx(2x²) = 2·(2x¹) = 4x\\n3) For -5x: using the power rule and constant multiple rule, d/dx(-5x) = -5·(1x⁰) = -5\\n4) For the constant 1: d/dx(1) = 0\\n\\nSo the derivative is: 3x² + 4x - 5\", 'signature': 'ErIFCkYIBxgCKkB1qbm/BY63XmdIWALpiMfEoystdl7V2KvO8bh/NhRlfIbPRrAN4zg/H87VeGggvPSem+lJe8tMWvwiFBPCeSiJEgzo8c8UST7C7ue+RokaDPsvo2DSrjPX6V9mqiIwbtTh9Pi+wKmZw7HCvUUBfmyYWcfVMauUZA8pVrOp39C4oCoEsEtsPLL/cuUx0ZO9KpkErL5s2d6DgqqTuGmqb65edCV8Tplr15vo2ZIDA1aTv7NJPICov2CSgjuosoeRStuRDZ/4H+s8gjn5C9skuQsRfaf3dk2LyTtVa83BKFfSHqUtXF20CxQp+DhC+ROIftxmmztxCyzRvRKIu/+us924twoRKFRq3BIwKkoCf9gWGxeoE8H1Ei4jH8srdbJzfW6fT2TMlyo0c+5vq9GenepdguNC2fI9vyMRsjUnpZ7JJdMrmB46ogis9K8QVRb3EUnDM9+GcJa2yACp9PifU5puNnzSqKit7/76HrDx12qEV+CkdBg/OLhF1JFUVZgcz5saBupuN8LywNRw/WFxRBjl9oXg0ZLaMaby6m+pBUmouM9616PKr94HXTXIA8zObC5jcKMfDvumrNI7zqruPEtqDPWIvQUugV48v4FcKgF4UwbKhnhDoCY6O39EenfpHG4TKy6OW0EJlHUMaBRnNZXaNvlKzuUMhtNKS8hIOmd/81jRRgQoa/WMcVC+lxCXwuOVFtqW/e3RwvEJhPQx2tAxQYhR9yz+9iOtdyU4IC0WMDgJ2F8U6zkf+fR0/ooOWgVYpfDFw8mcAeV6NHbt+i0oD9p7OYhVI0RIAqYtb9rD7eRHt/SWgHrIMH5bhRQqvm3HJyQ5Emh5SjvYk3wvYWvE2bpB0g1bnGEkxtFGBEzCff7t8r64DGgD3AVUbdh5Ckg0URdulmRsqFn9GAE='}], reasoning_content=\"I need to find the derivative of the function f(x) = x³ + 2x² - 5x + 1.\\n\\nI'll use the power rule for derivatives, which states that if f(x) = xⁿ, then f'(x) = n·x^(n-1).\\n\\nLet me take the derivative of each term:\\n\\n1) For x³: using the power rule, d/dx(x³) = 3x²\\n2) For 2x²: using the power rule and constant multiple rule, d/dx(2x²) = 2·(2x¹) = 4x\\n3) For -5x: using the power rule and constant multiple rule, d/dx(-5x) = -5·(1x⁰) = -5\\n4) For the constant 1: d/dx(1) = 0\\n\\nSo the derivative is: 3x² + 4x - 5\"))], usage=Usage(completion_tokens=407, prompt_tokens=66, total_tokens=473, completion_tokens_details=CompletionTokensDetailsWrapper(accepted_prediction_tokens=None, audio_tokens=None, reasoning_tokens=205, rejected_prediction_tokens=None, text_tokens=None), prompt_tokens_details=None))"
      ]
     },
     "execution_count": null,
     "metadata": {},
     "output_type": "execute_result"
    }
   ],
   "source": [
    "r2.value"
   ]
  },
  {
   "cell_type": "markdown",
   "id": "e8dec26e",
   "metadata": {},
   "source": [
    "### Citations"
   ]
  },
  {
   "cell_type": "code",
   "execution_count": null,
   "id": "acd33761",
   "metadata": {},
   "outputs": [
    {
     "data": {
      "text/markdown": [
       "Otters are carnivorous mammals in the subfamily Lutrinae and members of the weasel family, found on every continent except Australia and Antarctica. There are 13-14 species in total, ranging from the small-clawed otter to the giant otter, with sizes varying from 0.6 to 1.8 m in length and 1 to 45 kg in weight.\n",
       "\n",
       "These semiaquatic animals live in both freshwater and marine environments, with small, short ears and noses, elongated bodies, long tails, and soft, dense fur. Otters have the densest fur of any animal—as many as a million hairs per square inch in places. Their powerful webbed feet are used for swimming, and they have seal-like abilities for holding breath underwater.\n",
       "\n",
       "All otters are expert hunters that eat fish, crustaceans, and other critters. Sea otters have an ingenious method to open shellfish, floating on their backs and smashing mollusks against rocks placed on their chests. They are playful animals, engaging in activities like sliding into water on natural slides and playing with stones.\n",
       "\n",
       "Otters were once hunted extensively for their fur, many to the point of near extinction, and despite regulations, many species remain at risk from pollution and habitat loss.\n",
       "\n",
       "<details>\n",
       "\n",
       "- id: `chatcmpl-2e810661-b001-4997-8c3e-c5241747a7a0`\n",
       "- model: `claude-sonnet-4-20250514`\n",
       "- finish_reason: `stop`\n",
       "- usage: `Usage(completion_tokens=548, prompt_tokens=13316, total_tokens=13864, completion_tokens_details=None, prompt_tokens_details=PromptTokensDetailsWrapper(audio_tokens=None, cached_tokens=0, text_tokens=None, image_tokens=None), server_tool_use=ServerToolUse(web_search_requests=1), cache_creation_input_tokens=0, cache_read_input_tokens=0)`\n",
       "\n",
       "</details>"
      ],
      "text/plain": [
       "ModelResponse(id='chatcmpl-2e810661-b001-4997-8c3e-c5241747a7a0', created=1757513318, model='claude-sonnet-4-20250514', object='chat.completion', system_fingerprint=None, choices=[Choices(finish_reason='stop', index=0, message=Message(content='Otters are carnivorous mammals in the subfamily Lutrinae and members of the weasel family, found on every continent except Australia and Antarctica. There are 13-14 species in total, ranging from the small-clawed otter to the giant otter, with sizes varying from 0.6 to 1.8 m in length and 1 to 45 kg in weight.\\n\\nThese semiaquatic animals live in both freshwater and marine environments, with small, short ears and noses, elongated bodies, long tails, and soft, dense fur. Otters have the densest fur of any animal—as many as a million hairs per square inch in places. Their powerful webbed feet are used for swimming, and they have seal-like abilities for holding breath underwater.\\n\\nAll otters are expert hunters that eat fish, crustaceans, and other critters. Sea otters have an ingenious method to open shellfish, floating on their backs and smashing mollusks against rocks placed on their chests. They are playful animals, engaging in activities like sliding into water on natural slides and playing with stones.\\n\\nOtters were once hunted extensively for their fur, many to the point of near extinction, and despite regulations, many species remain at risk from pollution and habitat loss.', role='assistant', tool_calls=None, function_call=None, provider_specific_fields={'citations': [[{'type': 'web_search_result_location', 'cited_text': 'Otters are carnivorous mammals in the subfamily Lutrinae. ', 'url': 'https://en.wikipedia.org/wiki/Otter', 'title': 'Otter - Wikipedia', 'encrypted_index': 'Eo8BCioIBxgCIiQ4ODk4YTFkYy0yMTNkLTRhNmYtOTljYi03ZTBlNTUzZDc0NWISDHixF+z+6liYkqkruxoMZvFJjuuDKK7yvfoWIjCi2Vzwj10X3FmVWTMnD9Tn2X8mOJZr8byov6GzAq56hs1NnIQUgNoINELYoZf4aYwqE5WUZ+TSi1qwdU5Q4VoYaUO7tggYBA=='}], [{'type': 'web_search_result_location', 'cited_text': 'The charismatic otter, a member of the weasel family, is found on every continent except Australia and Antarctica. ', 'url': 'https://www.nationalgeographic.com/animals/mammals/facts/otters-1', 'title': 'Otters, facts and information | National Geographic', 'encrypted_index': 'Eo8BCioIBxgCIiQ4ODk4YTFkYy0yMTNkLTRhNmYtOTljYi03ZTBlNTUzZDc0NWISDPrMisC5lYs+zWoPLBoMNaZNje3i5S2c2yRpIjCDFo7oU1mRoX9YhK0DueUcv5dafZyk74h1+6o1rx73bRhhHAdZQOQiupxuh+IOACMqE55Np1CRB6lJOPsXBkeveKTYig8YBA=='}], [{'type': 'web_search_result_location', 'cited_text': 'There are 13 species in total, ranging from the small-clawed otter to the giant otter.', 'url': 'https://www.nationalgeographic.com/animals/mammals/facts/otters-1', 'title': 'Otters, facts and information | National Geographic', 'encrypted_index': 'Eo8BCioIBxgCIiQ4ODk4YTFkYy0yMTNkLTRhNmYtOTljYi03ZTBlNTUzZDc0NWISDM+/1VtGLt9FMzwOxhoMrHYqqhqKJrkPtaWGIjA0etzfOGecitz5qYPztsApe6I2xf9uP4HbnRlQp30oropUDcS3aYcM7bTRG5TWnKkqEw2TKAIF8cQEeFJisXnajALt8hEYBA=='}, {'type': 'web_search_result_location', 'cited_text': 'The 13 species range in adult size from 0.6 to 1.8 m (2.0 to 5.9 ft) in length and 1 to 45 kg (2.2 to 99.2 lb) in weight. ', 'url': 'https://en.wikipedia.org/wiki/Otter', 'title': 'Otter - Wikipedia', 'encrypted_index': 'EpABCioIBxgCIiQ4ODk4YTFkYy0yMTNkLTRhNmYtOTljYi03ZTBlNTUzZDc0NWISDFWFYGy7/Uq4rErHTxoMnKrXjeRturtI52PnIjAm0sfvX9plwIX4zF3jXnsQq4GNmmLQQlh/l2SNQDsTCCj2aoNkaYC2fk1bHe7QsxwqFL8G3u3B0fmQE4qLfnIQuci/RDtEGAQ='}], [{'type': 'web_search_result_location', 'cited_text': 'The 13 species range in adult size from 0.6 to 1.8 m (2.0 to 5.9 ft) in length and 1 to 45 kg (2.2 to 99.2 lb) in weight. ', 'url': 'https://en.wikipedia.org/wiki/Otter', 'title': 'Otter - Wikipedia', 'encrypted_index': 'EpABCioIBxgCIiQ4ODk4YTFkYy0yMTNkLTRhNmYtOTljYi03ZTBlNTUzZDc0NWISDEIYLoUN6GsVCnHoCBoMrGVo41r6/H0v+T/MIjBU8gZdtCSmGDPpeU2ID4RTZn+ORXOWDV9vD8rgWe64aNUFcHOcJ7H4zIWvVgd6L3QqFDrBWd1u1Dve/VvnezZpqnIAvaLNGAQ='}], [{'type': 'web_search_result_location', 'cited_text': 'The 14 extant otter species are all semiaquatic, both freshwater and marine. ', 'url': 'https://en.wikipedia.org/wiki/Otter', 'title': 'Otter - Wikipedia', 'encrypted_index': 'Eo8BCioIBxgCIiQ4ODk4YTFkYy0yMTNkLTRhNmYtOTljYi03ZTBlNTUzZDc0NWISDEFETXr+rwmrjgmI6xoML3m2JpLUr1x69wNVIjBNYBUqK8gEojrMeLrBpBAEoWKF/AjU1Da6xOpr5GJKFdxF8lGyyP45lV355MLLuF8qE1ku3Fjenb3amFFP2VXd/28rcksYBA=='}], [{'type': 'web_search_result_location', 'cited_text': 'Most are small, with short ears and noses, elongated bodies, long tails, and soft, dense fur. ', 'url': 'https://www.nationalgeographic.com/animals/mammals/facts/otters-1', 'title': 'Otters, facts and information | National Geographic', 'encrypted_index': 'Eo8BCioIBxgCIiQ4ODk4YTFkYy0yMTNkLTRhNmYtOTljYi03ZTBlNTUzZDc0NWISDBWwORVihenRZaHv0BoM15xHlHrZfs6l2Jm/IjBEy3NwDkBkrCa8bQNig6Syt6hEktSCVM05KmDg3fxN46dS0ise72N2APD25R9DffIqE1foT9Ib+D+CpkspzCN/3V6eQ/IYBA=='}], [{'type': 'web_search_result_location', 'cited_text': 'Otters have the densest fur of any animal—as many as a million hairs per square inch in places. ', 'url': 'https://www.nationalgeographic.com/animals/mammals/facts/otters-1', 'title': 'Otters, facts and information | National Geographic', 'encrypted_index': 'Eo8BCioIBxgCIiQ4ODk4YTFkYy0yMTNkLTRhNmYtOTljYi03ZTBlNTUzZDc0NWISDPJDsYSKNVHlZRLEnRoMYZ60i6s8Vltr3IzEIjBPkFP6hIlg6/Ab68p2UEF7KALGkIAilsj+MpI7293510Ixb5moqoSj74enD7nU4pMqEznh+C+KokGwi2r/LmclC/R486gYBA=='}], [{'type': 'web_search_result_location', 'cited_text': 'Their most striking anatomical features are the powerful webbed feet used to swim, and their seal-like abilities for holding breath underwater. ', 'url': 'https://en.wikipedia.org/wiki/Otter', 'title': 'Otter - Wikipedia', 'encrypted_index': 'EpABCioIBxgCIiQ4ODk4YTFkYy0yMTNkLTRhNmYtOTljYi03ZTBlNTUzZDc0NWISDAC+YPoo2mCv0QS+3hoMaMHoa/Z/RAnr+CK0IjCWAByjXADlNpMqm4KUxe5WdQDwHgUziNuTTcwOLZvbWBsIz52Z+aX5wuQ1RYw6dF0qFC0TBwRqXTm8PuWr7O3VL7QMpSABGAQ='}], [{'type': 'web_search_result_location', 'cited_text': 'All otters are expert hunters that eat fish, crustaceans, and other critters. ', 'url': 'https://www.nationalgeographic.com/animals/mammals/facts/otters-1', 'title': 'Otters, facts and information | National Geographic', 'encrypted_index': 'EpABCioIBxgCIiQ4ODk4YTFkYy0yMTNkLTRhNmYtOTljYi03ZTBlNTUzZDc0NWISDPL4UV/KqPbEThY5sBoM80R3VVBahOwEdkdDIjAn0lYJWdg5R49+WIQp+c6D26i9GN+swvtEaeuNEneWV1kniSWAxCoKgtwg2zH81koqFAcgOl/oKbnahQi93IbxHc7TUg94GAQ='}], [{'type': 'web_search_result_location', 'cited_text': 'A sea otter will float on its back, place a rock on its chest, then smash the mollusk down on it until it breaks open. ', 'url': 'https://www.nationalgeographic.com/animals/mammals/facts/otters-1', 'title': 'Otters, facts and information | National Geographic', 'encrypted_index': 'EpABCioIBxgCIiQ4ODk4YTFkYy0yMTNkLTRhNmYtOTljYi03ZTBlNTUzZDc0NWISDJvFigOQ+LC0hddzgBoMl+Xaw+d3LdAAlU7IIjBoQFG1K0xv3ZJ7hAyddl6GDdGAAG+dBMKAx7bNhP2c4QpVoNiOGW8c0MLZWMLmM5gqFN2rXJG14N37LSQo8mVPcjSVEdwfGAQ='}], [{'type': 'web_search_result_location', 'cited_text': 'They are playful animals, engaging in activities like sliding into water on natural slides and playing with stones. ', 'url': 'https://en.wikipedia.org/wiki/Otter', 'title': 'Otter - Wikipedia', 'encrypted_index': 'Eo8BCioIBxgCIiQ4ODk4YTFkYy0yMTNkLTRhNmYtOTljYi03ZTBlNTUzZDc0NWISDDLGGtrKFbseNdMHihoMJWg6RxUb/stPe08XIjDSsCcMCHtF4ROn4P/eaMYCGG44LD5UXegtwSZZZEVOxhDTIZxCDsh3BTPwr/AFK3wqE9ypSfT1T78doCCDfjWY+4LIz/QYBA=='}], [{'type': 'web_search_result_location', 'cited_text': 'Otters and their mustelid relatives were once hunted extensively for their fur, many to the point of near extinction. Despite regulations designed to ...', 'url': 'https://www.nationalgeographic.com/animals/mammals/facts/otters-1', 'title': 'Otters, facts and information | National Geographic', 'encrypted_index': 'EpMBCioIBxgCIiQ4ODk4YTFkYy0yMTNkLTRhNmYtOTljYi03ZTBlNTUzZDc0NWISDEwcfS7NX1iMKBDxFxoMeTJXH6XzPwvALvfYIjD4qd/DnQxUuxPoauL5/LF5oS4k2vl1Av2uB9JkC31d5K+S4znZoeIaSAE3jeygkAoqFxkox9Rn0b+8wDQgcy5uU/l64dXuuqUNGAQ='}]], 'thinking_blocks': None}))], usage=Usage(completion_tokens=548, prompt_tokens=13316, total_tokens=13864, completion_tokens_details=None, prompt_tokens_details=PromptTokensDetailsWrapper(audio_tokens=None, cached_tokens=0, text_tokens=None, image_tokens=None), server_tool_use=ServerToolUse(web_search_requests=1), cache_creation_input_tokens=0, cache_read_input_tokens=0))"
      ]
     },
     "execution_count": null,
     "metadata": {},
     "output_type": "execute_result"
    }
   ],
   "source": [
    "search_tool = { \"type\": \"web_search_20250305\", \"name\": \"web_search\", \"max_uses\": 3}\n",
    "smsg = mk_user(\"Search the web and tell me very briefly about otters\")\n",
    "r = completion(ms[1], [smsg], tools=[search_tool])\n",
    "r"
   ]
  },
  {
   "cell_type": "markdown",
   "id": "abaeeee1",
   "metadata": {},
   "source": [
    "When not using streaming, all citations are placed in a separate key in the response:"
   ]
  },
  {
   "cell_type": "code",
   "execution_count": null,
   "id": "cf84f8c8",
   "metadata": {},
   "outputs": [
    {
     "data": {
      "text/plain": [
       "[{'type': 'web_search_result_location',\n",
       "  'cited_text': 'The charismatic otter, a member of the weasel family, is found on every continent except Australia and Antarctica. ',\n",
       "  'url': 'https://www.nationalgeographic.com/animals/mammals/facts/otters-1',\n",
       "  'title': 'Otters, facts and information | National Geographic',\n",
       "  'encrypted_index': 'Eo8BCioIBxgCIiQ4ODk4YTFkYy0yMTNkLTRhNmYtOTljYi03ZTBlNTUzZDc0NWISDJyHPDKSNM/j9PoO5hoMgAqcIDPAUZbUKhIYIjCKIBWWUCyTodl1Mz6gTYI9fUju4ycTN6rWxNn6TzmPTfZSJJtqpxSIqzKAHLvLH5YqEz5Kq9a1SDb59zHov9Vqz0LM6V0YBA=='},\n",
       " {'type': 'web_search_result_location',\n",
       "  'cited_text': 'There are 13 species in total, ranging from the small-clawed otter to the giant otter.',\n",
       "  'url': 'https://www.nationalgeographic.com/animals/mammals/facts/otters-1',\n",
       "  'title': 'Otters, facts and information | National Geographic',\n",
       "  'encrypted_index': 'Eo8BCioIBxgCIiQ4ODk4YTFkYy0yMTNkLTRhNmYtOTljYi03ZTBlNTUzZDc0NWISDO5uU+sWFu0hI5S9ixoMt6s67EONuq6ggGYnIjCwzma2C20+CK+7l1fEknyYEfgV9HkszB7PZlw7v9pHjJTlsEWQuqg0SuUpmuc/DwEqE62z/lyK+PxqEgFV3GHEkbaP4OAYBA=='}]"
      ]
     },
     "execution_count": null,
     "metadata": {},
     "output_type": "execute_result"
    }
   ],
   "source": [
    "r.choices[0].message.provider_specific_fields['citations'][0]"
   ]
  },
  {
   "cell_type": "markdown",
   "id": "3e68e4d0",
   "metadata": {},
   "source": [
    "We make these citations visible to end users by adding them as footnotes."
   ]
  },
  {
   "cell_type": "code",
   "execution_count": null,
   "id": "2bed0f93",
   "metadata": {},
   "outputs": [
    {
     "name": "stdout",
     "output_type": "stream",
     "text": [
      "**Citations:**\n",
      "- [12 Facts About Otters for Sea Otter Awareness Week | U.S. Department of the Interior](https://www.doi.gov/blog/12-facts-about-otters-sea-otter-awareness-week)\n",
      "- [Otter - Wikipedia](https://en.wikipedia.org/wiki/Otter)\n",
      "- [Otters, facts and information | National Geographic](https://www.nationalgeographic.com/animals/mammals/facts/otters-1)\n",
      "\n"
     ]
    }
   ],
   "source": [
    "#| export\n",
    "def format_citations(cs):\n",
    "    sources = {f\"- [{c['title']}]({c['url']})\\n\" for gs in cs for c in gs}\n",
    "    return '**Citations:**\\n' + ''.join(sorted(sources))"
   ]
  },
  {
   "cell_type": "code",
   "execution_count": null,
   "id": "ce28115f",
   "metadata": {},
   "outputs": [],
   "source": [
    "print(format_citations(r.choices[0].message.provider_specific_fields['citations']))"
   ]
  },
  {
   "cell_type": "code",
   "execution_count": null,
   "id": "5c440e7b",
   "metadata": {},
   "outputs": [],
   "source": [
    "#| export\n",
    "def add_citations_to_content(r):\n",
    "    \"Update LiteLLM ModelResponse content by appending formatted citations if they exist\"\n",
    "    if cs:=nested_idx(r.choices[0].message, 'provider_specific_fields', 'citations'):\n",
    "        r.choices[0].message.content += '\\n\\n'+format_citations(cs)"
   ]
  },
  {
   "cell_type": "code",
   "execution_count": null,
   "id": "e8cc4f7b",
   "metadata": {},
   "outputs": [
    {
     "data": {
      "text/markdown": [
       "Otters are charismatic members of the weasel family found on every continent except Australia and Antarctica, with 13 species in total ranging from the small-clawed otter to the giant otter. Most are small, with short ears and noses, elongated bodies, long tails, and soft, dense fur.\n",
       "\n",
       "Otters have the densest fur of any animal—as many as a million hairs per square inch in places. Webbed feet and powerful tails, which act like rudders, make otters strong swimmers. An otter's lung capacity is 2.5 times greater than that of similar-sized land mammals, with sea otters staying submerged for more than 5 minutes and river otters holding their breath for up to 8 minutes.\n",
       "\n",
       "All otters are expert hunters that eat fish, crustaceans, and other critters. Sea otters have an ingenious method to open shellfish by floating on their backs and smashing mollusks on rocks placed on their chests. They are playful animals, engaging in activities like sliding into water on natural slides and playing with stones.\n",
       "\n",
       "Otters and their relatives were once hunted extensively for their fur, many to the point of near extinction, and despite regulations designed to protect them, many species remain at risk from pollution and habitat loss.\n",
       "\n",
       "**Citations:**\n",
       "- [12 Facts About Otters for Sea Otter Awareness Week | U.S. Department of the Interior](https://www.doi.gov/blog/12-facts-about-otters-sea-otter-awareness-week)\n",
       "- [Otter - Wikipedia](https://en.wikipedia.org/wiki/Otter)\n",
       "- [Otters, facts and information | National Geographic](https://www.nationalgeographic.com/animals/mammals/facts/otters-1)\n",
       "\n",
       "\n",
       "**Citations:**\n",
       "- [12 Facts About Otters for Sea Otter Awareness Week | U.S. Department of the Interior](https://www.doi.gov/blog/12-facts-about-otters-sea-otter-awareness-week)\n",
       "- [Otter - Wikipedia](https://en.wikipedia.org/wiki/Otter)\n",
       "- [Otters, facts and information | National Geographic](https://www.nationalgeographic.com/animals/mammals/facts/otters-1)\n",
       "\n",
       "\n",
       "<details>\n",
       "\n",
       "- id: `chatcmpl-a026898b-e9b7-43cd-b367-cd9715410dcd`\n",
       "- model: `claude-sonnet-4-20250514`\n",
       "- finish_reason: `stop`\n",
       "- usage: `Usage(completion_tokens=505, prompt_tokens=13316, total_tokens=13821, completion_tokens_details=None, prompt_tokens_details=PromptTokensDetailsWrapper(audio_tokens=None, cached_tokens=0, text_tokens=None, image_tokens=None), server_tool_use=ServerToolUse(web_search_requests=1), cache_creation_input_tokens=0, cache_read_input_tokens=0)`\n",
       "\n",
       "</details>"
      ],
      "text/plain": [
       "ModelResponse(id='chatcmpl-a026898b-e9b7-43cd-b367-cd9715410dcd', created=1757512917, model='claude-sonnet-4-20250514', object='chat.completion', system_fingerprint=None, choices=[Choices(finish_reason='stop', index=0, message=Message(content=\"Otters are charismatic members of the weasel family found on every continent except Australia and Antarctica, with 13 species in total ranging from the small-clawed otter to the giant otter. Most are small, with short ears and noses, elongated bodies, long tails, and soft, dense fur.\\n\\nOtters have the densest fur of any animal—as many as a million hairs per square inch in places. Webbed feet and powerful tails, which act like rudders, make otters strong swimmers. An otter's lung capacity is 2.5 times greater than that of similar-sized land mammals, with sea otters staying submerged for more than 5 minutes and river otters holding their breath for up to 8 minutes.\\n\\nAll otters are expert hunters that eat fish, crustaceans, and other critters. Sea otters have an ingenious method to open shellfish by floating on their backs and smashing mollusks on rocks placed on their chests. They are playful animals, engaging in activities like sliding into water on natural slides and playing with stones.\\n\\nOtters and their relatives were once hunted extensively for their fur, many to the point of near extinction, and despite regulations designed to protect them, many species remain at risk from pollution and habitat loss.\\n\\n**Citations:**\\n- [12 Facts About Otters for Sea Otter Awareness Week | U.S. Department of the Interior](https://www.doi.gov/blog/12-facts-about-otters-sea-otter-awareness-week)\\n- [Otter - Wikipedia](https://en.wikipedia.org/wiki/Otter)\\n- [Otters, facts and information | National Geographic](https://www.nationalgeographic.com/animals/mammals/facts/otters-1)\\n\\n\\n**Citations:**\\n- [12 Facts About Otters for Sea Otter Awareness Week | U.S. Department of the Interior](https://www.doi.gov/blog/12-facts-about-otters-sea-otter-awareness-week)\\n- [Otter - Wikipedia](https://en.wikipedia.org/wiki/Otter)\\n- [Otters, facts and information | National Geographic](https://www.nationalgeographic.com/animals/mammals/facts/otters-1)\\n\", role='assistant', tool_calls=None, function_call=None, provider_specific_fields={'citations': [[{'type': 'web_search_result_location', 'cited_text': 'The charismatic otter, a member of the weasel family, is found on every continent except Australia and Antarctica. ', 'url': 'https://www.nationalgeographic.com/animals/mammals/facts/otters-1', 'title': 'Otters, facts and information | National Geographic', 'encrypted_index': 'Eo8BCioIBxgCIiQ4ODk4YTFkYy0yMTNkLTRhNmYtOTljYi03ZTBlNTUzZDc0NWISDJyHPDKSNM/j9PoO5hoMgAqcIDPAUZbUKhIYIjCKIBWWUCyTodl1Mz6gTYI9fUju4ycTN6rWxNn6TzmPTfZSJJtqpxSIqzKAHLvLH5YqEz5Kq9a1SDb59zHov9Vqz0LM6V0YBA=='}, {'type': 'web_search_result_location', 'cited_text': 'There are 13 species in total, ranging from the small-clawed otter to the giant otter.', 'url': 'https://www.nationalgeographic.com/animals/mammals/facts/otters-1', 'title': 'Otters, facts and information | National Geographic', 'encrypted_index': 'Eo8BCioIBxgCIiQ4ODk4YTFkYy0yMTNkLTRhNmYtOTljYi03ZTBlNTUzZDc0NWISDO5uU+sWFu0hI5S9ixoMt6s67EONuq6ggGYnIjCwzma2C20+CK+7l1fEknyYEfgV9HkszB7PZlw7v9pHjJTlsEWQuqg0SuUpmuc/DwEqE62z/lyK+PxqEgFV3GHEkbaP4OAYBA=='}], [{'type': 'web_search_result_location', 'cited_text': 'Most are small, with short ears and noses, elongated bodies, long tails, and soft, dense fur. ', 'url': 'https://www.nationalgeographic.com/animals/mammals/facts/otters-1', 'title': 'Otters, facts and information | National Geographic', 'encrypted_index': 'Eo8BCioIBxgCIiQ4ODk4YTFkYy0yMTNkLTRhNmYtOTljYi03ZTBlNTUzZDc0NWISDN51gXKsOMNTdthrUhoMaY/v34InJvB3T/q+IjCpplhzt1f6pYOB+aJ9SAV7z/FlDogEIeif6FGF/XT938HTHNpWEAV3T0FeQTcaaIIqE/IHBx2Xef+gyq1B/HutlxW5jJ4YBA=='}], [{'type': 'web_search_result_location', 'cited_text': 'Otters have the densest fur of any animal—as many as a million hairs per square inch in places. ', 'url': 'https://www.nationalgeographic.com/animals/mammals/facts/otters-1', 'title': 'Otters, facts and information | National Geographic', 'encrypted_index': 'Eo8BCioIBxgCIiQ4ODk4YTFkYy0yMTNkLTRhNmYtOTljYi03ZTBlNTUzZDc0NWISDNMOqK0xnU9KB8MljRoM2yerh2j3xFmJSyFhIjDryJ0L8PyEhsXL5zQnuc617G8CtuqL2SUP8WDQrqv0F5cyWshbvPNeVyQsRvvmSqUqE5aX2uGvhcPf6eQO5EALs+jk+A8YBA=='}], [{'type': 'web_search_result_location', 'cited_text': 'Webbed feet and powerful tails, which act like rudders, make otters strong swimmers. ', 'url': 'https://www.nationalgeographic.com/animals/mammals/facts/otters-1', 'title': 'Otters, facts and information | National Geographic', 'encrypted_index': 'EpABCioIBxgCIiQ4ODk4YTFkYy0yMTNkLTRhNmYtOTljYi03ZTBlNTUzZDc0NWISDB57XPIhsydLSvwY5RoMgKXFWj2vJGR+5AVPIjD6NCE+gEyYBZLUAw6/zfVhNaPCWBfaDvrYnb7jCnD2cheNY1984aG4AbK+dWxooC0qFPMyil1pm00brpNpA7JU3eQvq209GAQ='}], [{'type': 'web_search_result_location', 'cited_text': 'An otter’s lung capacity is 2.5 times greater than that of similar-sized land mammals. Sea otters have been known to stay submerged for more than 5 mi...', 'url': 'https://www.doi.gov/blog/12-facts-about-otters-sea-otter-awareness-week', 'title': '12 Facts About Otters for Sea Otter Awareness Week | U.S. Department of the Interior', 'encrypted_index': 'EpMBCioIBxgCIiQ4ODk4YTFkYy0yMTNkLTRhNmYtOTljYi03ZTBlNTUzZDc0NWISDHPLcCcEiZVoFNgrCxoMjSsvehcM06RtjfsLIjCxLLG9cXkLbxYYhTM1wrRriGhfhU6tsjnXuDIU9m0DIZnNO4X8ahWFXLtjjLDU0qsqF+qhNNp7Bz3lnZvvz8+xEGZ4sxCbJOCnGAQ='}], [{'type': 'web_search_result_location', 'cited_text': 'All otters are expert hunters that eat fish, crustaceans, and other critters. ', 'url': 'https://www.nationalgeographic.com/animals/mammals/facts/otters-1', 'title': 'Otters, facts and information | National Geographic', 'encrypted_index': 'EpABCioIBxgCIiQ4ODk4YTFkYy0yMTNkLTRhNmYtOTljYi03ZTBlNTUzZDc0NWISDLpKkTwPZ+tcKcVwsRoMcBaeeVSI8/9pL6t6IjCWuF1q1wmvaaCIKKp/A76NzREkJgr0wB0IdRSX5tXkVmcd87P11sx1KUCCEJQY3RAqFMZq4vk4AVLYw3+gtDJ3rnTswhL/GAQ='}], [{'type': 'web_search_result_location', 'cited_text': 'A sea otter will float on its back, place a rock on its chest, then smash the mollusk down on it until it breaks open. ', 'url': 'https://www.nationalgeographic.com/animals/mammals/facts/otters-1', 'title': 'Otters, facts and information | National Geographic', 'encrypted_index': 'EpABCioIBxgCIiQ4ODk4YTFkYy0yMTNkLTRhNmYtOTljYi03ZTBlNTUzZDc0NWISDGocw9GtO42wCu8lPBoMA3uhmaxp/2Pr4GFPIjBMiedaHKOSoFMy1uoXpH+BC/GhgAa70GLcLfUdGprcVfoY+bQWZYAqAKtXGJDEspkqFM2Fe2eyJmZoI3zrcySV4jMmTcICGAQ='}], [{'type': 'web_search_result_location', 'cited_text': 'They are playful animals, engaging in activities like sliding into water on natural slides and playing with stones. ', 'url': 'https://en.wikipedia.org/wiki/Otter', 'title': 'Otter - Wikipedia', 'encrypted_index': 'Eo8BCioIBxgCIiQ4ODk4YTFkYy0yMTNkLTRhNmYtOTljYi03ZTBlNTUzZDc0NWISDLo4E7SDfEteNVjTgBoMAXvGi5XJ+ak8cwVgIjBDHpDq0JbUPB7nYjT4eklo4z+HoVQiUssjq2Ryd9VnsOmqFhVOuB9lIs4rvqqFNw0qEyNmEsa+gjnodk/JGP3gFffOcfAYBA=='}], [{'type': 'web_search_result_location', 'cited_text': 'Otters and their mustelid relatives were once hunted extensively for their fur, many to the point of near extinction. Despite regulations designed to ...', 'url': 'https://www.nationalgeographic.com/animals/mammals/facts/otters-1', 'title': 'Otters, facts and information | National Geographic', 'encrypted_index': 'EpMBCioIBxgCIiQ4ODk4YTFkYy0yMTNkLTRhNmYtOTljYi03ZTBlNTUzZDc0NWISDAOXbnZA1M4Cqa+qThoMlDc2OGT38rwtSkwOIjBzeLO2vlJl2nOp12rAKyPYWanQir1xXRbuXmhBGVAogOi8B0kaZW5qYGg0TQrHEeMqF/poTol4ezQJqA7MXZvA5zs5rpCKwDZjGAQ='}]], 'thinking_blocks': None}))], usage=Usage(completion_tokens=505, prompt_tokens=13316, total_tokens=13821, completion_tokens_details=None, prompt_tokens_details=PromptTokensDetailsWrapper(audio_tokens=None, cached_tokens=0, text_tokens=None, image_tokens=None), server_tool_use=ServerToolUse(web_search_requests=1), cache_creation_input_tokens=0, cache_read_input_tokens=0))"
      ]
     },
     "execution_count": null,
     "metadata": {},
     "output_type": "execute_result"
    }
   ],
   "source": [
    "add_citations_to_content(r)\n",
    "r"
   ]
  },
  {
   "cell_type": "code",
   "execution_count": null,
   "id": "fc3ce342",
   "metadata": {},
   "outputs": [],
   "source": [
    "r = list(completion(ms[1], [smsg], tools=[search_tool], stream=True))"
   ]
  },
  {
   "cell_type": "code",
   "execution_count": null,
   "id": "fc341e7e",
   "metadata": {},
   "outputs": [],
   "source": [
    "#| export\n",
    "def cite_footnotes(stream_list):\n",
    "    \"Add markdown footnote citations to stream deltas\"\n",
    "    for msg in stream_list:\n",
    "        delta = nested_idx(msg, 'choices', 0, 'delta')\n",
    "        if not delta: continue\n",
    "        citation = nested_idx(delta, 'provider_specific_fields', 'citation')\n",
    "        if citation:\n",
    "            title = citation['title'].replace('\"', '\\\\\"')\n",
    "            delta.content = f'[*]({citation[\"url\"]} \"{title}\") '"
   ]
  },
  {
   "cell_type": "code",
   "execution_count": null,
   "id": "c2150365",
   "metadata": {},
   "outputs": [
    {
     "data": {
      "text/markdown": [
       "Otters are [*](https://www.nationalgeographic.com/animals/mammals/facts/otters-1 \"Otters, facts and information | National Geographic\") [*](https://en.wikipedia.org/wiki/Otter \"Otter - Wikipedia\") carnivorous mammals in the weasel family found on every continent except Australia and Antarctica. [*](https://www.nationalgeographic.com/animals/mammals/facts/otters-1 \"Otters, facts and information | National Geographic\") [*](https://en.wikipedia.org/wiki/Otter \"Otter - Wikipedia\") There are 13-14 species in total, ranging from [*](https://en.wikipedia.org/wiki/Otter \"Otter - Wikipedia\") the smallest Asian small-clawed otter to the giant otter and sea otter.\n",
       "\n",
       "[*](https://www.nationalgeographic.com/animals/mammals/facts/otters-1 \"Otters, facts and information | National Geographic\") Most are small, with short ears and noses, elongated bodies, long tails, and soft, dense fur. [*](https://www.nationalgeographic.com/animals/mammals/facts/otters-1 \"Otters, facts and information | National Geographic\") Otters have the densest fur of any animal—as many as a million hairs per square inch in places. [*](https://en.wikipedia.org/wiki/Otter \"Otter - Wikipedia\") Their most striking anatomical features are the powerful webbed feet used to swim, and their seal-like abilities for holding breath underwater.\n",
       "\n",
       "[*](https://www.nationalgeographic.com/animals/mammals/facts/otters-1 \"Otters, facts and information | National Geographic\") All otters are expert hunters that eat fish, crustaceans, and other critters. [*](https://www.nationalgeographic.com/animals/mammals/facts/otters-1 \"Otters, facts and information | National Geographic\") Sea otters have an ingenious method to open shellfish - they float on their backs, place a rock on their chests, then smash mollusks down until they break open. [*](https://www.doi.gov/blog/12-facts-about-otters-sea-otter-awareness-week \"12 Facts About Otters for Sea Otter Awareness Week | U.S. Department of the Interior\") Sea otters can stay submerged for more than 5 minutes while river otters can hold their breath for up to 8 minutes.\n",
       "\n",
       "[*](https://en.wikipedia.org/wiki/Otter \"Otter - Wikipedia\") They are playful animals, engaging in activities like sliding into water on natural slides and playing with stones. [*](https://en.wikipedia.org/wiki/Otter \"Otter - Wikipedia\") Otters live up to 16 years; they are by nature playful. [*](https://www.doi.gov/blog/12-facts-about-otters-sea-otter-awareness-week \"12 Facts About Otters for Sea Otter Awareness Week | U.S. Department of the Interior\") They were hunted to near extinction by fur traders in the 18th and 19th centuries, and [*](https://www.nationalgeographic.com/animals/mammals/facts/otters-1 \"Otters, facts and information | National Geographic\") many species remain at risk from pollution and habitat loss.\n",
       "\n",
       "<details>\n",
       "\n",
       "- id: `chatcmpl-592fcc4a-16eb-423b-a0c8-e016cc79c4ca`\n",
       "- model: `claude-sonnet-4-20250514`\n",
       "- finish_reason: `stop`\n",
       "- usage: `Usage(completion_tokens=583, prompt_tokens=13316, total_tokens=13899, completion_tokens_details=CompletionTokensDetailsWrapper(accepted_prediction_tokens=None, audio_tokens=None, reasoning_tokens=0, rejected_prediction_tokens=None, text_tokens=None), prompt_tokens_details=None)`\n",
       "\n",
       "</details>"
      ],
      "text/plain": [
       "ModelResponse(id='chatcmpl-592fcc4a-16eb-423b-a0c8-e016cc79c4ca', created=1757489637, model='claude-sonnet-4-20250514', object='chat.completion', system_fingerprint=None, choices=[Choices(finish_reason='stop', index=0, message=Message(content='Otters are [*](https://www.nationalgeographic.com/animals/mammals/facts/otters-1 \"Otters, facts and information | National Geographic\") [*](https://en.wikipedia.org/wiki/Otter \"Otter - Wikipedia\") carnivorous mammals in the weasel family found on every continent except Australia and Antarctica. [*](https://www.nationalgeographic.com/animals/mammals/facts/otters-1 \"Otters, facts and information | National Geographic\") [*](https://en.wikipedia.org/wiki/Otter \"Otter - Wikipedia\") There are 13-14 species in total, ranging from [*](https://en.wikipedia.org/wiki/Otter \"Otter - Wikipedia\") the smallest Asian small-clawed otter to the giant otter and sea otter.\\n\\n[*](https://www.nationalgeographic.com/animals/mammals/facts/otters-1 \"Otters, facts and information | National Geographic\") Most are small, with short ears and noses, elongated bodies, long tails, and soft, dense fur. [*](https://www.nationalgeographic.com/animals/mammals/facts/otters-1 \"Otters, facts and information | National Geographic\") Otters have the densest fur of any animal—as many as a million hairs per square inch in places. [*](https://en.wikipedia.org/wiki/Otter \"Otter - Wikipedia\") Their most striking anatomical features are the powerful webbed feet used to swim, and their seal-like abilities for holding breath underwater.\\n\\n[*](https://www.nationalgeographic.com/animals/mammals/facts/otters-1 \"Otters, facts and information | National Geographic\") All otters are expert hunters that eat fish, crustaceans, and other critters. [*](https://www.nationalgeographic.com/animals/mammals/facts/otters-1 \"Otters, facts and information | National Geographic\") Sea otters have an ingenious method to open shellfish - they float on their backs, place a rock on their chests, then smash mollusks down until they break open. [*](https://www.doi.gov/blog/12-facts-about-otters-sea-otter-awareness-week \"12 Facts About Otters for Sea Otter Awareness Week | U.S. Department of the Interior\") Sea otters can stay submerged for more than 5 minutes while river otters can hold their breath for up to 8 minutes.\\n\\n[*](https://en.wikipedia.org/wiki/Otter \"Otter - Wikipedia\") They are playful animals, engaging in activities like sliding into water on natural slides and playing with stones. [*](https://en.wikipedia.org/wiki/Otter \"Otter - Wikipedia\") Otters live up to 16 years; they are by nature playful. [*](https://www.doi.gov/blog/12-facts-about-otters-sea-otter-awareness-week \"12 Facts About Otters for Sea Otter Awareness Week | U.S. Department of the Interior\") They were hunted to near extinction by fur traders in the 18th and 19th centuries, and [*](https://www.nationalgeographic.com/animals/mammals/facts/otters-1 \"Otters, facts and information | National Geographic\") many species remain at risk from pollution and habitat loss.', role='assistant', tool_calls=[], function_call=None, provider_specific_fields=None))], usage=Usage(completion_tokens=583, prompt_tokens=13316, total_tokens=13899, completion_tokens_details=CompletionTokensDetailsWrapper(accepted_prediction_tokens=None, audio_tokens=None, reasoning_tokens=0, rejected_prediction_tokens=None, text_tokens=None), prompt_tokens_details=None))"
      ]
     },
     "execution_count": null,
     "metadata": {},
     "output_type": "execute_result"
    }
   ],
   "source": [
    "cite_footnotes(r)\n",
    "stream_chunk_builder(r)"
   ]
  },
  {
   "cell_type": "markdown",
   "id": "29018310",
   "metadata": {},
   "source": [
    "## Chat"
   ]
  },
  {
   "cell_type": "markdown",
   "id": "da9223dc",
   "metadata": {},
   "source": [
    "Litellm is pretty bare bones. It doesnt keep track of conversation history or anything.\n",
    "\n",
    "So lets make a claudette style wrapper so we can do streaming, toolcalling, and toolloops without problems."
   ]
  },
  {
   "cell_type": "code",
   "execution_count": null,
   "id": "cfd81a7c",
   "metadata": {},
   "outputs": [],
   "source": [
    "#| export\n",
    "# TODO: dont like this var name...\n",
    "# TODO: make enum so type hints are nice\n",
    "effort = AttrDict({o[0]:o for o in ('low','medium','high')})"
   ]
  },
  {
   "cell_type": "code",
   "execution_count": null,
   "id": "266f3d5d",
   "metadata": {},
   "outputs": [],
   "source": [
    "#| export\n",
    "class Chat:\n",
    "    def __init__(self, model:str, sp='', temp=0, tools:list=None, hist:list=None, ns:Optional[dict]=None, cache=False):\n",
    "        \"LiteLLM chat client.\"\n",
    "        self.model = model\n",
    "        hist,tools = listify(hist),listify(tools)\n",
    "        if ns is None and tools: ns = mk_ns(tools)\n",
    "        elif ns is None: ns = globals()\n",
    "        self.tool_schemas = [_lite_mk_func(t) for t in tools] if tools else None\n",
    "        store_attr()\n",
    "    \n",
    "    def _prepare_msgs(self, msg=None, prefill=None):\n",
    "        \"Prepare the messages list for the API call\"\n",
    "        msgs = [{\"role\": \"system\", \"content\": self.sp}] if self.sp else []\n",
    "        self.hist += [mk_user(msg, cache=self.cache)] if isinstance(msg, str) \\\n",
    "            else [msg] if isinstance(msg, dict) \\\n",
    "            else [] if msg is None \\\n",
    "            else msg\n",
    "        if prefill and get_model_info(self.model)[\"supports_assistant_prefill\"]: \n",
    "            self.hist.append({\"role\":\"assistant\",\"content\":prefill})\n",
    "        return msgs + [m if isinstance(m, dict) else m.model_dump() for m in self.hist]\n",
    "\n",
    "    def _call(self, msg=None, prefill=None, temp=None, think=None, stream=False, max_tool_rounds=1, tool_round=0, final_prompt=None, tool_choice=None, **kwargs):\n",
    "        \"Internal method that always yields responses\"\n",
    "        msgs = self._prepare_msgs(msg, prefill)\n",
    "        res = completion(model=self.model, messages=msgs, stream=stream, \n",
    "                         tools=self.tool_schemas, reasoning_effort = effort.get(think),\n",
    "                         # temperature is not supported when reasoning\n",
    "                         temperature=None if think else (temp if temp is not None else self.temp), **kwargs)\n",
    "        if stream: res = yield from stream_with_complete(res, postproc=cite_footnotes)\n",
    "        else: add_citations_to_content(res)\n",
    "        m = res.choices[0].message\n",
    "        self.hist.append(m)\n",
    "        yield res\n",
    "\n",
    "        if tcs := m.tool_calls:\n",
    "            tool_results = [_lite_call_func(tc, ns=self.ns) for tc in tcs]\n",
    "            if tool_round>=max_tool_rounds-1:\n",
    "                tool_results += ([{\"role\": \"user\", \"content\": final_prompt}] if final_prompt else [])\n",
    "                tool_choice='none'\n",
    "            yield from self._call(\n",
    "                tool_results, stream, max_tool_rounds, tool_round+1,\n",
    "                final_prompt, tool_choice=tool_choice, **kwargs)\n",
    "    \n",
    "    def __call__(self, msg=None, prefill=None, temp=None, think=None, stream=False, max_tool_rounds=1,\n",
    "                 final_prompt=None, return_all=False, **kwargs):\n",
    "        \"Main call method - handles streaming vs non-streaming\"\n",
    "        result_gen = self._call(msg, prefill, temp, think, stream, max_tool_rounds, 0, final_prompt, **kwargs)     \n",
    "        if stream: return result_gen              # streaming\n",
    "        elif return_all: return list(result_gen)  # toolloop behavior\n",
    "        else: return last(result_gen)             # normal chat behavior"
   ]
  },
  {
   "cell_type": "markdown",
   "id": "563e7178",
   "metadata": {},
   "source": [
    "## Add prefill"
   ]
  },
  {
   "cell_type": "markdown",
   "id": "ca3723e8",
   "metadata": {},
   "source": [
    "Litellm supports `prefill` for models that have this feature. Note, it does not add your prefill to the response, so you'll have to do that yourself in post-processing."
   ]
  },
  {
   "cell_type": "code",
   "execution_count": null,
   "id": "dc61f060",
   "metadata": {},
   "outputs": [
    {
     "data": {
      "text/markdown": [
       "-ns! Nice to meet you. How are you doing today?\n",
       "\n",
       "<details>\n",
       "\n",
       "- id: `chatcmpl-2519bf61-03e9-4487-adee-63560158af1e`\n",
       "- model: `claude-sonnet-4-20250514`\n",
       "- finish_reason: `stop`\n",
       "- usage: `Usage(completion_tokens=17, prompt_tokens=18, total_tokens=35, completion_tokens_details=None, prompt_tokens_details=PromptTokensDetailsWrapper(audio_tokens=None, cached_tokens=0, text_tokens=None, image_tokens=None), cache_creation_input_tokens=0, cache_read_input_tokens=0)`\n",
       "\n",
       "</details>"
      ],
      "text/plain": [
       "ModelResponse(id='chatcmpl-2519bf61-03e9-4487-adee-63560158af1e', created=1757396919, model='claude-sonnet-4-20250514', object='chat.completion', system_fingerprint=None, choices=[Choices(finish_reason='stop', index=0, message=Message(content='-ns! Nice to meet you. How are you doing today?', role='assistant', tool_calls=None, function_call=None, provider_specific_fields={'citations': None, 'thinking_blocks': None}))], usage=Usage(completion_tokens=17, prompt_tokens=18, total_tokens=35, completion_tokens_details=None, prompt_tokens_details=PromptTokensDetailsWrapper(audio_tokens=None, cached_tokens=0, text_tokens=None, image_tokens=None), cache_creation_input_tokens=0, cache_read_input_tokens=0))"
      ]
     },
     "execution_count": null,
     "metadata": {},
     "output_type": "execute_result"
    }
   ],
   "source": [
    "chat = Chat(ms[1])\n",
    "chat(\"Hey my name is Rens\", prefill=\"Howdy Re\")"
   ]
  },
  {
   "cell_type": "markdown",
   "id": "1dbf319a",
   "metadata": {},
   "source": [
    "### Test history tracking"
   ]
  },
  {
   "cell_type": "code",
   "execution_count": null,
   "id": "957ccd1e",
   "metadata": {},
   "outputs": [
    {
     "data": {
      "text/markdown": [
       "Hi Rens! Nice to meet you. How can I help you today? 😊\n",
       "\n",
       "<details>\n",
       "\n",
       "- id: `chatcmpl-CDlVYCRj8tekPIc0YXDdq0312VGFt`\n",
       "- model: `gpt-4.1-2025-04-14`\n",
       "- finish_reason: `stop`\n",
       "- usage: `Usage(completion_tokens=17, prompt_tokens=13, total_tokens=30, completion_tokens_details=CompletionTokensDetailsWrapper(accepted_prediction_tokens=0, audio_tokens=0, reasoning_tokens=0, rejected_prediction_tokens=0, text_tokens=None), prompt_tokens_details=PromptTokensDetailsWrapper(audio_tokens=0, cached_tokens=0, text_tokens=None, image_tokens=None))`\n",
       "\n",
       "</details>"
      ],
      "text/plain": [
       "ModelResponse(id='chatcmpl-CDlVYCRj8tekPIc0YXDdq0312VGFt', created=1757396920, model='gpt-4.1-2025-04-14', object='chat.completion', system_fingerprint='fp_3502f4eb73', choices=[Choices(finish_reason='stop', index=0, message=Message(content='Hi Rens! Nice to meet you. How can I help you today? 😊', role='assistant', tool_calls=None, function_call=None, provider_specific_fields={'refusal': None}, annotations=[]), provider_specific_fields={})], usage=Usage(completion_tokens=17, prompt_tokens=13, total_tokens=30, completion_tokens_details=CompletionTokensDetailsWrapper(accepted_prediction_tokens=0, audio_tokens=0, reasoning_tokens=0, rejected_prediction_tokens=0, text_tokens=None), prompt_tokens_details=PromptTokensDetailsWrapper(audio_tokens=0, cached_tokens=0, text_tokens=None, image_tokens=None)), service_tier='default')"
      ]
     },
     "execution_count": null,
     "metadata": {},
     "output_type": "execute_result"
    }
   ],
   "source": [
    "chat = Chat(m)\n",
    "res = chat(\"Hey my name is Rens\")\n",
    "res"
   ]
  },
  {
   "cell_type": "code",
   "execution_count": null,
   "id": "5978da56",
   "metadata": {},
   "outputs": [
    {
     "data": {
      "text/markdown": [
       "Your name is Rens!\n",
       "\n",
       "<details>\n",
       "\n",
       "- id: `chatcmpl-CDlVZiSvndtoiiivjaMR7EaT0FoCp`\n",
       "- model: `gpt-4.1-2025-04-14`\n",
       "- finish_reason: `stop`\n",
       "- usage: `Usage(completion_tokens=6, prompt_tokens=41, total_tokens=47, completion_tokens_details=CompletionTokensDetailsWrapper(accepted_prediction_tokens=0, audio_tokens=0, reasoning_tokens=0, rejected_prediction_tokens=0, text_tokens=None), prompt_tokens_details=PromptTokensDetailsWrapper(audio_tokens=0, cached_tokens=0, text_tokens=None, image_tokens=None))`\n",
       "\n",
       "</details>"
      ],
      "text/plain": [
       "ModelResponse(id='chatcmpl-CDlVZiSvndtoiiivjaMR7EaT0FoCp', created=1757396921, model='gpt-4.1-2025-04-14', object='chat.completion', system_fingerprint='fp_daf5fcc80a', choices=[Choices(finish_reason='stop', index=0, message=Message(content='Your name is Rens!', role='assistant', tool_calls=None, function_call=None, provider_specific_fields={'refusal': None}, annotations=[]), provider_specific_fields={})], usage=Usage(completion_tokens=6, prompt_tokens=41, total_tokens=47, completion_tokens_details=CompletionTokensDetailsWrapper(accepted_prediction_tokens=0, audio_tokens=0, reasoning_tokens=0, rejected_prediction_tokens=0, text_tokens=None), prompt_tokens_details=PromptTokensDetailsWrapper(audio_tokens=0, cached_tokens=0, text_tokens=None, image_tokens=None)), service_tier='default')"
      ]
     },
     "execution_count": null,
     "metadata": {},
     "output_type": "execute_result"
    }
   ],
   "source": [
    "chat(\"Whats my name\")"
   ]
  },
  {
   "cell_type": "markdown",
   "id": "8dbb77c7",
   "metadata": {},
   "source": [
    "See now we keep track of history!"
   ]
  },
  {
   "cell_type": "markdown",
   "id": "46716033",
   "metadata": {},
   "source": [
    "### Testing streaming"
   ]
  },
  {
   "cell_type": "code",
   "execution_count": null,
   "id": "3fe74496",
   "metadata": {},
   "outputs": [],
   "source": [
    "from time import sleep\n",
    "chat2 = Chat(m)\n",
    "stream_gen = chat2(\"Count to 5\", stream=True)\n",
    "for chunk in stream_gen:\n",
    "    sleep(0.1)  # for effect\n",
    "    if isinstance(chunk, ModelResponse): display(chunk)\n",
    "    else: print(delta_text(chunk) or '',end='')"
   ]
  },
  {
   "cell_type": "markdown",
   "id": "3b8c3666",
   "metadata": {},
   "source": [
    "## Test tool use"
   ]
  },
  {
   "cell_type": "markdown",
   "id": "bf17377a",
   "metadata": {},
   "source": [
    "Ok now lets test tool use"
   ]
  },
  {
   "cell_type": "code",
   "execution_count": null,
   "id": "1c4cf429",
   "metadata": {},
   "outputs": [],
   "source": [
    "for m in ms:\n",
    "    display(f'=== {m} ===')\n",
    "    chat = Chat(m, tools=[simple_add])\n",
    "    res = chat(\"What's 5 + 3?\")\n",
    "    display(res)"
   ]
  },
  {
   "cell_type": "code",
   "execution_count": null,
   "id": "afd9a499",
   "metadata": {},
   "outputs": [],
   "source": [
    "chat = Chat(ms[1], tools=[search_tool])\n",
    "res = chat(\"Search the web and tell me very briefly about otters\", stream=True)\n",
    "for o in res:\n",
    "    if isinstance(o, ModelResponse): sleep(0.01); display(o)\n",
    "    else: print(delta_text(o) or '',end='')"
   ]
  },
  {
   "cell_type": "markdown",
   "id": "d8cce2d9",
   "metadata": {},
   "source": [
    "## Test multi tool calling"
   ]
  },
  {
   "cell_type": "code",
   "execution_count": null,
   "id": "662f7aa3",
   "metadata": {},
   "outputs": [],
   "source": [
    "chat = Chat(model, tools=[simple_add])\n",
    "res = chat(\"What's ((5 + 3)+7)+11? Work step by step\", return_all=True, max_tool_rounds=5)\n",
    "for r in res: display(r)"
   ]
  },
  {
   "cell_type": "code",
   "execution_count": null,
   "id": "3f9de676",
   "metadata": {},
   "outputs": [],
   "source": [
    "@patch(as_prop=True)\n",
    "def cost(self: Chat):\n",
    "    \"Total cost of all responses in conversation history\"\n",
    "    return sum(getattr(r, '_hidden_params', {}).get('response_cost')  or 0\n",
    "               for r in self.h if hasattr(r, 'choices'))"
   ]
  },
  {
   "cell_type": "markdown",
   "id": "a9f66101",
   "metadata": {},
   "source": [
    "Some models support parallel tool calling. I.e. sending multiple tool call requests in one conversation step."
   ]
  },
  {
   "cell_type": "code",
   "execution_count": null,
   "id": "3ec77539",
   "metadata": {},
   "outputs": [],
   "source": [
    "def multiply(a: int, b: int) -> int:\n",
    "    \"Multiply two numbers\"\n",
    "    print(f\"MULTIPLY: {a} * {b}\")\n",
    "    return a * b\n",
    "\n",
    "chat = Chat(ms[-1], tools=[simple_add, multiply])\n",
    "res = chat(\"Calculate (5 + 3) * (7 + 2)\", max_tool_rounds=5, return_all=True)\n",
    "for r in res: display(r)"
   ]
  },
  {
   "cell_type": "markdown",
   "id": "dba4958f",
   "metadata": {},
   "source": [
    "See it did the additions in one go!"
   ]
  },
  {
   "cell_type": "markdown",
   "id": "33b17e71",
   "metadata": {},
   "source": [
    "Hit max_tool_rounds limit with final_prompt"
   ]
  },
  {
   "cell_type": "code",
   "execution_count": null,
   "id": "aa7298c0",
   "metadata": {},
   "outputs": [],
   "source": [
    "def divide(a: int, b: int) -> float:\n",
    "    \"Divide two numbers\"\n",
    "    display(f\"DIVIDE: {a} / {b}\")\n",
    "    return a / b\n",
    "\n",
    "chat = Chat(m, tools=[simple_add, multiply, divide])\n",
    "res = chat(\"Calculate ((10 + 5) * 3) / (2 + 1) step by step\", \n",
    "           max_tool_rounds=2, return_all=True,\n",
    "           final_prompt=\"Please summarize what you've calculated so far\")\n",
    "print(f\"Got {len(res)} responses\")\n",
    "for r in res: display(r)"
   ]
  },
  {
   "cell_type": "markdown",
   "id": "6f9764dc",
   "metadata": {},
   "source": [
    "## Export"
   ]
  },
  {
   "cell_type": "code",
   "execution_count": null,
   "id": "6e677e0c",
   "metadata": {},
   "outputs": [],
   "source": [
    "#| hide\n",
    "import nbdev; nbdev.nbdev_export()"
   ]
  },
  {
   "cell_type": "code",
   "execution_count": null,
   "id": "c78ee53b",
   "metadata": {},
   "outputs": [],
   "source": [
    "from IPython.display import Image"
   ]
  },
  {
   "cell_type": "code",
   "execution_count": null,
   "id": "6d383f1d",
   "metadata": {},
   "outputs": [],
   "source": [
    "fn = Path('samples/puppy.jpg')\n",
    "Image(filename=fn, width=200)"
   ]
  },
  {
   "cell_type": "code",
   "execution_count": null,
   "id": "78d71207",
   "metadata": {},
   "outputs": [],
   "source": [
    "def _mk_img(data:bytes)->tuple:\n",
    "    \"Convert image bytes to a base64 encoded image\"\n",
    "    img = base64.b64encode(data).decode(\"utf-8\")\n",
    "    mtype = mimetypes.types_map[\".\"+imghdr.what(None, h=data)]\n",
    "    return img, mtype"
   ]
  },
  {
   "cell_type": "code",
   "execution_count": null,
   "id": "979360f0",
   "metadata": {},
   "outputs": [],
   "source": [
    "import base64\n",
    "import mimetypes\n",
    "from fastcore import imghdr"
   ]
  },
  {
   "cell_type": "code",
   "execution_count": null,
   "id": "cac27e13",
   "metadata": {},
   "outputs": [],
   "source": [
    "imgbytes = fn.read_bytes()\n",
    "img,mtype = _mk_img(imgbytes)\n",
    "imgd = { \"image_url\": {\"url\": f'data:{mtype};base64,{img}', \"format\":mtype} }"
   ]
  },
  {
   "cell_type": "code",
   "execution_count": null,
   "id": "108e17ca",
   "metadata": {},
   "outputs": [],
   "source": [
    "response = completion( model=model, \n",
    "    messages=[\n",
    "        { \"role\": \"user\",\n",
    "        \"content\": [{ \"type\": \"text\", \"text\": \"What’s in this image?\" },\n",
    "        { \"type\": \"image_url\", **imgd }] }\n",
    "    ])"
   ]
  },
  {
   "cell_type": "code",
   "execution_count": null,
   "id": "ae33d10f",
   "metadata": {},
   "outputs": [],
   "source": [
    "response"
   ]
  }
 ],
 "metadata": {},
 "nbformat": 4,
 "nbformat_minor": 5
}
