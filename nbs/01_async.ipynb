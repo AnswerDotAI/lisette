{
 "cells": [
  {
   "cell_type": "markdown",
   "id": "81495cb6",
   "metadata": {
    "input_tokens": 37
   },
   "source": [
    "# Async\n",
    "\n",
    "> Implements an `AsyncChat` version that mirrors the regular `lisette.Chat` as closely as possible."
   ]
  },
  {
   "cell_type": "code",
   "execution_count": null,
   "id": "525ea33a",
   "metadata": {
    "input_tokens": 9
   },
   "outputs": [],
   "source": [
    "#| default_exp asink"
   ]
  },
  {
   "cell_type": "code",
   "execution_count": null,
   "id": "ad3a98fa",
   "metadata": {
    "input_tokens": 73
   },
   "outputs": [],
   "source": [
    "#| export\n",
    "import json,asyncio\n",
    "from litellm import acompletion, ModelResponse, ModelResponseStream, stream_chunk_builder\n",
    "from toolslm.funccall import call_func_async\n",
    "from fastcore.utils import *\n",
    "from lisette.core import *"
   ]
  },
  {
   "cell_type": "markdown",
   "id": "7371d580",
   "metadata": {
    "input_tokens": 3
   },
   "source": [
    "## Implementation"
   ]
  },
  {
   "cell_type": "code",
   "execution_count": null,
   "id": "26ba2c34",
   "metadata": {
    "input_tokens": 97
   },
   "outputs": [],
   "source": [
    "#| export\n",
    "async def _alite_call_func(tc, ns, raise_on_err=True):\n",
    "    res = await call_func_async(tc.function.name, json.loads(tc.function.arguments), ns=ns)\n",
    "    return {\"tool_call_id\": tc.id, \"role\": \"tool\", \"name\": tc.function.name, \"content\": str(res)}"
   ]
  },
  {
   "cell_type": "markdown",
   "id": "d8c7b457",
   "metadata": {
    "input_tokens": 34
   },
   "source": [
    "As you cannot receive the return value of an async generator we have to write a little wrapper to capture this result:"
   ]
  },
  {
   "cell_type": "code",
   "execution_count": null,
   "id": "43e72153",
   "metadata": {
    "input_tokens": 82
   },
   "outputs": [],
   "source": [
    "#| export\n",
    "@asave_iter\n",
    "async def astream_result(self, agen, postproc=noop):\n",
    "    chunks = []\n",
    "    async for chunk in agen:\n",
    "        chunks.append(chunk)\n",
    "        yield chunk\n",
    "    postproc(chunks)\n",
    "    self.value = stream_chunk_builder(chunks)"
   ]
  },
  {
   "cell_type": "code",
   "execution_count": null,
   "id": "d94610e4",
   "metadata": {
    "input_tokens": 702,
    "output_tokens": 192,
    "time_run": "11:12:58a"
   },
   "outputs": [
    {
     "ename": "NameError",
     "evalue": "name 'Chat' is not defined",
     "output_type": "error",
     "traceback": [
      "\u001b[31m---------------------------------------------------------------------------\u001b[39m",
      "\u001b[31mNameError\u001b[39m                                 Traceback (most recent call last)",
      "\u001b[36mCell\u001b[39m\u001b[36m \u001b[39m\u001b[32mIn[5]\u001b[39m\u001b[32m, line 1\u001b[39m",
      "\u001b[32m----> \u001b[39m\u001b[32m1\u001b[39m \u001b[38;5;28;01mclass\u001b[39;00m\u001b[38;5;250m \u001b[39m\u001b[34;01mAsyncChat\u001b[39;00m(\u001b[43mChat\u001b[49m):",
      "\u001b[32m      2\u001b[39m     \u001b[38;5;28;01masync\u001b[39;00m \u001b[38;5;28;01mdef\u001b[39;00m\u001b[38;5;250m \u001b[39m\u001b[34m_call\u001b[39m(\u001b[38;5;28mself\u001b[39m, msg=\u001b[38;5;28;01mNone\u001b[39;00m, prefill=\u001b[38;5;28;01mNone\u001b[39;00m, temp=\u001b[38;5;28;01mNone\u001b[39;00m, think=\u001b[38;5;28;01mNone\u001b[39;00m, stream=\u001b[38;5;28;01mFalse\u001b[39;00m, max_tool_rounds=\u001b[32m1\u001b[39m, tool_round=\u001b[32m0\u001b[39m, final_prompt=\u001b[38;5;28;01mNone\u001b[39;00m, tool_choice=\u001b[38;5;28;01mNone\u001b[39;00m, **kwargs):",
      "\u001b[32m      3\u001b[39m         \u001b[33m\"\u001b[39m\u001b[33mInternal method that always yields responses\u001b[39m\u001b[33m\"\u001b[39m",
      "",
      "\u001b[31mNameError\u001b[39m: name 'Chat' is not defined"
     ]
    }
   ],
   "source": [
    "#| export\n",
    "class AsyncChat(Chat):\n",
    "    async def _call(self, msg=None, prefill=None, temp=None, think=None, stream=False, max_tool_rounds=1, tool_round=0, final_prompt=None, tool_choice=None, **kwargs):\n",
    "        \"Internal method that always yields responses\"\n",
    "        msgs = self._prepare_msgs(msg, prefill)\n",
    "        res = await acompletion(model=self.model, messages=msgs, stream=stream,\n",
    "                         tools=self.tool_schemas, reasoning_effort=effort.get(think), \n",
    "                         # temperature is not supported when reasoning\n",
    "                         temperature=None if think else (temp if temp is not None else self.temp), \n",
    "                         **kwargs)\n",
    "        if stream:\n",
    "            res = astream_result(res, postproc=cite_footnotes)\n",
    "            async for chunk in res: yield chunk\n",
    "            res = res.value\n",
    "        else: add_citations_to_content(res)\n",
    "        \n",
    "        yield res\n",
    "        self.hist.append(m:=res.choices[0].message)\n",
    "\n",
    "        if tcs := m.tool_calls:\n",
    "            tool_results = []\n",
    "            for tc in tcs:\n",
    "                result = await _alite_call_func(tc, ns=self.ns)\n",
    "                tool_results.append(result)\n",
    "                yield result\n",
    "            \n",
    "            if tool_round>=max_tool_rounds-1:\n",
    "                tool_results += ([{\"role\": \"user\", \"content\": final_prompt}] if final_prompt else [])\n",
    "                tool_choice='none'\n",
    "            \n",
    "            async for result in self._call(\n",
    "                # TODO: dont think after tool response?\n",
    "                tool_results, prefill, temp, None, stream, max_tool_rounds, tool_round+1,\n",
    "                final_prompt, tool_choice=tool_choice, **kwargs):\n",
    "                    yield result\n",
    "    \n",
    "    async def __call__(self, msg=None, prefill=None, temp=None, think=None, stream=False, max_tool_rounds=1, final_prompt=None, return_all=False, **kwargs):\n",
    "        \"Main call method - handles streaming vs non-streaming\"\n",
    "        result_gen = self._call(msg, prefill, temp, think, stream, max_tool_rounds, 0, final_prompt, **kwargs)\n",
    "        if stream or return_all: return result_gen\n",
    "        async for res in result_gen: pass\n",
    "        return res # normal chat behavior only return last msg"
   ]
  },
  {
   "cell_type": "markdown",
   "id": "8662f90c",
   "metadata": {
    "input_tokens": 4
   },
   "source": [
    "## Demonstration"
   ]
  },
  {
   "cell_type": "markdown",
   "id": "0d055a48",
   "metadata": {
    "input_tokens": 4
   },
   "source": [
    "### Async chat"
   ]
  },
  {
   "cell_type": "code",
   "execution_count": null,
   "id": "ebf293d2",
   "metadata": {
    "input_tokens": 42,
    "output_tokens": 258
   },
   "outputs": [
    {
     "data": {
      "text/markdown": [
       "2 + 2 = 4\n",
       "\n",
       "<details>\n",
       "\n",
       "- id: `chatcmpl-7c2fa846-571a-45e5-ba78-7c9a4e1ec1db`\n",
       "- model: `claude-sonnet-4-20250514`\n",
       "- finish_reason: `stop`\n",
       "- usage: `Usage(completion_tokens=13, prompt_tokens=14, total_tokens=27, completion_tokens_details=None, prompt_tokens_details=PromptTokensDetailsWrapper(audio_tokens=None, cached_tokens=0, text_tokens=None, image_tokens=None), cache_creation_input_tokens=0, cache_read_input_tokens=0)`\n",
       "\n",
       "</details>"
      ],
      "text/plain": [
       "ModelResponse(id='chatcmpl-7c2fa846-571a-45e5-ba78-7c9a4e1ec1db', created=1757513327, model='claude-sonnet-4-20250514', object='chat.completion', system_fingerprint=None, choices=[Choices(finish_reason='stop', index=0, message=Message(content='2 + 2 = 4', role='assistant', tool_calls=None, function_call=None, provider_specific_fields={'citations': None, 'thinking_blocks': None}))], usage=Usage(completion_tokens=13, prompt_tokens=14, total_tokens=27, completion_tokens_details=None, prompt_tokens_details=PromptTokensDetailsWrapper(audio_tokens=None, cached_tokens=0, text_tokens=None, image_tokens=None), cache_creation_input_tokens=0, cache_read_input_tokens=0))"
      ]
     },
     "execution_count": null,
     "metadata": {},
     "output_type": "execute_result"
    }
   ],
   "source": [
    "chat = AsyncChat(model=\"claude-sonnet-4-20250514\")\n",
    "await chat(\"What is 2+2?\")"
   ]
  },
  {
   "cell_type": "markdown",
   "id": "43c346c4",
   "metadata": {
    "input_tokens": 7
   },
   "source": [
    "### Async chat w tools"
   ]
  },
  {
   "cell_type": "code",
   "execution_count": null,
   "id": "13f37702",
   "metadata": {
    "input_tokens": 79
   },
   "outputs": [],
   "source": [
    "async def async_add(a: int, b: int) -> int:\n",
    "    \"Add two numbers asynchronously\"\n",
    "    print('>>> async add is being called!')\n",
    "    await asyncio.sleep(0.1)  # Simulate async work\n",
    "    return a + b"
   ]
  },
  {
   "cell_type": "code",
   "execution_count": null,
   "id": "00399522",
   "metadata": {
    "input_tokens": 66,
    "output_tokens": 294
   },
   "outputs": [
    {
     "name": "stdout",
     "output_type": "stream",
     "text": [
      ">>> async add is being called!\n"
     ]
    },
    {
     "data": {
      "text/markdown": [
       "The result of 5 + 7 is 12.\n",
       "\n",
       "<details>\n",
       "\n",
       "- id: `chatcmpl-f14af866-4bf5-4f98-98dd-a35e4b97cc52`\n",
       "- model: `claude-sonnet-4-20250514`\n",
       "- finish_reason: `stop`\n",
       "- usage: `Usage(completion_tokens=17, prompt_tokens=528, total_tokens=545, completion_tokens_details=None, prompt_tokens_details=PromptTokensDetailsWrapper(audio_tokens=None, cached_tokens=0, text_tokens=None, image_tokens=None), cache_creation_input_tokens=0, cache_read_input_tokens=0)`\n",
       "\n",
       "</details>"
      ],
      "text/plain": [
       "ModelResponse(id='chatcmpl-f14af866-4bf5-4f98-98dd-a35e4b97cc52', created=1757513330, model='claude-sonnet-4-20250514', object='chat.completion', system_fingerprint=None, choices=[Choices(finish_reason='stop', index=0, message=Message(content='The result of 5 + 7 is 12.', role='assistant', tool_calls=None, function_call=None, provider_specific_fields={'citations': None, 'thinking_blocks': None}))], usage=Usage(completion_tokens=17, prompt_tokens=528, total_tokens=545, completion_tokens_details=None, prompt_tokens_details=PromptTokensDetailsWrapper(audio_tokens=None, cached_tokens=0, text_tokens=None, image_tokens=None), cache_creation_input_tokens=0, cache_read_input_tokens=0))"
      ]
     },
     "execution_count": null,
     "metadata": {},
     "output_type": "execute_result"
    }
   ],
   "source": [
    "chat_with_tools = AsyncChat(model=\"claude-sonnet-4-20250514\", tools=[async_add])\n",
    "await chat_with_tools(\"What is 5 + 7? Use the tool to calculate it.\")"
   ]
  },
  {
   "cell_type": "markdown",
   "id": "6eac5495",
   "metadata": {
    "input_tokens": 6
   },
   "source": [
    "### Streaming Async Chat"
   ]
  },
  {
   "cell_type": "code",
   "execution_count": null,
   "id": "b18cc48e",
   "metadata": {
    "input_tokens": 103
   },
   "outputs": [],
   "source": [
    "chat = AsyncChat(model=\"claude-sonnet-4-20250514\")\n",
    "stream_gen = await chat(\"Count to 50\", stream=True)\n",
    "\n",
    "async for chunk in stream_gen:\n",
    "    if   isinstance(chunk, ModelResponseStream): print(delta_text(chunk) or '',end='')\n",
    "    elif isinstance(chunk, ModelResponse):       display(chunk)"
   ]
  },
  {
   "cell_type": "markdown",
   "id": "4af541c2",
   "metadata": {
    "input_tokens": 9
   },
   "source": [
    "### Streaming Async Chat w tools"
   ]
  },
  {
   "cell_type": "code",
   "execution_count": null,
   "id": "28d3658f",
   "metadata": {
    "input_tokens": 142
   },
   "outputs": [],
   "source": [
    "chat_stream_tools = AsyncChat(model=\"claude-sonnet-4-20250514\", tools=[async_add])\n",
    "stream_gen = await chat_stream_tools(\"What's 15 + 23? Use the tool and then explain the result.\", stream=True)\n",
    "\n",
    "async for chunk in stream_gen:\n",
    "    if isinstance(chunk, ModelResponse): display(chunk)\n",
    "    elif isinstance(chunk,dict): continue  # tool result\n",
    "    else: print(delta_text(chunk) or '', end='')"
   ]
  },
  {
   "cell_type": "markdown",
   "id": "20d916e5",
   "metadata": {
    "input_tokens": 6
   },
   "source": [
    "### Streaming Async Thinking"
   ]
  },
  {
   "cell_type": "code",
   "execution_count": null,
   "id": "acb638d2",
   "metadata": {
    "input_tokens": 132
   },
   "outputs": [],
   "source": [
    "chat = AsyncChat(model=\"claude-sonnet-4-20250514\")\n",
    "res = await chat(\"What's the most efficient way to sort a list of 1000 random integers?\", think='l',stream=True)\n",
    "\n",
    "async for chunk in res:\n",
    "    if isinstance(chunk, ModelResponse): display(chunk)\n",
    "    elif isinstance(chunk,dict): continue  # tool result\n",
    "    else: print(delta_text(chunk) or '', end='')"
   ]
  },
  {
   "cell_type": "markdown",
   "id": "e9c02edd",
   "metadata": {
    "input_tokens": 13
   },
   "source": [
    "## Async Non-Streaming Search w Citations"
   ]
  },
  {
   "cell_type": "code",
   "execution_count": null,
   "id": "286d58d5",
   "metadata": {
    "input_tokens": 115,
    "output_tokens": 897
   },
   "outputs": [
    {
     "data": {
      "text/markdown": [
       "Otters are charismatic members of the weasel family, found on every continent except Australia and Antarctica. There are 13-14 species in total, ranging from the Asian small-clawed otter (smallest) to the giant otter and sea otter (largest).\n",
       "\n",
       "These semi-aquatic mammals have elongated bodies, long tails, and soft, dense fur. Otters have the densest fur of any animal—as many as a million hairs per square inch. They're equipped with powerful webbed feet for swimming and seal-like abilities for holding breath underwater, with river otters able to hold their breath for up to 8 minutes.\n",
       "\n",
       "All otters are expert hunters that eat fish, crustaceans, and other critters. Sea otters have an ingenious method to open shellfish by floating on their backs, placing a rock on their chest, then smashing mollusks against it. They are playful animals, engaging in activities like sliding into water on natural slides.\n",
       "\n",
       "Baby otters stay with their mothers until they're up to a year old, and otters can live up to 16 years. Unfortunately, many species remain at risk from pollution and habitat loss after being extensively hunted for their fur.\n",
       "\n",
       "**Citations:**\n",
       "- [12 Facts About Otters for Sea Otter Awareness Week | U.S. Department of the Interior](https://www.doi.gov/blog/12-facts-about-otters-sea-otter-awareness-week)\n",
       "- [Otter - Wikipedia](https://en.wikipedia.org/wiki/Otter)\n",
       "- [Otter Fact Sheet | Blog | Nature | PBS](https://www.pbs.org/wnet/nature/blog/otter-fact-sheet/)\n",
       "- [Otters, facts and information | National Geographic](https://www.nationalgeographic.com/animals/mammals/facts/otters-1)\n",
       "\n",
       "\n",
       "<details>\n",
       "\n",
       "- id: `chatcmpl-9247db05-bf10-47a7-98a2-948e0e642277`\n",
       "- model: `claude-sonnet-4-20250514`\n",
       "- finish_reason: `stop`\n",
       "- usage: `Usage(completion_tokens=549, prompt_tokens=13316, total_tokens=13865, completion_tokens_details=None, prompt_tokens_details=PromptTokensDetailsWrapper(audio_tokens=None, cached_tokens=0, text_tokens=None, image_tokens=None), server_tool_use=ServerToolUse(web_search_requests=1), cache_creation_input_tokens=0, cache_read_input_tokens=0)`\n",
       "\n",
       "</details>"
      ],
      "text/plain": [
       "ModelResponse(id='chatcmpl-9247db05-bf10-47a7-98a2-948e0e642277', created=1757513505, model='claude-sonnet-4-20250514', object='chat.completion', system_fingerprint=None, choices=[Choices(finish_reason='stop', index=0, message=Message(content=\"Otters are charismatic members of the weasel family, found on every continent except Australia and Antarctica. There are 13-14 species in total, ranging from the Asian small-clawed otter (smallest) to the giant otter and sea otter (largest).\\n\\nThese semi-aquatic mammals have elongated bodies, long tails, and soft, dense fur. Otters have the densest fur of any animal—as many as a million hairs per square inch. They're equipped with powerful webbed feet for swimming and seal-like abilities for holding breath underwater, with river otters able to hold their breath for up to 8 minutes.\\n\\nAll otters are expert hunters that eat fish, crustaceans, and other critters. Sea otters have an ingenious method to open shellfish by floating on their backs, placing a rock on their chest, then smashing mollusks against it. They are playful animals, engaging in activities like sliding into water on natural slides.\\n\\nBaby otters stay with their mothers until they're up to a year old, and otters can live up to 16 years. Unfortunately, many species remain at risk from pollution and habitat loss after being extensively hunted for their fur.\\n\\n**Citations:**\\n- [12 Facts About Otters for Sea Otter Awareness Week | U.S. Department of the Interior](https://www.doi.gov/blog/12-facts-about-otters-sea-otter-awareness-week)\\n- [Otter - Wikipedia](https://en.wikipedia.org/wiki/Otter)\\n- [Otter Fact Sheet | Blog | Nature | PBS](https://www.pbs.org/wnet/nature/blog/otter-fact-sheet/)\\n- [Otters, facts and information | National Geographic](https://www.nationalgeographic.com/animals/mammals/facts/otters-1)\\n\", role='assistant', tool_calls=None, function_call=None, provider_specific_fields={'citations': [[{'type': 'web_search_result_location', 'cited_text': 'The charismatic otter, a member of the weasel family, is found on every continent except Australia and Antarctica. ', 'url': 'https://www.nationalgeographic.com/animals/mammals/facts/otters-1', 'title': 'Otters, facts and information | National Geographic', 'encrypted_index': 'Eo8BCioIBxgCIiQ4ODk4YTFkYy0yMTNkLTRhNmYtOTljYi03ZTBlNTUzZDc0NWISDEXOuaH3wsKjCJBl8hoMYA4N0vFgbFZ6ZVOGIjBLWtwWWJEJhbCAvPNAUkcxfHZeKsL5GWygxqaJkh+qfpnzcdG6s+LutnFm4TA1cM0qE05e8pu1wepLChGUOjvenDq0pTIYBA=='}], [{'type': 'web_search_result_location', 'cited_text': 'There are 13 species in total, ranging from the small-clawed otter to the giant otter.', 'url': 'https://www.nationalgeographic.com/animals/mammals/facts/otters-1', 'title': 'Otters, facts and information | National Geographic', 'encrypted_index': 'Eo8BCioIBxgCIiQ4ODk4YTFkYy0yMTNkLTRhNmYtOTljYi03ZTBlNTUzZDc0NWISDGOBShFgmouK/+Fm4xoML3qSB51iPJUXZyduIjB+Y22E2kI1JnAj9V4amKA96YSSl95z+GXuXxGJ1wj9suYdZkuG+gyJ3pMxZkkaTW8qE2aJ1k1zSXpxMkqg1UlVF0lg9FgYBA=='}, {'type': 'web_search_result_location', 'cited_text': 'There are 14 known species of otters, ranging in size and habitat preferences, with some species adapted to cold waters requiring a high metabolic rat...', 'url': 'https://en.wikipedia.org/wiki/Otter', 'title': 'Otter - Wikipedia', 'encrypted_index': 'Eo8BCioIBxgCIiQ4ODk4YTFkYy0yMTNkLTRhNmYtOTljYi03ZTBlNTUzZDc0NWISDOqq82WF0K8laGcjOxoMme0vLPIKYYKfPaG1IjA6HWpS2cevL4vQuU0AHF/fa4cNIKK9YiEl7icn/7spu3fdpytHyfibq2pZSIWuFUMqE5I53ae8PtiD2/rRGOmRiihJ5S4YBA=='}], [{'type': 'web_search_result_location', 'cited_text': 'The Asian small-clawed otter is the smallest otter species and the giant otter and sea otter are the largest.', 'url': 'https://en.wikipedia.org/wiki/Otter', 'title': 'Otter - Wikipedia', 'encrypted_index': 'EpABCioIBxgCIiQ4ODk4YTFkYy0yMTNkLTRhNmYtOTljYi03ZTBlNTUzZDc0NWISDHN71GHgK+AcpuWv6hoMygrclMCkrHOPBWx2IjBbNJQ9euOaZ1jj1Ww3ADJ0Ym12gYb9K2sKwFdf+QPiCX3qosoO1pHfAHHBFu8t3PkqFAT9VO2jyROIPU5wMMrQdsz/C4gnGAQ='}], [{'type': 'web_search_result_location', 'cited_text': 'Most are small, with short ears and noses, elongated bodies, long tails, and soft, dense fur. ', 'url': 'https://www.nationalgeographic.com/animals/mammals/facts/otters-1', 'title': 'Otters, facts and information | National Geographic', 'encrypted_index': 'Eo8BCioIBxgCIiQ4ODk4YTFkYy0yMTNkLTRhNmYtOTljYi03ZTBlNTUzZDc0NWISDOqlkN8M1C0X5iqw1BoMmiLokdiaX2VuaP54IjBVIV3oenDe8Eg/ZvM+oHBdTSg86H8HwMr3wryzTDGlaf1M3P4Zg2D10vZgYT03L/gqE2jh07Ce9Az2JPTDCrJTRFnXVFIYBA=='}], [{'type': 'web_search_result_location', 'cited_text': 'Otters have the densest fur of any animal—as many as a million hairs per square inch in places. ', 'url': 'https://www.nationalgeographic.com/animals/mammals/facts/otters-1', 'title': 'Otters, facts and information | National Geographic', 'encrypted_index': 'Eo8BCioIBxgCIiQ4ODk4YTFkYy0yMTNkLTRhNmYtOTljYi03ZTBlNTUzZDc0NWISDGyt6XbcMsdGZ6Vu2xoMc/gtDkXylYnXNDgJIjB/WNfKWLc81a1u/rsiN/mXslQeU9+H/I8gCTyJiYAov/USwvZffAH2wk2kKmeSqDYqE1GuLoTvLDw0HzRO4SZASbS3QNAYBA=='}], [{'type': 'web_search_result_location', 'cited_text': 'Their most striking anatomical features are the powerful webbed feet used to swim, and their seal-like abilities for holding breath underwater. ', 'url': 'https://en.wikipedia.org/wiki/Otter', 'title': 'Otter - Wikipedia', 'encrypted_index': 'EpABCioIBxgCIiQ4ODk4YTFkYy0yMTNkLTRhNmYtOTljYi03ZTBlNTUzZDc0NWISDPewlnAEvqbBLnvPeRoMFNwCHApT+TpBHhgFIjDOBjr7OvRTNiXYrPHVtRbSI9HEr+LPxk1Px3RNHCpQOddmxwLaupSuX2rS+oufqxQqFLYl1xJZK+pDgIJX/7DsH/ZcutKuGAQ='}], [{'type': 'web_search_result_location', 'cited_text': 'River otters, however, can hold their breath for up to 8 minutes. ', 'url': 'https://www.doi.gov/blog/12-facts-about-otters-sea-otter-awareness-week', 'title': '12 Facts About Otters for Sea Otter Awareness Week | U.S. Department of the Interior', 'encrypted_index': 'EpABCioIBxgCIiQ4ODk4YTFkYy0yMTNkLTRhNmYtOTljYi03ZTBlNTUzZDc0NWISDHdIEVDYsqxNCgGKTBoM7TAIdbQ8bpKUDxgxIjB9QOJD71ODPVw9ZWdhjAqWjDW0Sq26JCh/UnrPs80YnirGFS9XcxpCIRAjhlWisNcqFOxWqM8EawW0/5HA2lvpGALxnIzvGAQ='}, {'type': 'web_search_result_location', 'cited_text': 'Depending on the species, otters can stay underwater for five to eight minutes. ', 'url': 'https://www.pbs.org/wnet/nature/blog/otter-fact-sheet/', 'title': 'Otter Fact Sheet | Blog | Nature | PBS', 'encrypted_index': 'Eo8BCioIBxgCIiQ4ODk4YTFkYy0yMTNkLTRhNmYtOTljYi03ZTBlNTUzZDc0NWISDAumv4RF3OMUtYJ/YBoMNuzQwejNcK3PAkfNIjBz38DRNbkGctrGtkQTYDmoW6J1XInMIHawsaUkNH3vQmfwCtpbklqOhwq68bMV9yEqE70xwzFAcXnTrn5F2KTTSc2BMDsYBA=='}], [{'type': 'web_search_result_location', 'cited_text': 'All otters are expert hunters that eat fish, crustaceans, and other critters. ', 'url': 'https://www.nationalgeographic.com/animals/mammals/facts/otters-1', 'title': 'Otters, facts and information | National Geographic', 'encrypted_index': 'EpABCioIBxgCIiQ4ODk4YTFkYy0yMTNkLTRhNmYtOTljYi03ZTBlNTUzZDc0NWISDMldRz3UJJnzQSlqLxoM+apJw++b5PnWGXZeIjDhS4gR9iGEBsb/XFOZRxw0DTQ65qGogplXPdHwJQfpv/eQ6nrWUH3tKP/8obvS2FAqFCg0yCA86aNpq4Ya20fEl6dL5dnFGAQ='}], [{'type': 'web_search_result_location', 'cited_text': 'A sea otter will float on its back, place a rock on its chest, then smash the mollusk down on it until it breaks open. ', 'url': 'https://www.nationalgeographic.com/animals/mammals/facts/otters-1', 'title': 'Otters, facts and information | National Geographic', 'encrypted_index': 'EpABCioIBxgCIiQ4ODk4YTFkYy0yMTNkLTRhNmYtOTljYi03ZTBlNTUzZDc0NWISDKxfs+jo57QBzvYyCRoMxYP4qy0f/vInHR7XIjCa0PedhkVdg3W/0FRTBqqmvidZ5F/ahqAUKhWkAdQ9kLYBsH6M0iorLiP6gvf6tXsqFO0pqdcVervp1GAQBV3quKAelCh7GAQ='}], [{'type': 'web_search_result_location', 'cited_text': 'They are playful animals, engaging in activities like sliding into water on natural slides and playing with stones. ', 'url': 'https://en.wikipedia.org/wiki/Otter', 'title': 'Otter - Wikipedia', 'encrypted_index': 'Eo8BCioIBxgCIiQ4ODk4YTFkYy0yMTNkLTRhNmYtOTljYi03ZTBlNTUzZDc0NWISDAEKFzlXOBF8KWlAxRoMl5k95UurYlGsuXMJIjDUgWeCIf2xaITj8mtmn40B89k+sVsqVL6YJbA73cHzdhUkUbD/ta6kEVcfCMFcXE8qE5V4aoZGyst8adNBi60lDlwcRuoYBA=='}], [{'type': 'web_search_result_location', 'cited_text': 'Baby otters, called pups or kittens, stay with their mothers until they’re up to a year old, or until she has another litter. ', 'url': 'https://www.nationalgeographic.com/animals/mammals/facts/otters-1', 'title': 'Otters, facts and information | National Geographic', 'encrypted_index': 'EpABCioIBxgCIiQ4ODk4YTFkYy0yMTNkLTRhNmYtOTljYi03ZTBlNTUzZDc0NWISDOvzx4sD+G9s1O46tRoMUAGQHsarrNv8zf7ZIjCYFOMKyHo4oI9QOrqod/hkXhO8he1zfszWsIMdr4W7FsAmQxKGbVRvoHefYunvUJYqFHeOwUig04sOAWROgXg59D0xebprGAQ='}], [{'type': 'web_search_result_location', 'cited_text': 'Otters live up to 16 years; they are by nature playful, and frolic in the water with their pups. ', 'url': 'https://en.wikipedia.org/wiki/Otter', 'title': 'Otter - Wikipedia', 'encrypted_index': 'EpABCioIBxgCIiQ4ODk4YTFkYy0yMTNkLTRhNmYtOTljYi03ZTBlNTUzZDc0NWISDKbSxl7kyhBCfwrvixoMdKE2G7ij1i93NmRhIjDcpLHszfLmfSSVgU+qfaPY1/gJEeHRq9MKzYmumNVQCJFYwi/DrXeJSLU4ew/3S08qFK9d1KP1iM4L0zwId1eEDdCq7Hb0GAQ='}], [{'type': 'web_search_result_location', 'cited_text': 'Otters and their mustelid relatives were once hunted extensively for their fur, many to the point of near extinction. Despite regulations designed to ...', 'url': 'https://www.nationalgeographic.com/animals/mammals/facts/otters-1', 'title': 'Otters, facts and information | National Geographic', 'encrypted_index': 'EpMBCioIBxgCIiQ4ODk4YTFkYy0yMTNkLTRhNmYtOTljYi03ZTBlNTUzZDc0NWISDNJ9DS44rmnMedmm4hoMj0jI6t64+lWVGwpAIjDWoiSEp2TppMBg8y09o1NgZjSlqfBUjKKmpBfa6uav4vEIDGIzDr04m+YEBtlCwnwqFzyanLCThxjZC5BlleSk11gu3sLuuILlGAQ='}]], 'thinking_blocks': None}))], usage=Usage(completion_tokens=549, prompt_tokens=13316, total_tokens=13865, completion_tokens_details=None, prompt_tokens_details=PromptTokensDetailsWrapper(audio_tokens=None, cached_tokens=0, text_tokens=None, image_tokens=None), server_tool_use=ServerToolUse(web_search_requests=1), cache_creation_input_tokens=0, cache_read_input_tokens=0))"
      ]
     },
     "execution_count": null,
     "metadata": {},
     "output_type": "execute_result"
    }
   ],
   "source": [
    "search_tool = { \"type\": \"web_search_20250305\", \"name\": \"web_search\", \"max_uses\": 3}\n",
    "chat_stream_tools = AsyncChat(model=\"claude-sonnet-4-20250514\", tools=[search_tool])\n",
    "res = await chat_stream_tools(\"Search the web and tell me very briefly about otters\", stream=False)\n",
    "res"
   ]
  },
  {
   "cell_type": "markdown",
   "id": "17f2587e",
   "metadata": {
    "input_tokens": 10
   },
   "source": [
    "## Async Streaming Search w Citations"
   ]
  },
  {
   "cell_type": "code",
   "execution_count": null,
   "id": "4c5b0b4c",
   "metadata": {
    "input_tokens": 181
   },
   "outputs": [],
   "source": [
    "search_tool = { \"type\": \"web_search_20250305\", \"name\": \"web_search\", \"max_uses\": 3}\n",
    "chat_stream_tools = AsyncChat(model=\"claude-sonnet-4-20250514\", tools=[search_tool])\n",
    "stream_gen = await chat_stream_tools(\"Search the web and tell me very briefly about otters\", stream=True)\n",
    "\n",
    "async for chunk in stream_gen:\n",
    "    if isinstance(chunk, ModelResponse): display(chunk)\n",
    "    elif isinstance(chunk,dict): continue  # tool result\n",
    "    else: print(delta_text(chunk) or '', end='')"
   ]
  }
 ],
 "metadata": {
  "solveit_dialog_mode": "learning",
  "solveit_ver": 2
 },
 "nbformat": 4,
 "nbformat_minor": 5
}
