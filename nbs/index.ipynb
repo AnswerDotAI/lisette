{
 "cells": [
  {
   "cell_type": "markdown",
   "id": "0cb9feba",
   "metadata": {},
   "source": [
    "# Lisette\n",
    "\n",
    "> Lisette makes LiteLLM easier to use"
   ]
  },
  {
   "cell_type": "code",
   "execution_count": null,
   "id": "e0f08655",
   "metadata": {},
   "outputs": [],
   "source": [
    "#| hide\n",
    "from cachy import enable_cachy\n",
    "from lisette import patch_litellm"
   ]
  },
  {
   "cell_type": "code",
   "execution_count": null,
   "id": "c11d807e",
   "metadata": {},
   "outputs": [],
   "source": [
    "#| hide\n",
    "enable_cachy()\n",
    "patch_litellm()"
   ]
  },
  {
   "cell_type": "markdown",
   "id": "5935ea64",
   "metadata": {},
   "source": [
    "> **NB**: If you are reading this in GitHub's readme, we recommend you instead read the much more nicely formatted [documentation format](https://lisette.answer.ai/) of this tutorial.\n",
    "\n",
    "_Lisette_ is a wrapper for the [LiteLLM Python SDK](https://docs.litellm.ai/), which provides unified access to 100+ LLM providers using the OpenAI API format.\n",
    "\n",
    "LiteLLM provides a unified interface to access multiple LLMs, but it's quite low level: it leaves the developer to do a lot of stuff manually. Lisette automates pretty much everything that can be automated, whilst providing full control. Amongst the features provided:\n",
    "\n",
    "* A `Chat` class that creates stateful dialogs across any LiteLLM-supported model\n",
    "* Convenient message creation utilities for text, images, and mixed content\n",
    "* Simple and convenient support for tool calling with automatic execution\n",
    "* Built-in support for web search capabilities (including citations for supporting models)\n",
    "* Streaming responses with formatting\n",
    "* Full async support with `AsyncChat`\n",
    "* Prompt caching (for supporting models)\n",
    "\n",
    "To use Lisette, you'll need to set the appropriate API keys as environment variables for whichever LLM providers you want to use."
   ]
  },
  {
   "cell_type": "markdown",
   "id": "5092a496",
   "metadata": {},
   "source": [
    "## Get started\n",
    "\n",
    "LiteLLM will automatically be installed with Lisette, if you don't already have it."
   ]
  },
  {
   "cell_type": "code",
   "execution_count": null,
   "id": "e3f842b6",
   "metadata": {},
   "outputs": [],
   "source": [
    "!pip install lisette -qq"
   ]
  },
  {
   "cell_type": "markdown",
   "id": "8bd64962",
   "metadata": {},
   "source": [
    "Lisette only exports the symbols that are needed to use the library, so you can use import * to import them. Here's a quick example showing how easy it is to switch between different LLM providers:"
   ]
  },
  {
   "cell_type": "code",
   "execution_count": null,
   "id": "eab5f63e",
   "metadata": {},
   "outputs": [],
   "source": [
    "from lisette import *"
   ]
  },
  {
   "cell_type": "markdown",
   "id": "11520215",
   "metadata": {},
   "source": [
    "## Chat"
   ]
  },
  {
   "cell_type": "code",
   "execution_count": null,
   "id": "dbbfd7b8",
   "metadata": {},
   "outputs": [
    {
     "data": {
      "text/markdown": [
       "I'm Claude, an AI assistant created by Anthropic to be helpful, harmless, and honest in conversations and tasks.\n",
       "\n",
       "<details>\n",
       "\n",
       "- id: `chatcmpl-xxx`\n",
       "- model: `claude-sonnet-4-20250514`\n",
       "- finish_reason: `stop`\n",
       "- usage: `Usage(completion_tokens=29, prompt_tokens=17, total_tokens=46, completion_tokens_details=None, prompt_tokens_details=PromptTokensDetailsWrapper(audio_tokens=None, cached_tokens=0, text_tokens=None, image_tokens=None), cache_creation_input_tokens=0, cache_read_input_tokens=0)`\n",
       "\n",
       "</details>"
      ],
      "text/plain": [
       "ModelResponse(id='chatcmpl-xxx', created=1000000000, model='claude-sonnet-4-20250514', object='chat.completion', system_fingerprint=None, choices=[Choices(finish_reason='stop', index=0, message=Message(content=\"I'm Claude, an AI assistant created by Anthropic to be helpful, harmless, and honest in conversations and tasks.\", role='assistant', tool_calls=None, function_call=None, provider_specific_fields={'citations': None, 'thinking_blocks': None}))], usage=Usage(completion_tokens=29, prompt_tokens=17, total_tokens=46, completion_tokens_details=None, prompt_tokens_details=PromptTokensDetailsWrapper(audio_tokens=None, cached_tokens=0, text_tokens=None, image_tokens=None), cache_creation_input_tokens=0, cache_read_input_tokens=0))"
      ]
     },
     "metadata": {},
     "output_type": "display_data"
    },
    {
     "data": {
      "text/markdown": [
       "I am a large language model, trained by Google, designed to assist with information and generate text.\n",
       "\n",
       "<details>\n",
       "\n",
       "- id: `chatcmpl-xxx`\n",
       "- model: `gemini-2.5-flash`\n",
       "- finish_reason: `stop`\n",
       "- usage: `Usage(completion_tokens=603, prompt_tokens=11, total_tokens=614, completion_tokens_details=CompletionTokensDetailsWrapper(accepted_prediction_tokens=None, audio_tokens=None, reasoning_tokens=583, rejected_prediction_tokens=None, text_tokens=20), prompt_tokens_details=PromptTokensDetailsWrapper(audio_tokens=None, cached_tokens=None, text_tokens=11, image_tokens=None))`\n",
       "\n",
       "</details>"
      ],
      "text/plain": [
       "ModelResponse(id='chatcmpl-xxx', created=1000000000, model='gemini-2.5-flash', object='chat.completion', system_fingerprint=None, choices=[Choices(finish_reason='stop', index=0, message=Message(content='I am a large language model, trained by Google, designed to assist with information and generate text.', role='assistant', tool_calls=None, function_call=None, provider_specific_fields=None))], usage=Usage(completion_tokens=603, prompt_tokens=11, total_tokens=614, completion_tokens_details=CompletionTokensDetailsWrapper(accepted_prediction_tokens=None, audio_tokens=None, reasoning_tokens=583, rejected_prediction_tokens=None, text_tokens=20), prompt_tokens_details=PromptTokensDetailsWrapper(audio_tokens=None, cached_tokens=None, text_tokens=11, image_tokens=None)), vertex_ai_grounding_metadata=[], vertex_ai_url_context_metadata=[], vertex_ai_safety_results=[], vertex_ai_citation_metadata=[])"
      ]
     },
     "metadata": {},
     "output_type": "display_data"
    },
    {
     "data": {
      "text/markdown": [
       "I'm an AI language model created by OpenAI, designed to assist with a wide range of questions and tasks by providing information and generating text-based responses.\n",
       "\n",
       "<details>\n",
       "\n",
       "- id: `chatcmpl-xxx`\n",
       "- model: `gpt-4o-2024-08-06`\n",
       "- finish_reason: `stop`\n",
       "- usage: `Usage(completion_tokens=30, prompt_tokens=17, total_tokens=47, completion_tokens_details=CompletionTokensDetailsWrapper(accepted_prediction_tokens=0, audio_tokens=0, reasoning_tokens=0, rejected_prediction_tokens=0, text_tokens=None), prompt_tokens_details=PromptTokensDetailsWrapper(audio_tokens=0, cached_tokens=0, text_tokens=None, image_tokens=None))`\n",
       "\n",
       "</details>"
      ],
      "text/plain": [
       "ModelResponse(id='chatcmpl-xxx', created=1000000000, model='gpt-4o-2024-08-06', object='chat.completion', system_fingerprint='fp_cbf1785567', choices=[Choices(finish_reason='stop', index=0, message=Message(content=\"I'm an AI language model created by OpenAI, designed to assist with a wide range of questions and tasks by providing information and generating text-based responses.\", role='assistant', tool_calls=None, function_call=None, provider_specific_fields={'refusal': None}, annotations=[]), provider_specific_fields={})], usage=Usage(completion_tokens=30, prompt_tokens=17, total_tokens=47, completion_tokens_details=CompletionTokensDetailsWrapper(accepted_prediction_tokens=0, audio_tokens=0, reasoning_tokens=0, rejected_prediction_tokens=0, text_tokens=None), prompt_tokens_details=PromptTokensDetailsWrapper(audio_tokens=0, cached_tokens=0, text_tokens=None, image_tokens=None)), service_tier='default')"
      ]
     },
     "metadata": {},
     "output_type": "display_data"
    }
   ],
   "source": [
    "models = ['claude-sonnet-4-20250514', 'gemini/gemini-2.5-flash', 'openai/gpt-4o']\n",
    "\n",
    "for model in models:\n",
    "    chat = Chat(model)\n",
    "    res = chat(\"Please tell me about yourself in one brief sentence.\")\n",
    "    display(res)"
   ]
  },
  {
   "cell_type": "markdown",
   "id": "c05085ec",
   "metadata": {},
   "source": [
    "That's it! Lisette handles all the provider-specific details automatically. Each model will respond in its own style, but the interface remains the same."
   ]
  },
  {
   "cell_type": "markdown",
   "id": "6a2a544d",
   "metadata": {},
   "source": [
    "## Message formatting"
   ]
  },
  {
   "cell_type": "markdown",
   "id": "493ff5ba",
   "metadata": {},
   "source": [
    "### Multiple messages"
   ]
  },
  {
   "cell_type": "markdown",
   "id": "1cc2397b",
   "metadata": {},
   "source": [
    "Lisette accepts multiple messages in one go:"
   ]
  },
  {
   "cell_type": "code",
   "execution_count": null,
   "id": "f7b5b8c0",
   "metadata": {},
   "outputs": [
    {
     "data": {
      "text/markdown": [
       "Hello! Based on what you just told me, your favorite drink is coffee! ☕\n",
       "\n",
       "<details>\n",
       "\n",
       "- id: `chatcmpl-xxx`\n",
       "- model: `claude-sonnet-4-20250514`\n",
       "- finish_reason: `stop`\n",
       "- usage: `Usage(completion_tokens=22, prompt_tokens=23, total_tokens=45, completion_tokens_details=None, prompt_tokens_details=PromptTokensDetailsWrapper(audio_tokens=None, cached_tokens=0, text_tokens=None, image_tokens=None), cache_creation_input_tokens=0, cache_read_input_tokens=0)`\n",
       "\n",
       "</details>"
      ],
      "text/plain": [
       "ModelResponse(id='chatcmpl-xxx', created=1000000000, model='claude-sonnet-4-20250514', object='chat.completion', system_fingerprint=None, choices=[Choices(finish_reason='stop', index=0, message=Message(content='Hello! Based on what you just told me, your favorite drink is coffee! ☕', role='assistant', tool_calls=None, function_call=None, provider_specific_fields={'citations': None, 'thinking_blocks': None}))], usage=Usage(completion_tokens=22, prompt_tokens=23, total_tokens=45, completion_tokens_details=None, prompt_tokens_details=PromptTokensDetailsWrapper(audio_tokens=None, cached_tokens=0, text_tokens=None, image_tokens=None), cache_creation_input_tokens=0, cache_read_input_tokens=0))"
      ]
     },
     "metadata": {},
     "output_type": "display_data"
    }
   ],
   "source": [
    "chat = Chat(models[0])\n",
    "res = chat(['Hi! My favorite drink coffee.', 'Hello!', 'Whats my favorite drink?'])\n",
    "display(res)"
   ]
  },
  {
   "cell_type": "markdown",
   "id": "31884be4",
   "metadata": {},
   "source": [
    "If you have a pre-existing message history, you can also pass it when you create the `Chat` object:"
   ]
  },
  {
   "cell_type": "code",
   "execution_count": null,
   "id": "b944535d",
   "metadata": {},
   "outputs": [
    {
     "data": {
      "text/markdown": [
       "Your favorite drink is coffee! You just mentioned that in your previous message.\n",
       "\n",
       "<details>\n",
       "\n",
       "- id: `chatcmpl-xxx`\n",
       "- model: `claude-sonnet-4-20250514`\n",
       "- finish_reason: `stop`\n",
       "- usage: `Usage(completion_tokens=18, prompt_tokens=30, total_tokens=48, completion_tokens_details=None, prompt_tokens_details=PromptTokensDetailsWrapper(audio_tokens=None, cached_tokens=0, text_tokens=None, image_tokens=None), cache_creation_input_tokens=0, cache_read_input_tokens=0)`\n",
       "\n",
       "</details>"
      ],
      "text/plain": [
       "ModelResponse(id='chatcmpl-xxx', created=1000000000, model='claude-sonnet-4-20250514', object='chat.completion', system_fingerprint=None, choices=[Choices(finish_reason='stop', index=0, message=Message(content='Your favorite drink is coffee! You just mentioned that in your previous message.', role='assistant', tool_calls=None, function_call=None, provider_specific_fields={'citations': None, 'thinking_blocks': None}))], usage=Usage(completion_tokens=18, prompt_tokens=30, total_tokens=48, completion_tokens_details=None, prompt_tokens_details=PromptTokensDetailsWrapper(audio_tokens=None, cached_tokens=0, text_tokens=None, image_tokens=None), cache_creation_input_tokens=0, cache_read_input_tokens=0))"
      ]
     },
     "metadata": {},
     "output_type": "display_data"
    }
   ],
   "source": [
    "chat = Chat(models[0],hist=['Hi! My favorite drink is coffee.', 'Hello!'])\n",
    "res = chat('Whats my favorite drink?')\n",
    "display(res)"
   ]
  },
  {
   "cell_type": "markdown",
   "id": "63b6ddca",
   "metadata": {},
   "source": [
    "### Images\n",
    "\n",
    "Lisette also makes it easy to include images in your prompts:"
   ]
  },
  {
   "cell_type": "code",
   "execution_count": null,
   "id": "6acd8e99",
   "metadata": {},
   "outputs": [],
   "source": [
    "from pathlib import Path\n",
    "from IPython.display import Image"
   ]
  },
  {
   "cell_type": "code",
   "execution_count": null,
   "id": "61386e80",
   "metadata": {},
   "outputs": [
    {
     "data": {
      "image/jpeg": "[encoded data removed]",
      "text/plain": [
       "<IPython.core.display.Image object>"
      ]
     },
     "execution_count": null,
     "metadata": {},
     "output_type": "execute_result"
    }
   ],
   "source": [
    "fn = Path('samples/puppy.jpg')\n",
    "img = fn.read_bytes()\n",
    "Image(img)"
   ]
  },
  {
   "cell_type": "markdown",
   "id": "0f77415f",
   "metadata": {},
   "source": [
    "All you have to do is read it in as bytes:"
   ]
  },
  {
   "cell_type": "code",
   "execution_count": null,
   "id": "6931d432",
   "metadata": {},
   "outputs": [
    {
     "data": {
      "text/plain": [
       "b'\\xff\\xd8\\xff\\xe0\\x00\\x10JFIF\\x00\\x01\\x01\\x00\\x00\\x01\\x00\\x01\\x00\\x00'"
      ]
     },
     "execution_count": null,
     "metadata": {},
     "output_type": "execute_result"
    }
   ],
   "source": [
    "img[:20]"
   ]
  },
  {
   "cell_type": "markdown",
   "id": "165ab678",
   "metadata": {},
   "source": [
    "And you can pass it inside a `Chat` object:"
   ]
  },
  {
   "cell_type": "code",
   "execution_count": null,
   "id": "e67b03c0",
   "metadata": {},
   "outputs": [
    {
     "data": {
      "text/markdown": [
       "A cute puppy with brown and white fur lying on grass next to purple flowers.\n",
       "\n",
       "<details>\n",
       "\n",
       "- id: `chatcmpl-xxx`\n",
       "- model: `claude-sonnet-4-20250514`\n",
       "- finish_reason: `stop`\n",
       "- usage: `Usage(completion_tokens=20, prompt_tokens=108, total_tokens=128, completion_tokens_details=None, prompt_tokens_details=PromptTokensDetailsWrapper(audio_tokens=None, cached_tokens=0, text_tokens=None, image_tokens=None), cache_creation_input_tokens=0, cache_read_input_tokens=0)`\n",
       "\n",
       "</details>"
      ],
      "text/plain": [
       "ModelResponse(id='chatcmpl-xxx', created=1000000000, model='claude-sonnet-4-20250514', object='chat.completion', system_fingerprint=None, choices=[Choices(finish_reason='stop', index=0, message=Message(content='A cute puppy with brown and white fur lying on grass next to purple flowers.', role='assistant', tool_calls=None, function_call=None, provider_specific_fields={'citations': None, 'thinking_blocks': None}))], usage=Usage(completion_tokens=20, prompt_tokens=108, total_tokens=128, completion_tokens_details=None, prompt_tokens_details=PromptTokensDetailsWrapper(audio_tokens=None, cached_tokens=0, text_tokens=None, image_tokens=None), cache_creation_input_tokens=0, cache_read_input_tokens=0))"
      ]
     },
     "execution_count": null,
     "metadata": {},
     "output_type": "execute_result"
    }
   ],
   "source": [
    "chat = Chat(models[0])\n",
    "chat([img, \"What's in this image? Be brief.\"])"
   ]
  },
  {
   "cell_type": "markdown",
   "id": "d60541b6",
   "metadata": {},
   "source": [
    "### Prefill\n",
    "Some providers (e.g. Anthropic) support `prefill`, allowing you to specify how the assistant's response should begin:\"\n",
    "\n"
   ]
  },
  {
   "cell_type": "code",
   "execution_count": null,
   "id": "c656d876",
   "metadata": {},
   "outputs": [
    {
     "data": {
      "text/markdown": [
       "According to Douglas Adams,it's 42.\n",
       "\n",
       "More seriously, there's no universal answer. Common perspectives include:\n",
       "- Creating meaning through relationships, growth, and contribution\n",
       "- Fulfilling a divine purpose or spiritual calling\n",
       "- Maximizing well-being and minimizing suffering\n",
       "- Leaving a positive legacy\n",
       "- Simply experiencing and appreciating existence itself\n",
       "\n",
       "The meaning might be something you create rather than discover.\n",
       "\n",
       "<details>\n",
       "\n",
       "- id: `chatcmpl-xxx`\n",
       "- model: `claude-sonnet-4-20250514`\n",
       "- finish_reason: `stop`\n",
       "- usage: `Usage(completion_tokens=84, prompt_tokens=24, total_tokens=108, completion_tokens_details=None, prompt_tokens_details=PromptTokensDetailsWrapper(audio_tokens=None, cached_tokens=0, text_tokens=None, image_tokens=None), cache_creation_input_tokens=0, cache_read_input_tokens=0)`\n",
       "\n",
       "</details>"
      ],
      "text/plain": [
       "ModelResponse(id='chatcmpl-xxx', created=1000000000, model='claude-sonnet-4-20250514', object='chat.completion', system_fingerprint=None, choices=[Choices(finish_reason='stop', index=0, message=Message(content=\"According to Douglas Adams,it's 42.\\n\\nMore seriously, there's no universal answer. Common perspectives include:\\n- Creating meaning through relationships, growth, and contribution\\n- Fulfilling a divine purpose or spiritual calling\\n- Maximizing well-being and minimizing suffering\\n- Leaving a positive legacy\\n- Simply experiencing and appreciating existence itself\\n\\nThe meaning might be something you create rather than discover.\", role='assistant', tool_calls=None, function_call=None, provider_specific_fields={'citations': None, 'thinking_blocks': None}))], usage=Usage(completion_tokens=84, prompt_tokens=24, total_tokens=108, completion_tokens_details=None, prompt_tokens_details=PromptTokensDetailsWrapper(audio_tokens=None, cached_tokens=0, text_tokens=None, image_tokens=None), cache_creation_input_tokens=0, cache_read_input_tokens=0))"
      ]
     },
     "execution_count": null,
     "metadata": {},
     "output_type": "execute_result"
    }
   ],
   "source": [
    "chat = Chat(models[0])\n",
    "chat(\"Concisely, what's the meaning of life?\", prefill=\"According to Douglas Adams,\")"
   ]
  },
  {
   "cell_type": "markdown",
   "id": "9113800d",
   "metadata": {},
   "source": [
    "## Tools\n",
    "\n",
    "Lisette makes it easy to give LLMs access to Python functions. Just define a function with type hints and a docstring:"
   ]
  },
  {
   "cell_type": "code",
   "execution_count": null,
   "id": "1cd4546f",
   "metadata": {},
   "outputs": [],
   "source": [
    "def add_numbers(\n",
    "    a: int,  # First number to add\n",
    "    b: int   # Second number to add  \n",
    ") -> int:\n",
    "    \"Add two numbers together\"\n",
    "    return a + b"
   ]
  },
  {
   "cell_type": "markdown",
   "id": "48516950",
   "metadata": {},
   "source": [
    "Now pass the function to `Chat` and the model can use it automatically:"
   ]
  },
  {
   "cell_type": "code",
   "execution_count": null,
   "id": "c4c3baba",
   "metadata": {},
   "outputs": [
    {
     "data": {
      "text/markdown": [
       "\n",
       "\n",
       "The result of 47 + 23 is 70.\n",
       "\n",
       "<details>\n",
       "\n",
       "- id: `chatcmpl-xxx`\n",
       "- model: `claude-sonnet-4-20250514`\n",
       "- finish_reason: `stop`\n",
       "- usage: `Usage(completion_tokens=18, prompt_tokens=573, total_tokens=591, completion_tokens_details=None, prompt_tokens_details=PromptTokensDetailsWrapper(audio_tokens=None, cached_tokens=0, text_tokens=None, image_tokens=None), cache_creation_input_tokens=0, cache_read_input_tokens=0)`\n",
       "\n",
       "</details>"
      ],
      "text/plain": [
       "ModelResponse(id='chatcmpl-xxx', created=1000000000, model='claude-sonnet-4-20250514', object='chat.completion', system_fingerprint=None, choices=[Choices(finish_reason='stop', index=0, message=Message(content='\\n\\nThe result of 47 + 23 is 70.', role='assistant', tool_calls=None, function_call=None, provider_specific_fields={'citations': None, 'thinking_blocks': None}))], usage=Usage(completion_tokens=18, prompt_tokens=573, total_tokens=591, completion_tokens_details=None, prompt_tokens_details=PromptTokensDetailsWrapper(audio_tokens=None, cached_tokens=0, text_tokens=None, image_tokens=None), cache_creation_input_tokens=0, cache_read_input_tokens=0))"
      ]
     },
     "execution_count": null,
     "metadata": {},
     "output_type": "execute_result"
    }
   ],
   "source": [
    "chat = Chat(models[0], tools=[add_numbers])\n",
    "res = chat(\"What's 47 + 23? Use the tool.\")\n",
    "res"
   ]
  },
  {
   "cell_type": "markdown",
   "id": "b6ccc75e",
   "metadata": {},
   "source": [
    "If you want to see all intermediate messages and outputs you can use the `return_all=True` feature."
   ]
  },
  {
   "cell_type": "code",
   "execution_count": null,
   "id": "47775df7",
   "metadata": {},
   "outputs": [
    {
     "data": {
      "text/markdown": [
       "I'll help you calculate 47 + 23 + 59 using the add_numbers tool. Since the tool can only add two numbers at a time, I'll need to do this in two steps.\n",
       "\n",
       "🔧 add_numbers({\"a\": 47, \"b\": 23})\n",
       "\n",
       "\n",
       "<details>\n",
       "\n",
       "- id: `chatcmpl-xxx`\n",
       "- model: `claude-sonnet-4-20250514`\n",
       "- finish_reason: `tool_calls`\n",
       "- usage: `Usage(completion_tokens=116, prompt_tokens=433, total_tokens=549, completion_tokens_details=None, prompt_tokens_details=PromptTokensDetailsWrapper(audio_tokens=None, cached_tokens=0, text_tokens=None, image_tokens=None), cache_creation_input_tokens=0, cache_read_input_tokens=0)`\n",
       "\n",
       "</details>"
      ],
      "text/plain": [
       "ModelResponse(id='chatcmpl-xxx', created=1000000000, model='claude-sonnet-4-20250514', object='chat.completion', system_fingerprint=None, choices=[Choices(finish_reason='tool_calls', index=0, message=Message(content=\"I'll help you calculate 47 + 23 + 59 using the add_numbers tool. Since the tool can only add two numbers at a time, I'll need to do this in two steps.\", role='assistant', tool_calls=[{'index': 1, 'function': {'arguments': '{\"a\": 47, \"b\": 23}', 'name': 'add_numbers'}, 'id': 'toolu_01F9oakoP8ANHkTMD1DyQDi7', 'type': 'function'}], function_call=None, provider_specific_fields={'citations': None, 'thinking_blocks': None}))], usage=Usage(completion_tokens=116, prompt_tokens=433, total_tokens=549, completion_tokens_details=None, prompt_tokens_details=PromptTokensDetailsWrapper(audio_tokens=None, cached_tokens=0, text_tokens=None, image_tokens=None), cache_creation_input_tokens=0, cache_read_input_tokens=0))"
      ]
     },
     "metadata": {},
     "output_type": "display_data"
    },
    {
     "data": {
      "text/plain": [
       "{'tool_call_id': 'toolu_01F9oakoP8ANHkTMD1DyQDi7',\n",
       " 'role': 'tool',\n",
       " 'name': 'add_numbers',\n",
       " 'content': '70'}"
      ]
     },
     "metadata": {},
     "output_type": "display_data"
    },
    {
     "data": {
      "text/markdown": [
       "Now I'll add the result (70) to the third number (59):\n",
       "\n",
       "🔧 add_numbers({\"a\": 70, \"b\": 59})\n",
       "\n",
       "\n",
       "<details>\n",
       "\n",
       "- id: `chatcmpl-xxx`\n",
       "- model: `claude-sonnet-4-20250514`\n",
       "- finish_reason: `tool_calls`\n",
       "- usage: `Usage(completion_tokens=87, prompt_tokens=562, total_tokens=649, completion_tokens_details=None, prompt_tokens_details=PromptTokensDetailsWrapper(audio_tokens=None, cached_tokens=0, text_tokens=None, image_tokens=None), cache_creation_input_tokens=0, cache_read_input_tokens=0)`\n",
       "\n",
       "</details>"
      ],
      "text/plain": [
       "ModelResponse(id='chatcmpl-xxx', created=1000000000, model='claude-sonnet-4-20250514', object='chat.completion', system_fingerprint=None, choices=[Choices(finish_reason='tool_calls', index=0, message=Message(content=\"Now I'll add the result (70) to the third number (59):\", role='assistant', tool_calls=[{'index': 1, 'function': {'arguments': '{\"a\": 70, \"b\": 59}', 'name': 'add_numbers'}, 'id': 'toolu_01Cdf3FHJdbx64F8H8ooE1Db', 'type': 'function'}], function_call=None, provider_specific_fields={'citations': None, 'thinking_blocks': None}))], usage=Usage(completion_tokens=87, prompt_tokens=562, total_tokens=649, completion_tokens_details=None, prompt_tokens_details=PromptTokensDetailsWrapper(audio_tokens=None, cached_tokens=0, text_tokens=None, image_tokens=None), cache_creation_input_tokens=0, cache_read_input_tokens=0))"
      ]
     },
     "metadata": {},
     "output_type": "display_data"
    },
    {
     "data": {
      "text/plain": [
       "{'tool_call_id': 'toolu_01Cdf3FHJdbx64F8H8ooE1Db',\n",
       " 'role': 'tool',\n",
       " 'name': 'add_numbers',\n",
       " 'content': '129'}"
      ]
     },
     "metadata": {},
     "output_type": "display_data"
    },
    {
     "data": {
      "text/markdown": [
       "\n",
       "\n",
       "The answer is **129**.\n",
       "\n",
       "I calculated this by first adding 47 + 23 = 70, then adding 70 + 59 = 129.\n",
       "\n",
       "<details>\n",
       "\n",
       "- id: `chatcmpl-xxx`\n",
       "- model: `claude-sonnet-4-20250514`\n",
       "- finish_reason: `stop`\n",
       "- usage: `Usage(completion_tokens=41, prompt_tokens=702, total_tokens=743, completion_tokens_details=None, prompt_tokens_details=PromptTokensDetailsWrapper(audio_tokens=None, cached_tokens=0, text_tokens=None, image_tokens=None), cache_creation_input_tokens=0, cache_read_input_tokens=0)`\n",
       "\n",
       "</details>"
      ],
      "text/plain": [
       "ModelResponse(id='chatcmpl-xxx', created=1000000000, model='claude-sonnet-4-20250514', object='chat.completion', system_fingerprint=None, choices=[Choices(finish_reason='stop', index=0, message=Message(content='\\n\\nThe answer is **129**.\\n\\nI calculated this by first adding 47 + 23 = 70, then adding 70 + 59 = 129.', role='assistant', tool_calls=None, function_call=None, provider_specific_fields={'citations': None, 'thinking_blocks': None}))], usage=Usage(completion_tokens=41, prompt_tokens=702, total_tokens=743, completion_tokens_details=None, prompt_tokens_details=PromptTokensDetailsWrapper(audio_tokens=None, cached_tokens=0, text_tokens=None, image_tokens=None), cache_creation_input_tokens=0, cache_read_input_tokens=0))"
      ]
     },
     "metadata": {},
     "output_type": "display_data"
    }
   ],
   "source": [
    "chat = Chat(models[0], tools=[add_numbers])\n",
    "res = chat(\"What's 47 + 23 + 59? Use the tool.\",max_steps=3,return_all=True)\n",
    "display(*res)"
   ]
  },
  {
   "cell_type": "markdown",
   "id": "6cdf13fd",
   "metadata": {},
   "source": [
    "It shows the intermediate tool calls, and the tool results!"
   ]
  },
  {
   "cell_type": "markdown",
   "id": "545b8392",
   "metadata": {},
   "source": [
    "## Web search\n",
    "\n",
    "Some models support web search capabilities. Lisette makes this easy to use:"
   ]
  },
  {
   "cell_type": "code",
   "execution_count": null,
   "id": "5d33be9e",
   "metadata": {},
   "outputs": [
    {
     "data": {
      "text/markdown": [
       "Here's a fun fact about otters: Sea otters allow themselves to get entangled in kelp forests - this creates a tether so they don't drift away on sleep currents as they sleep. They essentially use kelp as a natural anchor to stay in place while floating and resting on the water's surface!\n",
       "\n",
       "<details>\n",
       "\n",
       "- id: `chatcmpl-xxx`\n",
       "- model: `claude-sonnet-4-20250514`\n",
       "- finish_reason: `stop`\n",
       "- usage: `Usage(completion_tokens=143, prompt_tokens=15626, total_tokens=15769, completion_tokens_details=None, prompt_tokens_details=PromptTokensDetailsWrapper(audio_tokens=None, cached_tokens=0, text_tokens=None, image_tokens=None), server_tool_use=ServerToolUse(web_search_requests=1), cache_creation_input_tokens=0, cache_read_input_tokens=0)`\n",
       "\n",
       "</details>"
      ],
      "text/plain": [
       "ModelResponse(id='chatcmpl-xxx', created=1000000000, model='claude-sonnet-4-20250514', object='chat.completion', system_fingerprint=None, choices=[Choices(finish_reason='stop', index=0, message=Message(content=\"Here's a fun fact about otters: Sea otters allow themselves to get entangled in kelp forests - this creates a tether so they don't drift away on sleep currents as they sleep. They essentially use kelp as a natural anchor to stay in place while floating and resting on the water's surface!\", role='assistant', tool_calls=None, function_call=None, provider_specific_fields={'citations': [[{'type': 'web_search_result_location', 'cited_text': 'Sea Otters allow themselves to get entangled in kelp forests this creates a tether so they don’t drift away on sleep currents as they sleep. ', 'url': 'https://www.mygreenworld.org/blog/facts-about-otters', 'title': 'Five Fast Facts about Otters — My Green World', 'encrypted_index': 'EpABCioIBxgCIiQ4ODk4YTFkYy0yMTNkLTRhNmYtOTljYi03ZTBlNTUzZDc0NWISDCMi/kxdYrQXVUX+ZxoMVvW3BHE29cyMhwAFIjBZEBw3PaH+XAslsXWMNucD7FqSwe5Fnnsfh2RzTX9x/q9XQ1Mm1Ke6JOreehNzVI0qFDkJYT4NCX8U4CjHHwoyLKtY66vhGAQ='}]], 'thinking_blocks': None}))], usage=Usage(completion_tokens=143, prompt_tokens=15626, total_tokens=15769, completion_tokens_details=None, prompt_tokens_details=PromptTokensDetailsWrapper(audio_tokens=None, cached_tokens=0, text_tokens=None, image_tokens=None), server_tool_use=ServerToolUse(web_search_requests=1), cache_creation_input_tokens=0, cache_read_input_tokens=0))"
      ]
     },
     "execution_count": null,
     "metadata": {},
     "output_type": "execute_result"
    }
   ],
   "source": [
    "chat = Chat(models[0], search='l')  # 'l'ow, 'm'edium, or 'h'igh search context\n",
    "res = chat(\"Please tell me one fun fact about otters. Keep it brief\")\n",
    "res"
   ]
  },
  {
   "cell_type": "markdown",
   "id": "c9fc4bee",
   "metadata": {},
   "source": [
    "::: {.callout-tip}\n",
    "Some providers (like Anthropic) provide citations for their search results.\n",
    ":::"
   ]
  },
  {
   "cell_type": "code",
   "execution_count": null,
   "id": "a3910821",
   "metadata": {},
   "outputs": [
    {
     "data": {
      "text/plain": [
       "{'citations': [[{'type': 'web_search_result_location',\n",
       "    'cited_text': 'Sea Otters allow themselves to get entangled in kelp forests this creates a tether so they don’t drift away on sleep currents as they sleep. ',\n",
       "    'url': 'https://www.mygreenworld.org/blog/facts-about-otters',\n",
       "    'title': 'Five Fast Facts about Otters — My Green World',\n",
       "    'encrypted_index': 'EpABCioIBxgCIiQ4ODk4YTFkYy0yMTNkLTRhNmYtOTljYi03ZTBlNTUzZDc0NWISDCMi/kxdYrQXVUX+ZxoMVvW3BHE29cyMhwAFIjBZEBw3PaH+XAslsXWMNucD7FqSwe5Fnnsfh2RzTX9x/q9XQ1Mm1Ke6JOreehNzVI0qFDkJYT4NCX8U4CjHHwoyLKtY66vhGAQ='}]],\n",
       " 'thinking_blocks': None}"
      ]
     },
     "execution_count": null,
     "metadata": {},
     "output_type": "execute_result"
    }
   ],
   "source": [
    "res.choices[0].message.provider_specific_fields"
   ]
  },
  {
   "cell_type": "markdown",
   "id": "8921940c",
   "metadata": {},
   "source": [
    "## Streaming\n",
    "\n",
    "For real-time responses, use `stream=True` to get chunks as they're generated rather than waiting for the complete response:"
   ]
  },
  {
   "cell_type": "code",
   "execution_count": null,
   "id": "78836deb",
   "metadata": {},
   "outputs": [
    {
     "data": {
      "text/plain": [
       "<generator object Chat._call>"
      ]
     },
     "execution_count": null,
     "metadata": {},
     "output_type": "execute_result"
    }
   ],
   "source": [
    "chat = Chat(models[0])\n",
    "res_gen = chat(\"Concisely, what are the top 10 biggest animals?\", stream=True)\n",
    "res_gen"
   ]
  },
  {
   "cell_type": "code",
   "execution_count": null,
   "id": "cd4f8fa6",
   "metadata": {},
   "outputs": [],
   "source": [
    "from litellm import ModelResponse, ModelResponseStream"
   ]
  },
  {
   "cell_type": "markdown",
   "id": "9804382f",
   "metadata": {},
   "source": [
    "You can loop over the generator to get the partial responses:"
   ]
  },
  {
   "cell_type": "code",
   "execution_count": null,
   "id": "cc81074b",
   "metadata": {},
   "outputs": [
    {
     "name": "stdout",
     "output_type": "stream",
     "text": [
      "Here are the top 10 biggest animals by size/weight:\n",
      "\n",
      "1. **Blue whale** - largest animal ever, up to 100 feet long\n",
      "2. **Fin whale** - second-largest whale, up to 85 feet\n",
      "3. **Bowhead whale** - up to 65 feet, very heavy build\n",
      "4. **Right whale** - up to 60 feet, extremely bulky\n",
      "5. **Sperm whale** - up to 67 feet, largest toothed whale\n",
      "6. **Gray whale** - up to 50 feet\n",
      "7. **Humpback whale** - up to 52 feet\n",
      "8. **African elephant** - largest land animal, up to 13 feet tall\n",
      "9. **Colossal squid** - up to 46 feet long (largest invertebrate)\n",
      "10. **Giraffe** - tallest animal, up to 18 feet tall\n",
      "\n",
      "*Note: Various whale species dominate due to the ocean's ability to support massive body sizes.*None"
     ]
    }
   ],
   "source": [
    "for chunk in res_gen:\n",
    "    if isinstance(chunk,ModelResponseStream): print(chunk.choices[0].delta.content,end='')"
   ]
  },
  {
   "cell_type": "markdown",
   "id": "413b7993",
   "metadata": {},
   "source": [
    "And the final chunk is the complete `ModelResponse`:"
   ]
  },
  {
   "cell_type": "code",
   "execution_count": null,
   "id": "518cda43",
   "metadata": {},
   "outputs": [
    {
     "data": {
      "text/markdown": [
       "Here are the top 10 biggest animals by size/weight:\n",
       "\n",
       "1. **Blue whale** - largest animal ever, up to 100 feet long\n",
       "2. **Fin whale** - second-largest whale, up to 85 feet\n",
       "3. **Bowhead whale** - up to 65 feet, very heavy build\n",
       "4. **Right whale** - up to 60 feet, extremely bulky\n",
       "5. **Sperm whale** - up to 67 feet, largest toothed whale\n",
       "6. **Gray whale** - up to 50 feet\n",
       "7. **Humpback whale** - up to 52 feet\n",
       "8. **African elephant** - largest land animal, up to 13 feet tall\n",
       "9. **Colossal squid** - up to 46 feet long (largest invertebrate)\n",
       "10. **Giraffe** - tallest animal, up to 18 feet tall\n",
       "\n",
       "*Note: Various whale species dominate due to the ocean's ability to support massive body sizes.*\n",
       "\n",
       "<details>\n",
       "\n",
       "- id: `chatcmpl-xxx`\n",
       "- model: `claude-sonnet-4-20250514`\n",
       "- finish_reason: `stop`\n",
       "- usage: `Usage(completion_tokens=233, prompt_tokens=22, total_tokens=255, completion_tokens_details=CompletionTokensDetailsWrapper(accepted_prediction_tokens=None, audio_tokens=None, reasoning_tokens=0, rejected_prediction_tokens=None, text_tokens=None), prompt_tokens_details=None)`\n",
       "\n",
       "</details>"
      ],
      "text/plain": [
       "ModelResponse(id='chatcmpl-xxx', created=1000000000, model='claude-sonnet-4-20250514', object='chat.completion', system_fingerprint=None, choices=[Choices(finish_reason='stop', index=0, message=Message(content=\"Here are the top 10 biggest animals by size/weight:\\n\\n1. **Blue whale** - largest animal ever, up to 100 feet long\\n2. **Fin whale** - second-largest whale, up to 85 feet\\n3. **Bowhead whale** - up to 65 feet, very heavy build\\n4. **Right whale** - up to 60 feet, extremely bulky\\n5. **Sperm whale** - up to 67 feet, largest toothed whale\\n6. **Gray whale** - up to 50 feet\\n7. **Humpback whale** - up to 52 feet\\n8. **African elephant** - largest land animal, up to 13 feet tall\\n9. **Colossal squid** - up to 46 feet long (largest invertebrate)\\n10. **Giraffe** - tallest animal, up to 18 feet tall\\n\\n*Note: Various whale species dominate due to the ocean's ability to support massive body sizes.*\", role='assistant', tool_calls=None, function_call=None, provider_specific_fields=None))], usage=Usage(completion_tokens=233, prompt_tokens=22, total_tokens=255, completion_tokens_details=CompletionTokensDetailsWrapper(accepted_prediction_tokens=None, audio_tokens=None, reasoning_tokens=0, rejected_prediction_tokens=None, text_tokens=None), prompt_tokens_details=None))"
      ]
     },
     "execution_count": null,
     "metadata": {},
     "output_type": "execute_result"
    }
   ],
   "source": [
    "chunk"
   ]
  },
  {
   "cell_type": "markdown",
   "id": "989d475d",
   "metadata": {},
   "source": [
    "## Async\n",
    "\n",
    "For web applications and concurrent operations, like in [FastHTML](https://fastht.ml), we recommend using `AsyncChat`:"
   ]
  },
  {
   "cell_type": "code",
   "execution_count": null,
   "id": "961984e3",
   "metadata": {},
   "outputs": [
    {
     "data": {
      "text/markdown": [
       "Hello! How are you doing today? Is there anything I can help you with?\n",
       "\n",
       "<details>\n",
       "\n",
       "- id: `chatcmpl-xxx`\n",
       "- model: `claude-sonnet-4-20250514`\n",
       "- finish_reason: `stop`\n",
       "- usage: `Usage(completion_tokens=20, prompt_tokens=9, total_tokens=29, completion_tokens_details=None, prompt_tokens_details=PromptTokensDetailsWrapper(audio_tokens=None, cached_tokens=0, text_tokens=None, image_tokens=None), cache_creation_input_tokens=0, cache_read_input_tokens=0)`\n",
       "\n",
       "</details>"
      ],
      "text/plain": [
       "ModelResponse(id='chatcmpl-xxx', created=1000000000, model='claude-sonnet-4-20250514', object='chat.completion', system_fingerprint=None, choices=[Choices(finish_reason='stop', index=0, message=Message(content='Hello! How are you doing today? Is there anything I can help you with?', role='assistant', tool_calls=None, function_call=None, provider_specific_fields={'citations': None, 'thinking_blocks': None}))], usage=Usage(completion_tokens=20, prompt_tokens=9, total_tokens=29, completion_tokens_details=None, prompt_tokens_details=PromptTokensDetailsWrapper(audio_tokens=None, cached_tokens=0, text_tokens=None, image_tokens=None), cache_creation_input_tokens=0, cache_read_input_tokens=0))"
      ]
     },
     "execution_count": null,
     "metadata": {},
     "output_type": "execute_result"
    }
   ],
   "source": [
    "chat = AsyncChat(models[0])\n",
    "await chat(\"Hi there\")"
   ]
  },
  {
   "cell_type": "markdown",
   "id": "085aab41",
   "metadata": {},
   "source": [
    "To wrap up, we'll show an example of async + streaming + toolcalling + search:"
   ]
  },
  {
   "cell_type": "code",
   "execution_count": null,
   "id": "5a1acbf8",
   "metadata": {},
   "outputs": [
    {
     "data": {
      "text/markdown": [
       "Based on the search results:\n",
       "\n",
       "**Male African elephants**: [*](https://www.africa-safaris.com/How-Much-Does-An-Elephant-Weigh \"How Much Does An Elephant Weigh\") [*](https://www.quora.com/What-is-the-average-weight-of-an-adult-African-elephant-in-pounds-and-tons \"What is the average weight of an adult African elephant in pounds and tons? - Quora\") Average weight is 5,000 kg (11,000 pounds)\n",
       "\n",
       "**Male Asian elephants**: [*](https://www.ifaw.org/international/journal/difference-african-asian-elephants \"African Elephants vs. Asian Elephants | IFAW\") [*](https://www.ifaw.org/international/journal/difference-african-asian-elephants \"African Elephants vs. Asian Elephants | IFAW\") Average weight is 3,600 kg (7,900 pounds)\n",
       "<details class='tool-usage-details'>\n",
       "\n",
       " `add_numbers({\"a\": 5000, \"b\": 3600})`\n",
       "  - `8600`\n",
       "\n",
       "</details>\n",
       "\n",
       "**Total**: 8,600 kg"
      ],
      "text/plain": [
       "<IPython.core.display.Markdown object>"
      ]
     },
     "metadata": {},
     "output_type": "display_data"
    }
   ],
   "source": [
    "chat = AsyncChat(models[0], search='l', tools=[add_numbers])\n",
    "res = await chat(\"\"\"\\\n",
    "Search the web for the avg weight, in kgs, of male African and Asian elephants. Then add the two.\n",
    "Keep your replies ultra concise! Dont search the web more than once please.\n",
    "\"\"\", max_steps=4, stream=True)\n",
    "await adisplay_stream(res)  # this is a convenience function to make async streaming look great in notebooks!"
   ]
  },
  {
   "cell_type": "markdown",
   "id": "c0058579",
   "metadata": {},
   "source": [
    "## Next steps\n",
    "\n",
    "Ready to dive deeper?\n",
    "\n",
    "- Check out the rest of the [documentation](https://lisette.answer.ai/core.html).\n",
    "- Visit the [GitHub repository](https://github.com/answerdotai/lisette) to contribute or report issues.\n",
    "- Join our [Discord community](https://discord.gg/y7cDEX7r)!"
   ]
  }
 ],
 "metadata": {
  "kernelspec": {
   "display_name": "python3",
   "language": "python",
   "name": "python3"
  }
 },
 "nbformat": 4,
 "nbformat_minor": 5
}
